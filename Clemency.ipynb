{
 "cells": [
  {
   "cell_type": "code",
   "execution_count": 1,
   "metadata": {},
   "outputs": [],
   "source": [
    "import pandas as pd\n"
   ]
  },
  {
   "cell_type": "code",
   "execution_count": 2,
   "metadata": {},
   "outputs": [],
   "source": [
    "p1=pd.read_csv('presidents_one.csv') #Kaggle has a database of information on presidential clemency (pardons, etc.)"
   ]
  },
  {
   "cell_type": "code",
   "execution_count": 3,
   "metadata": {},
   "outputs": [],
   "source": [
    "p2=pd.read_csv('presidents_two.csv')"
   ]
  },
  {
   "cell_type": "code",
   "execution_count": 4,
   "metadata": {},
   "outputs": [
    {
     "data": {
      "text/plain": [
       "Index(['President', 'Fiscal Year', 'Petitions Pending', 'Petitions Received',\n",
       "       'Petitions Granted', 'Pardons', 'Commutations', 'Respites',\n",
       "       'Remissions', 'Petitions Denied',\n",
       "       'Petitions Closed Without Presidential Action',\n",
       "       'Petitions Denied or Closed Without Presidential Action'],\n",
       "      dtype='object')"
      ]
     },
     "execution_count": 4,
     "metadata": {},
     "output_type": "execute_result"
    }
   ],
   "source": [
    "p1.columns"
   ]
  },
  {
   "cell_type": "code",
   "execution_count": 5,
   "metadata": {},
   "outputs": [
    {
     "data": {
      "text/plain": [
       "Index(['President', 'Fiscal Year', 'Petitions Pending (Pardons)',\n",
       "       'Petitions Pending (Commutations)', 'Petitions Received (Pardons)',\n",
       "       'Petitions Received (Commutations)', 'Petitions Granted', 'Pardons',\n",
       "       'Commutations', 'Remissions', 'Petitions Denied (Pardons)',\n",
       "       'Petitions Denied (Commutations)',\n",
       "       'Petitions Closed Without Presidential Action (Pardons)',\n",
       "       'Petitions Closed Without Presidential Action (Commutations)',\n",
       "       'Petitions Denied or Closed Without Presidential Action (Pardons)',\n",
       "       'Petitions Denied or Closed Without Presidential Action (Commutations)'],\n",
       "      dtype='object')"
      ]
     },
     "execution_count": 5,
     "metadata": {},
     "output_type": "execute_result"
    }
   ],
   "source": [
    "p2.columns"
   ]
  },
  {
   "cell_type": "code",
   "execution_count": 6,
   "metadata": {},
   "outputs": [
    {
     "data": {
      "text/html": [
       "<div>\n",
       "<style scoped>\n",
       "    .dataframe tbody tr th:only-of-type {\n",
       "        vertical-align: middle;\n",
       "    }\n",
       "\n",
       "    .dataframe tbody tr th {\n",
       "        vertical-align: top;\n",
       "    }\n",
       "\n",
       "    .dataframe thead th {\n",
       "        text-align: right;\n",
       "    }\n",
       "</style>\n",
       "<table border=\"1\" class=\"dataframe\">\n",
       "  <thead>\n",
       "    <tr style=\"text-align: right;\">\n",
       "      <th></th>\n",
       "      <th>President</th>\n",
       "      <th>Fiscal Year</th>\n",
       "      <th>Petitions Pending</th>\n",
       "      <th>Petitions Received</th>\n",
       "      <th>Petitions Granted</th>\n",
       "      <th>Pardons</th>\n",
       "      <th>Commutations</th>\n",
       "      <th>Respites</th>\n",
       "      <th>Remissions</th>\n",
       "      <th>Petitions Denied</th>\n",
       "      <th>Petitions Closed Without Presidential Action</th>\n",
       "      <th>Petitions Denied or Closed Without Presidential Action</th>\n",
       "    </tr>\n",
       "  </thead>\n",
       "  <tbody>\n",
       "    <tr>\n",
       "      <th>0</th>\n",
       "      <td>William McKinley</td>\n",
       "      <td>1900</td>\n",
       "      <td>68</td>\n",
       "      <td>677</td>\n",
       "      <td>220</td>\n",
       "      <td>129</td>\n",
       "      <td>73</td>\n",
       "      <td>4.0</td>\n",
       "      <td>14</td>\n",
       "      <td>131.0</td>\n",
       "      <td>332.0</td>\n",
       "      <td>NaN</td>\n",
       "    </tr>\n",
       "    <tr>\n",
       "      <th>1</th>\n",
       "      <td>William McKinley</td>\n",
       "      <td>1901</td>\n",
       "      <td>45</td>\n",
       "      <td>796</td>\n",
       "      <td>226</td>\n",
       "      <td>162</td>\n",
       "      <td>50</td>\n",
       "      <td>2.0</td>\n",
       "      <td>12</td>\n",
       "      <td>117.0</td>\n",
       "      <td>448.0</td>\n",
       "      <td>NaN</td>\n",
       "    </tr>\n",
       "    <tr>\n",
       "      <th>2</th>\n",
       "      <td>Theodore Roosevelt</td>\n",
       "      <td>1902</td>\n",
       "      <td>50</td>\n",
       "      <td>738</td>\n",
       "      <td>134</td>\n",
       "      <td>92</td>\n",
       "      <td>36</td>\n",
       "      <td>0.0</td>\n",
       "      <td>6</td>\n",
       "      <td>181.0</td>\n",
       "      <td>366.0</td>\n",
       "      <td>NaN</td>\n",
       "    </tr>\n",
       "    <tr>\n",
       "      <th>3</th>\n",
       "      <td>Theodore Roosevelt</td>\n",
       "      <td>1903</td>\n",
       "      <td>107</td>\n",
       "      <td>543</td>\n",
       "      <td>134</td>\n",
       "      <td>70</td>\n",
       "      <td>57</td>\n",
       "      <td>0.0</td>\n",
       "      <td>7</td>\n",
       "      <td>131.0</td>\n",
       "      <td>316.0</td>\n",
       "      <td>NaN</td>\n",
       "    </tr>\n",
       "    <tr>\n",
       "      <th>4</th>\n",
       "      <td>Theodore Roosevelt</td>\n",
       "      <td>1904</td>\n",
       "      <td>69</td>\n",
       "      <td>585</td>\n",
       "      <td>162</td>\n",
       "      <td>87</td>\n",
       "      <td>62</td>\n",
       "      <td>2.0</td>\n",
       "      <td>11</td>\n",
       "      <td>122.0</td>\n",
       "      <td>278.0</td>\n",
       "      <td>NaN</td>\n",
       "    </tr>\n",
       "  </tbody>\n",
       "</table>\n",
       "</div>"
      ],
      "text/plain": [
       "            President  Fiscal Year  Petitions Pending  Petitions Received  \\\n",
       "0    William McKinley         1900                 68                 677   \n",
       "1    William McKinley         1901                 45                 796   \n",
       "2  Theodore Roosevelt         1902                 50                 738   \n",
       "3  Theodore Roosevelt         1903                107                 543   \n",
       "4  Theodore Roosevelt         1904                 69                 585   \n",
       "\n",
       "   Petitions Granted  Pardons  Commutations  Respites  Remissions  \\\n",
       "0                220      129            73       4.0          14   \n",
       "1                226      162            50       2.0          12   \n",
       "2                134       92            36       0.0           6   \n",
       "3                134       70            57       0.0           7   \n",
       "4                162       87            62       2.0          11   \n",
       "\n",
       "   Petitions Denied  Petitions Closed Without Presidential Action  \\\n",
       "0             131.0                                         332.0   \n",
       "1             117.0                                         448.0   \n",
       "2             181.0                                         366.0   \n",
       "3             131.0                                         316.0   \n",
       "4             122.0                                         278.0   \n",
       "\n",
       "   Petitions Denied or Closed Without Presidential Action  \n",
       "0                                                NaN       \n",
       "1                                                NaN       \n",
       "2                                                NaN       \n",
       "3                                                NaN       \n",
       "4                                                NaN       "
      ]
     },
     "execution_count": 6,
     "metadata": {},
     "output_type": "execute_result"
    }
   ],
   "source": [
    "p1[:5]"
   ]
  },
  {
   "cell_type": "code",
   "execution_count": 7,
   "metadata": {},
   "outputs": [
    {
     "data": {
      "text/html": [
       "<div>\n",
       "<style scoped>\n",
       "    .dataframe tbody tr th:only-of-type {\n",
       "        vertical-align: middle;\n",
       "    }\n",
       "\n",
       "    .dataframe tbody tr th {\n",
       "        vertical-align: top;\n",
       "    }\n",
       "\n",
       "    .dataframe thead th {\n",
       "        text-align: right;\n",
       "    }\n",
       "</style>\n",
       "<table border=\"1\" class=\"dataframe\">\n",
       "  <thead>\n",
       "    <tr style=\"text-align: right;\">\n",
       "      <th></th>\n",
       "      <th>President</th>\n",
       "      <th>Fiscal Year</th>\n",
       "      <th>Petitions Pending (Pardons)</th>\n",
       "      <th>Petitions Pending (Commutations)</th>\n",
       "      <th>Petitions Received (Pardons)</th>\n",
       "      <th>Petitions Received (Commutations)</th>\n",
       "      <th>Petitions Granted</th>\n",
       "      <th>Pardons</th>\n",
       "      <th>Commutations</th>\n",
       "      <th>Remissions</th>\n",
       "      <th>Petitions Denied (Pardons)</th>\n",
       "      <th>Petitions Denied (Commutations)</th>\n",
       "      <th>Petitions Closed Without Presidential Action (Pardons)</th>\n",
       "      <th>Petitions Closed Without Presidential Action (Commutations)</th>\n",
       "      <th>Petitions Denied or Closed Without Presidential Action (Pardons)</th>\n",
       "      <th>Petitions Denied or Closed Without Presidential Action (Commutations)</th>\n",
       "    </tr>\n",
       "  </thead>\n",
       "  <tbody>\n",
       "    <tr>\n",
       "      <th>0</th>\n",
       "      <td>Lyndon B. Johnson</td>\n",
       "      <td>1967</td>\n",
       "      <td>532</td>\n",
       "      <td>109</td>\n",
       "      <td>419.0</td>\n",
       "      <td>444.0</td>\n",
       "      <td>245</td>\n",
       "      <td>222</td>\n",
       "      <td>23</td>\n",
       "      <td>0</td>\n",
       "      <td>NaN</td>\n",
       "      <td>NaN</td>\n",
       "      <td>NaN</td>\n",
       "      <td>NaN</td>\n",
       "      <td>147.0</td>\n",
       "      <td>373.0</td>\n",
       "    </tr>\n",
       "    <tr>\n",
       "      <th>1</th>\n",
       "      <td>Lyndon B. Johnson</td>\n",
       "      <td>1968</td>\n",
       "      <td>582</td>\n",
       "      <td>157</td>\n",
       "      <td>409.0</td>\n",
       "      <td>340.0</td>\n",
       "      <td>16</td>\n",
       "      <td>13</td>\n",
       "      <td>3</td>\n",
       "      <td>0</td>\n",
       "      <td>NaN</td>\n",
       "      <td>NaN</td>\n",
       "      <td>NaN</td>\n",
       "      <td>NaN</td>\n",
       "      <td>106.0</td>\n",
       "      <td>309.0</td>\n",
       "    </tr>\n",
       "    <tr>\n",
       "      <th>2</th>\n",
       "      <td>Lyndon B. Johnson</td>\n",
       "      <td>1969</td>\n",
       "      <td>872</td>\n",
       "      <td>185</td>\n",
       "      <td>278.0</td>\n",
       "      <td>195.0</td>\n",
       "      <td>0</td>\n",
       "      <td>0</td>\n",
       "      <td>0</td>\n",
       "      <td>0</td>\n",
       "      <td>NaN</td>\n",
       "      <td>NaN</td>\n",
       "      <td>NaN</td>\n",
       "      <td>NaN</td>\n",
       "      <td>129.0</td>\n",
       "      <td>196.0</td>\n",
       "    </tr>\n",
       "    <tr>\n",
       "      <th>3</th>\n",
       "      <td>Richard M. Nixon</td>\n",
       "      <td>1969</td>\n",
       "      <td>1021</td>\n",
       "      <td>184</td>\n",
       "      <td>136.0</td>\n",
       "      <td>115.0</td>\n",
       "      <td>0</td>\n",
       "      <td>0</td>\n",
       "      <td>0</td>\n",
       "      <td>0</td>\n",
       "      <td>NaN</td>\n",
       "      <td>NaN</td>\n",
       "      <td>NaN</td>\n",
       "      <td>NaN</td>\n",
       "      <td>123.0</td>\n",
       "      <td>57.0</td>\n",
       "    </tr>\n",
       "    <tr>\n",
       "      <th>4</th>\n",
       "      <td>Richard M. Nixon</td>\n",
       "      <td>1970</td>\n",
       "      <td>1034</td>\n",
       "      <td>242</td>\n",
       "      <td>337.0</td>\n",
       "      <td>122.0</td>\n",
       "      <td>96</td>\n",
       "      <td>82</td>\n",
       "      <td>14</td>\n",
       "      <td>0</td>\n",
       "      <td>NaN</td>\n",
       "      <td>NaN</td>\n",
       "      <td>NaN</td>\n",
       "      <td>NaN</td>\n",
       "      <td>432.0</td>\n",
       "      <td>266.0</td>\n",
       "    </tr>\n",
       "  </tbody>\n",
       "</table>\n",
       "</div>"
      ],
      "text/plain": [
       "           President  Fiscal Year  Petitions Pending (Pardons)  \\\n",
       "0  Lyndon B. Johnson         1967                          532   \n",
       "1  Lyndon B. Johnson         1968                          582   \n",
       "2  Lyndon B. Johnson         1969                          872   \n",
       "3   Richard M. Nixon         1969                         1021   \n",
       "4   Richard M. Nixon         1970                         1034   \n",
       "\n",
       "   Petitions Pending (Commutations)  Petitions Received (Pardons)  \\\n",
       "0                               109                         419.0   \n",
       "1                               157                         409.0   \n",
       "2                               185                         278.0   \n",
       "3                               184                         136.0   \n",
       "4                               242                         337.0   \n",
       "\n",
       "   Petitions Received (Commutations)  Petitions Granted  Pardons  \\\n",
       "0                              444.0                245      222   \n",
       "1                              340.0                 16       13   \n",
       "2                              195.0                  0        0   \n",
       "3                              115.0                  0        0   \n",
       "4                              122.0                 96       82   \n",
       "\n",
       "   Commutations  Remissions  Petitions Denied (Pardons)  \\\n",
       "0            23           0                         NaN   \n",
       "1             3           0                         NaN   \n",
       "2             0           0                         NaN   \n",
       "3             0           0                         NaN   \n",
       "4            14           0                         NaN   \n",
       "\n",
       "   Petitions Denied (Commutations)  \\\n",
       "0                              NaN   \n",
       "1                              NaN   \n",
       "2                              NaN   \n",
       "3                              NaN   \n",
       "4                              NaN   \n",
       "\n",
       "   Petitions Closed Without Presidential Action (Pardons)  \\\n",
       "0                                                NaN        \n",
       "1                                                NaN        \n",
       "2                                                NaN        \n",
       "3                                                NaN        \n",
       "4                                                NaN        \n",
       "\n",
       "   Petitions Closed Without Presidential Action (Commutations)  \\\n",
       "0                                                NaN             \n",
       "1                                                NaN             \n",
       "2                                                NaN             \n",
       "3                                                NaN             \n",
       "4                                                NaN             \n",
       "\n",
       "   Petitions Denied or Closed Without Presidential Action (Pardons)  \\\n",
       "0                                              147.0                  \n",
       "1                                              106.0                  \n",
       "2                                              129.0                  \n",
       "3                                              123.0                  \n",
       "4                                              432.0                  \n",
       "\n",
       "   Petitions Denied or Closed Without Presidential Action (Commutations)  \n",
       "0                                              373.0                      \n",
       "1                                              309.0                      \n",
       "2                                              196.0                      \n",
       "3                                               57.0                      \n",
       "4                                              266.0                      "
      ]
     },
     "execution_count": 7,
     "metadata": {},
     "output_type": "execute_result"
    }
   ],
   "source": [
    "p2[:5]"
   ]
  },
  {
   "cell_type": "code",
   "execution_count": 8,
   "metadata": {},
   "outputs": [],
   "source": [
    "#Note that 'petitions granted' is a sum of pardons, commutations, remissions, and (in the case of the early data) respites."
   ]
  },
  {
   "cell_type": "code",
   "execution_count": 9,
   "metadata": {},
   "outputs": [
    {
     "data": {
      "text/plain": [
       "Respites                                                  25\n",
       "Petitions Denied                                          25\n",
       "Petitions Closed Without Presidential Action              25\n",
       "Petitions Denied or Closed Without Presidential Action    46\n",
       "dtype: int64"
      ]
     },
     "execution_count": 9,
     "metadata": {},
     "output_type": "execute_result"
    }
   ],
   "source": [
    "p1null=p1.columns[p1.isnull().any()]\n",
    "p1[p1null].isnull().sum()"
   ]
  },
  {
   "cell_type": "code",
   "execution_count": 10,
   "metadata": {},
   "outputs": [
    {
     "data": {
      "text/plain": [
       "(71, 12)"
      ]
     },
     "execution_count": 10,
     "metadata": {},
     "output_type": "execute_result"
    }
   ],
   "source": [
    "p1.shape"
   ]
  },
  {
   "cell_type": "code",
   "execution_count": 11,
   "metadata": {},
   "outputs": [],
   "source": [
    "#Note that the 71 rows in p1 include 25 where respites/petitions denied/petitions closed without presidential action are null\n",
    "#and 46 where petitions denied or closed without presidential action are null"
   ]
  },
  {
   "cell_type": "code",
   "execution_count": 12,
   "metadata": {},
   "outputs": [
    {
     "data": {
      "text/plain": [
       "Petitions Received (Pardons)                                              1\n",
       "Petitions Received (Commutations)                                         1\n",
       "Petitions Denied (Pardons)                                               13\n",
       "Petitions Denied (Commutations)                                          13\n",
       "Petitions Closed Without Presidential Action (Pardons)                   13\n",
       "Petitions Closed Without Presidential Action (Commutations)              13\n",
       "Petitions Denied or Closed Without Presidential Action (Pardons)         46\n",
       "Petitions Denied or Closed Without Presidential Action (Commutations)    46\n",
       "dtype: int64"
      ]
     },
     "execution_count": 12,
     "metadata": {},
     "output_type": "execute_result"
    }
   ],
   "source": [
    "p2null=p2.columns[p2.isnull().any()]\n",
    "p2[p2null].isnull().sum()"
   ]
  },
  {
   "cell_type": "code",
   "execution_count": 13,
   "metadata": {},
   "outputs": [
    {
     "data": {
      "text/plain": [
       "(59, 16)"
      ]
     },
     "execution_count": 13,
     "metadata": {},
     "output_type": "execute_result"
    }
   ],
   "source": [
    "p2.shape"
   ]
  },
  {
   "cell_type": "code",
   "execution_count": 14,
   "metadata": {},
   "outputs": [],
   "source": [
    "#Likewise, p2's 59 rows include 46 where petitions denied or closed without presidential action (pardons) \n",
    "#and petitions denied or closed without presidential action (commutations) are null, and 13 where petitions denied (pardons),\n",
    "#petitions denied (commutations), petitions closed without presidential action (pardons), and petitions closed without \n",
    "#presidential action (commutations) are null. "
   ]
  },
  {
   "cell_type": "code",
   "execution_count": 15,
   "metadata": {},
   "outputs": [],
   "source": [
    "#p2 also includes one row where Petitions Received (Pardons) and Petitions Received (Commutations) are null. Why?"
   ]
  },
  {
   "cell_type": "code",
   "execution_count": 16,
   "metadata": {},
   "outputs": [
    {
     "data": {
      "text/html": [
       "<div>\n",
       "<style scoped>\n",
       "    .dataframe tbody tr th:only-of-type {\n",
       "        vertical-align: middle;\n",
       "    }\n",
       "\n",
       "    .dataframe tbody tr th {\n",
       "        vertical-align: top;\n",
       "    }\n",
       "\n",
       "    .dataframe thead th {\n",
       "        text-align: right;\n",
       "    }\n",
       "</style>\n",
       "<table border=\"1\" class=\"dataframe\">\n",
       "  <thead>\n",
       "    <tr style=\"text-align: right;\">\n",
       "      <th></th>\n",
       "      <th>President</th>\n",
       "      <th>Fiscal Year</th>\n",
       "      <th>Petitions Pending (Pardons)</th>\n",
       "      <th>Petitions Pending (Commutations)</th>\n",
       "      <th>Petitions Received (Pardons)</th>\n",
       "      <th>Petitions Received (Commutations)</th>\n",
       "      <th>Petitions Granted</th>\n",
       "      <th>Pardons</th>\n",
       "      <th>Commutations</th>\n",
       "      <th>Remissions</th>\n",
       "      <th>Petitions Denied (Pardons)</th>\n",
       "      <th>Petitions Denied (Commutations)</th>\n",
       "      <th>Petitions Closed Without Presidential Action (Pardons)</th>\n",
       "      <th>Petitions Closed Without Presidential Action (Commutations)</th>\n",
       "      <th>Petitions Denied or Closed Without Presidential Action (Pardons)</th>\n",
       "      <th>Petitions Denied or Closed Without Presidential Action (Commutations)</th>\n",
       "    </tr>\n",
       "  </thead>\n",
       "  <tbody>\n",
       "    <tr>\n",
       "      <th>9</th>\n",
       "      <td>Richard M. Nixon</td>\n",
       "      <td>1975</td>\n",
       "      <td>207</td>\n",
       "      <td>49</td>\n",
       "      <td>NaN</td>\n",
       "      <td>NaN</td>\n",
       "      <td>0</td>\n",
       "      <td>0</td>\n",
       "      <td>0</td>\n",
       "      <td>0</td>\n",
       "      <td>NaN</td>\n",
       "      <td>NaN</td>\n",
       "      <td>NaN</td>\n",
       "      <td>NaN</td>\n",
       "      <td>0.0</td>\n",
       "      <td>0.0</td>\n",
       "    </tr>\n",
       "  </tbody>\n",
       "</table>\n",
       "</div>"
      ],
      "text/plain": [
       "          President  Fiscal Year  Petitions Pending (Pardons)  \\\n",
       "9  Richard M. Nixon         1975                          207   \n",
       "\n",
       "   Petitions Pending (Commutations)  Petitions Received (Pardons)  \\\n",
       "9                                49                           NaN   \n",
       "\n",
       "   Petitions Received (Commutations)  Petitions Granted  Pardons  \\\n",
       "9                                NaN                  0        0   \n",
       "\n",
       "   Commutations  Remissions  Petitions Denied (Pardons)  \\\n",
       "9             0           0                         NaN   \n",
       "\n",
       "   Petitions Denied (Commutations)  \\\n",
       "9                              NaN   \n",
       "\n",
       "   Petitions Closed Without Presidential Action (Pardons)  \\\n",
       "9                                                NaN        \n",
       "\n",
       "   Petitions Closed Without Presidential Action (Commutations)  \\\n",
       "9                                                NaN             \n",
       "\n",
       "   Petitions Denied or Closed Without Presidential Action (Pardons)  \\\n",
       "9                                                0.0                  \n",
       "\n",
       "   Petitions Denied or Closed Without Presidential Action (Commutations)  \n",
       "9                                                0.0                      "
      ]
     },
     "execution_count": 16,
     "metadata": {},
     "output_type": "execute_result"
    }
   ],
   "source": [
    "p2[p2['Petitions Received (Pardons)'].isnull()]"
   ]
  },
  {
   "cell_type": "code",
   "execution_count": 17,
   "metadata": {},
   "outputs": [
    {
     "data": {
      "text/html": [
       "<div>\n",
       "<style scoped>\n",
       "    .dataframe tbody tr th:only-of-type {\n",
       "        vertical-align: middle;\n",
       "    }\n",
       "\n",
       "    .dataframe tbody tr th {\n",
       "        vertical-align: top;\n",
       "    }\n",
       "\n",
       "    .dataframe thead th {\n",
       "        text-align: right;\n",
       "    }\n",
       "</style>\n",
       "<table border=\"1\" class=\"dataframe\">\n",
       "  <thead>\n",
       "    <tr style=\"text-align: right;\">\n",
       "      <th></th>\n",
       "      <th>President</th>\n",
       "      <th>Fiscal Year</th>\n",
       "      <th>Petitions Pending (Pardons)</th>\n",
       "      <th>Petitions Pending (Commutations)</th>\n",
       "      <th>Petitions Received (Pardons)</th>\n",
       "      <th>Petitions Received (Commutations)</th>\n",
       "      <th>Petitions Granted</th>\n",
       "      <th>Pardons</th>\n",
       "      <th>Commutations</th>\n",
       "      <th>Remissions</th>\n",
       "      <th>Petitions Denied (Pardons)</th>\n",
       "      <th>Petitions Denied (Commutations)</th>\n",
       "      <th>Petitions Closed Without Presidential Action (Pardons)</th>\n",
       "      <th>Petitions Closed Without Presidential Action (Commutations)</th>\n",
       "      <th>Petitions Denied or Closed Without Presidential Action (Pardons)</th>\n",
       "      <th>Petitions Denied or Closed Without Presidential Action (Commutations)</th>\n",
       "    </tr>\n",
       "  </thead>\n",
       "  <tbody>\n",
       "    <tr>\n",
       "      <th>8</th>\n",
       "      <td>Richard M. Nixon</td>\n",
       "      <td>1974</td>\n",
       "      <td>312</td>\n",
       "      <td>50</td>\n",
       "      <td>291.0</td>\n",
       "      <td>135.0</td>\n",
       "      <td>195</td>\n",
       "      <td>187</td>\n",
       "      <td>8</td>\n",
       "      <td>0</td>\n",
       "      <td>NaN</td>\n",
       "      <td>NaN</td>\n",
       "      <td>NaN</td>\n",
       "      <td>NaN</td>\n",
       "      <td>209.0</td>\n",
       "      <td>128.0</td>\n",
       "    </tr>\n",
       "    <tr>\n",
       "      <th>9</th>\n",
       "      <td>Richard M. Nixon</td>\n",
       "      <td>1975</td>\n",
       "      <td>207</td>\n",
       "      <td>49</td>\n",
       "      <td>NaN</td>\n",
       "      <td>NaN</td>\n",
       "      <td>0</td>\n",
       "      <td>0</td>\n",
       "      <td>0</td>\n",
       "      <td>0</td>\n",
       "      <td>NaN</td>\n",
       "      <td>NaN</td>\n",
       "      <td>NaN</td>\n",
       "      <td>NaN</td>\n",
       "      <td>0.0</td>\n",
       "      <td>0.0</td>\n",
       "    </tr>\n",
       "    <tr>\n",
       "      <th>10</th>\n",
       "      <td>Gerald R. Ford</td>\n",
       "      <td>1975</td>\n",
       "      <td>207</td>\n",
       "      <td>49</td>\n",
       "      <td>351.0</td>\n",
       "      <td>259.0</td>\n",
       "      <td>156</td>\n",
       "      <td>147</td>\n",
       "      <td>5</td>\n",
       "      <td>4</td>\n",
       "      <td>NaN</td>\n",
       "      <td>NaN</td>\n",
       "      <td>NaN</td>\n",
       "      <td>NaN</td>\n",
       "      <td>166.0</td>\n",
       "      <td>159.0</td>\n",
       "    </tr>\n",
       "    <tr>\n",
       "      <th>11</th>\n",
       "      <td>Gerald R. Ford</td>\n",
       "      <td>1976</td>\n",
       "      <td>245</td>\n",
       "      <td>140</td>\n",
       "      <td>502.0</td>\n",
       "      <td>240.0</td>\n",
       "      <td>117</td>\n",
       "      <td>106</td>\n",
       "      <td>11</td>\n",
       "      <td>0</td>\n",
       "      <td>NaN</td>\n",
       "      <td>NaN</td>\n",
       "      <td>NaN</td>\n",
       "      <td>NaN</td>\n",
       "      <td>199.0</td>\n",
       "      <td>243.0</td>\n",
       "    </tr>\n",
       "    <tr>\n",
       "      <th>12</th>\n",
       "      <td>Gerald R. Ford</td>\n",
       "      <td>1977</td>\n",
       "      <td>442</td>\n",
       "      <td>126</td>\n",
       "      <td>125.0</td>\n",
       "      <td>50.0</td>\n",
       "      <td>136</td>\n",
       "      <td>129</td>\n",
       "      <td>6</td>\n",
       "      <td>1</td>\n",
       "      <td>NaN</td>\n",
       "      <td>NaN</td>\n",
       "      <td>NaN</td>\n",
       "      <td>NaN</td>\n",
       "      <td>70.0</td>\n",
       "      <td>63.0</td>\n",
       "    </tr>\n",
       "    <tr>\n",
       "      <th>13</th>\n",
       "      <td>Jimmy Carter</td>\n",
       "      <td>1977</td>\n",
       "      <td>368</td>\n",
       "      <td>106</td>\n",
       "      <td>292.0</td>\n",
       "      <td>271.0</td>\n",
       "      <td>1</td>\n",
       "      <td>0</td>\n",
       "      <td>1</td>\n",
       "      <td>0</td>\n",
       "      <td>1.0</td>\n",
       "      <td>0.0</td>\n",
       "      <td>118.0</td>\n",
       "      <td>49.0</td>\n",
       "      <td>NaN</td>\n",
       "      <td>NaN</td>\n",
       "    </tr>\n",
       "  </tbody>\n",
       "</table>\n",
       "</div>"
      ],
      "text/plain": [
       "           President  Fiscal Year  Petitions Pending (Pardons)  \\\n",
       "8   Richard M. Nixon         1974                          312   \n",
       "9   Richard M. Nixon         1975                          207   \n",
       "10    Gerald R. Ford         1975                          207   \n",
       "11    Gerald R. Ford         1976                          245   \n",
       "12    Gerald R. Ford         1977                          442   \n",
       "13      Jimmy Carter         1977                          368   \n",
       "\n",
       "    Petitions Pending (Commutations)  Petitions Received (Pardons)  \\\n",
       "8                                 50                         291.0   \n",
       "9                                 49                           NaN   \n",
       "10                                49                         351.0   \n",
       "11                               140                         502.0   \n",
       "12                               126                         125.0   \n",
       "13                               106                         292.0   \n",
       "\n",
       "    Petitions Received (Commutations)  Petitions Granted  Pardons  \\\n",
       "8                               135.0                195      187   \n",
       "9                                 NaN                  0        0   \n",
       "10                              259.0                156      147   \n",
       "11                              240.0                117      106   \n",
       "12                               50.0                136      129   \n",
       "13                              271.0                  1        0   \n",
       "\n",
       "    Commutations  Remissions  Petitions Denied (Pardons)  \\\n",
       "8              8           0                         NaN   \n",
       "9              0           0                         NaN   \n",
       "10             5           4                         NaN   \n",
       "11            11           0                         NaN   \n",
       "12             6           1                         NaN   \n",
       "13             1           0                         1.0   \n",
       "\n",
       "    Petitions Denied (Commutations)  \\\n",
       "8                               NaN   \n",
       "9                               NaN   \n",
       "10                              NaN   \n",
       "11                              NaN   \n",
       "12                              NaN   \n",
       "13                              0.0   \n",
       "\n",
       "    Petitions Closed Without Presidential Action (Pardons)  \\\n",
       "8                                                 NaN        \n",
       "9                                                 NaN        \n",
       "10                                                NaN        \n",
       "11                                                NaN        \n",
       "12                                                NaN        \n",
       "13                                              118.0        \n",
       "\n",
       "    Petitions Closed Without Presidential Action (Commutations)  \\\n",
       "8                                                 NaN             \n",
       "9                                                 NaN             \n",
       "10                                                NaN             \n",
       "11                                                NaN             \n",
       "12                                                NaN             \n",
       "13                                               49.0             \n",
       "\n",
       "    Petitions Denied or Closed Without Presidential Action (Pardons)  \\\n",
       "8                                               209.0                  \n",
       "9                                                 0.0                  \n",
       "10                                              166.0                  \n",
       "11                                              199.0                  \n",
       "12                                               70.0                  \n",
       "13                                                NaN                  \n",
       "\n",
       "    Petitions Denied or Closed Without Presidential Action (Commutations)  \n",
       "8                                               128.0                      \n",
       "9                                                 0.0                      \n",
       "10                                              159.0                      \n",
       "11                                              243.0                      \n",
       "12                                               63.0                      \n",
       "13                                                NaN                      "
      ]
     },
     "execution_count": 17,
     "metadata": {},
     "output_type": "execute_result"
    }
   ],
   "source": [
    "p2[8:14]"
   ]
  },
  {
   "cell_type": "code",
   "execution_count": 18,
   "metadata": {},
   "outputs": [],
   "source": [
    "#It appears the reason this row includes no such information is that it does not belong in the table in the first place. Nixon\n",
    "#resigned in August 1974 and fiscal year 1975 began in October 1974. Therefore although the information is not missing at random, \n",
    "#deletion of this essentially spurious entry is more reasonable than imputation."
   ]
  },
  {
   "cell_type": "code",
   "execution_count": 19,
   "metadata": {},
   "outputs": [
    {
     "data": {
      "text/html": [
       "<div>\n",
       "<style scoped>\n",
       "    .dataframe tbody tr th:only-of-type {\n",
       "        vertical-align: middle;\n",
       "    }\n",
       "\n",
       "    .dataframe tbody tr th {\n",
       "        vertical-align: top;\n",
       "    }\n",
       "\n",
       "    .dataframe thead th {\n",
       "        text-align: right;\n",
       "    }\n",
       "</style>\n",
       "<table border=\"1\" class=\"dataframe\">\n",
       "  <thead>\n",
       "    <tr style=\"text-align: right;\">\n",
       "      <th></th>\n",
       "      <th>President</th>\n",
       "      <th>Fiscal Year</th>\n",
       "      <th>Petitions Pending (Pardons)</th>\n",
       "      <th>Petitions Pending (Commutations)</th>\n",
       "      <th>Petitions Received (Pardons)</th>\n",
       "      <th>Petitions Received (Commutations)</th>\n",
       "      <th>Petitions Granted</th>\n",
       "      <th>Pardons</th>\n",
       "      <th>Commutations</th>\n",
       "      <th>Remissions</th>\n",
       "      <th>Petitions Denied (Pardons)</th>\n",
       "      <th>Petitions Denied (Commutations)</th>\n",
       "      <th>Petitions Closed Without Presidential Action (Pardons)</th>\n",
       "      <th>Petitions Closed Without Presidential Action (Commutations)</th>\n",
       "      <th>Petitions Denied or Closed Without Presidential Action (Pardons)</th>\n",
       "      <th>Petitions Denied or Closed Without Presidential Action (Commutations)</th>\n",
       "    </tr>\n",
       "  </thead>\n",
       "  <tbody>\n",
       "    <tr>\n",
       "      <th>8</th>\n",
       "      <td>Richard M. Nixon</td>\n",
       "      <td>1974</td>\n",
       "      <td>312</td>\n",
       "      <td>50</td>\n",
       "      <td>291.0</td>\n",
       "      <td>135.0</td>\n",
       "      <td>195</td>\n",
       "      <td>187</td>\n",
       "      <td>8</td>\n",
       "      <td>0</td>\n",
       "      <td>NaN</td>\n",
       "      <td>NaN</td>\n",
       "      <td>NaN</td>\n",
       "      <td>NaN</td>\n",
       "      <td>209.0</td>\n",
       "      <td>128.0</td>\n",
       "    </tr>\n",
       "    <tr>\n",
       "      <th>10</th>\n",
       "      <td>Gerald R. Ford</td>\n",
       "      <td>1975</td>\n",
       "      <td>207</td>\n",
       "      <td>49</td>\n",
       "      <td>351.0</td>\n",
       "      <td>259.0</td>\n",
       "      <td>156</td>\n",
       "      <td>147</td>\n",
       "      <td>5</td>\n",
       "      <td>4</td>\n",
       "      <td>NaN</td>\n",
       "      <td>NaN</td>\n",
       "      <td>NaN</td>\n",
       "      <td>NaN</td>\n",
       "      <td>166.0</td>\n",
       "      <td>159.0</td>\n",
       "    </tr>\n",
       "    <tr>\n",
       "      <th>11</th>\n",
       "      <td>Gerald R. Ford</td>\n",
       "      <td>1976</td>\n",
       "      <td>245</td>\n",
       "      <td>140</td>\n",
       "      <td>502.0</td>\n",
       "      <td>240.0</td>\n",
       "      <td>117</td>\n",
       "      <td>106</td>\n",
       "      <td>11</td>\n",
       "      <td>0</td>\n",
       "      <td>NaN</td>\n",
       "      <td>NaN</td>\n",
       "      <td>NaN</td>\n",
       "      <td>NaN</td>\n",
       "      <td>199.0</td>\n",
       "      <td>243.0</td>\n",
       "    </tr>\n",
       "    <tr>\n",
       "      <th>12</th>\n",
       "      <td>Gerald R. Ford</td>\n",
       "      <td>1977</td>\n",
       "      <td>442</td>\n",
       "      <td>126</td>\n",
       "      <td>125.0</td>\n",
       "      <td>50.0</td>\n",
       "      <td>136</td>\n",
       "      <td>129</td>\n",
       "      <td>6</td>\n",
       "      <td>1</td>\n",
       "      <td>NaN</td>\n",
       "      <td>NaN</td>\n",
       "      <td>NaN</td>\n",
       "      <td>NaN</td>\n",
       "      <td>70.0</td>\n",
       "      <td>63.0</td>\n",
       "    </tr>\n",
       "    <tr>\n",
       "      <th>13</th>\n",
       "      <td>Jimmy Carter</td>\n",
       "      <td>1977</td>\n",
       "      <td>368</td>\n",
       "      <td>106</td>\n",
       "      <td>292.0</td>\n",
       "      <td>271.0</td>\n",
       "      <td>1</td>\n",
       "      <td>0</td>\n",
       "      <td>1</td>\n",
       "      <td>0</td>\n",
       "      <td>1.0</td>\n",
       "      <td>0.0</td>\n",
       "      <td>118.0</td>\n",
       "      <td>49.0</td>\n",
       "      <td>NaN</td>\n",
       "      <td>NaN</td>\n",
       "    </tr>\n",
       "    <tr>\n",
       "      <th>14</th>\n",
       "      <td>Jimmy Carter</td>\n",
       "      <td>1978</td>\n",
       "      <td>541</td>\n",
       "      <td>327</td>\n",
       "      <td>379.0</td>\n",
       "      <td>262.0</td>\n",
       "      <td>165</td>\n",
       "      <td>162</td>\n",
       "      <td>3</td>\n",
       "      <td>0</td>\n",
       "      <td>307.0</td>\n",
       "      <td>409.0</td>\n",
       "      <td>74.0</td>\n",
       "      <td>46.0</td>\n",
       "      <td>NaN</td>\n",
       "      <td>NaN</td>\n",
       "    </tr>\n",
       "  </tbody>\n",
       "</table>\n",
       "</div>"
      ],
      "text/plain": [
       "           President  Fiscal Year  Petitions Pending (Pardons)  \\\n",
       "8   Richard M. Nixon         1974                          312   \n",
       "10    Gerald R. Ford         1975                          207   \n",
       "11    Gerald R. Ford         1976                          245   \n",
       "12    Gerald R. Ford         1977                          442   \n",
       "13      Jimmy Carter         1977                          368   \n",
       "14      Jimmy Carter         1978                          541   \n",
       "\n",
       "    Petitions Pending (Commutations)  Petitions Received (Pardons)  \\\n",
       "8                                 50                         291.0   \n",
       "10                                49                         351.0   \n",
       "11                               140                         502.0   \n",
       "12                               126                         125.0   \n",
       "13                               106                         292.0   \n",
       "14                               327                         379.0   \n",
       "\n",
       "    Petitions Received (Commutations)  Petitions Granted  Pardons  \\\n",
       "8                               135.0                195      187   \n",
       "10                              259.0                156      147   \n",
       "11                              240.0                117      106   \n",
       "12                               50.0                136      129   \n",
       "13                              271.0                  1        0   \n",
       "14                              262.0                165      162   \n",
       "\n",
       "    Commutations  Remissions  Petitions Denied (Pardons)  \\\n",
       "8              8           0                         NaN   \n",
       "10             5           4                         NaN   \n",
       "11            11           0                         NaN   \n",
       "12             6           1                         NaN   \n",
       "13             1           0                         1.0   \n",
       "14             3           0                       307.0   \n",
       "\n",
       "    Petitions Denied (Commutations)  \\\n",
       "8                               NaN   \n",
       "10                              NaN   \n",
       "11                              NaN   \n",
       "12                              NaN   \n",
       "13                              0.0   \n",
       "14                            409.0   \n",
       "\n",
       "    Petitions Closed Without Presidential Action (Pardons)  \\\n",
       "8                                                 NaN        \n",
       "10                                                NaN        \n",
       "11                                                NaN        \n",
       "12                                                NaN        \n",
       "13                                              118.0        \n",
       "14                                               74.0        \n",
       "\n",
       "    Petitions Closed Without Presidential Action (Commutations)  \\\n",
       "8                                                 NaN             \n",
       "10                                                NaN             \n",
       "11                                                NaN             \n",
       "12                                                NaN             \n",
       "13                                               49.0             \n",
       "14                                               46.0             \n",
       "\n",
       "    Petitions Denied or Closed Without Presidential Action (Pardons)  \\\n",
       "8                                               209.0                  \n",
       "10                                              166.0                  \n",
       "11                                              199.0                  \n",
       "12                                               70.0                  \n",
       "13                                                NaN                  \n",
       "14                                                NaN                  \n",
       "\n",
       "    Petitions Denied or Closed Without Presidential Action (Commutations)  \n",
       "8                                               128.0                      \n",
       "10                                              159.0                      \n",
       "11                                              243.0                      \n",
       "12                                               63.0                      \n",
       "13                                                NaN                      \n",
       "14                                                NaN                      "
      ]
     },
     "execution_count": 19,
     "metadata": {},
     "output_type": "execute_result"
    }
   ],
   "source": [
    "p2=p2.drop(9,axis=0)\n",
    "p2[8:14]"
   ]
  },
  {
   "cell_type": "code",
   "execution_count": 20,
   "metadata": {},
   "outputs": [
    {
     "data": {
      "text/plain": [
       "Petitions Denied (Pardons)                                               12\n",
       "Petitions Denied (Commutations)                                          12\n",
       "Petitions Closed Without Presidential Action (Pardons)                   12\n",
       "Petitions Closed Without Presidential Action (Commutations)              12\n",
       "Petitions Denied or Closed Without Presidential Action (Pardons)         46\n",
       "Petitions Denied or Closed Without Presidential Action (Commutations)    46\n",
       "dtype: int64"
      ]
     },
     "execution_count": 20,
     "metadata": {},
     "output_type": "execute_result"
    }
   ],
   "source": [
    "p2null=p2.columns[p2.isnull().any()]\n",
    "p2[p2null].isnull().sum()"
   ]
  },
  {
   "cell_type": "code",
   "execution_count": 21,
   "metadata": {},
   "outputs": [
    {
     "data": {
      "text/plain": [
       "(58, 16)"
      ]
     },
     "execution_count": 21,
     "metadata": {},
     "output_type": "execute_result"
    }
   ],
   "source": [
    "p2.shape"
   ]
  },
  {
   "cell_type": "code",
   "execution_count": 22,
   "metadata": {},
   "outputs": [],
   "source": [
    "p1missing1=p1[p1['Petitions Denied'].isnull()]"
   ]
  },
  {
   "cell_type": "code",
   "execution_count": 23,
   "metadata": {},
   "outputs": [
    {
     "data": {
      "text/plain": [
       "0"
      ]
     },
     "execution_count": 23,
     "metadata": {},
     "output_type": "execute_result"
    }
   ],
   "source": [
    "p1missing1['Petitions Denied or Closed Without Presidential Action'].isnull().sum()"
   ]
  },
  {
   "cell_type": "code",
   "execution_count": 24,
   "metadata": {},
   "outputs": [],
   "source": [
    "#Luckily the rows of p1 for which 1 feature is missing information are just those for which we have the complementary information."
   ]
  },
  {
   "cell_type": "code",
   "execution_count": 25,
   "metadata": {},
   "outputs": [],
   "source": [
    "p2missing1=p2[p2['Petitions Denied (Pardons)'].isnull()]"
   ]
  },
  {
   "cell_type": "code",
   "execution_count": 26,
   "metadata": {},
   "outputs": [
    {
     "data": {
      "text/plain": [
       "0"
      ]
     },
     "execution_count": 26,
     "metadata": {},
     "output_type": "execute_result"
    }
   ],
   "source": [
    "p2missing1['Petitions Denied or Closed Without Presidential Action (Pardons)'].isnull().sum()"
   ]
  },
  {
   "cell_type": "code",
   "execution_count": 27,
   "metadata": {},
   "outputs": [],
   "source": [
    "#And the same fortune holds for p2; we can confirm this by performing similar checks with the other combinations of columns"
   ]
  },
  {
   "cell_type": "code",
   "execution_count": 28,
   "metadata": {},
   "outputs": [
    {
     "data": {
      "text/plain": [
       "[<matplotlib.lines.Line2D at 0x1d134f76ac0>]"
      ]
     },
     "execution_count": 28,
     "metadata": {},
     "output_type": "execute_result"
    },
    {
     "data": {
      "image/png": "[encoded data removed]",
      "text/plain": [
       "<Figure size 432x288 with 1 Axes>"
      ]
     },
     "metadata": {
      "needs_background": "light"
     },
     "output_type": "display_data"
    }
   ],
   "source": [
    "import matplotlib.pyplot as plt\n",
    "plt.plot(p1['Fiscal Year'],p1['Petitions Granted'])\n"
   ]
  },
  {
   "cell_type": "code",
   "execution_count": 29,
   "metadata": {},
   "outputs": [
    {
     "data": {
      "text/plain": [
       "[<matplotlib.lines.Line2D at 0x1d135021700>]"
      ]
     },
     "execution_count": 29,
     "metadata": {},
     "output_type": "execute_result"
    },
    {
     "data": {
      "image/png": "[encoded data removed]",
      "text/plain": [
       "<Figure size 432x288 with 1 Axes>"
      ]
     },
     "metadata": {
      "needs_background": "light"
     },
     "output_type": "display_data"
    }
   ],
   "source": [
    "plt.plot(p2['Fiscal Year'],p2['Petitions Granted'])"
   ]
  },
  {
   "cell_type": "code",
   "execution_count": 30,
   "metadata": {},
   "outputs": [
    {
     "data": {
      "text/plain": [
       "[<matplotlib.lines.Line2D at 0x1d135081610>]"
      ]
     },
     "execution_count": 30,
     "metadata": {},
     "output_type": "execute_result"
    },
    {
     "data": {
      "image/png": "[encoded data removed]",
      "text/plain": [
       "<Figure size 432x288 with 1 Axes>"
      ]
     },
     "metadata": {
      "needs_background": "light"
     },
     "output_type": "display_data"
    }
   ],
   "source": [
    "plt.plot(p1['Fiscal Year'],p1['Petitions Received'])"
   ]
  },
  {
   "cell_type": "code",
   "execution_count": 31,
   "metadata": {},
   "outputs": [
    {
     "data": {
      "text/plain": [
       "[<matplotlib.lines.Line2D at 0x1d1350d2eb0>]"
      ]
     },
     "execution_count": 31,
     "metadata": {},
     "output_type": "execute_result"
    },
    {
     "data": {
      "image/png": "[encoded data removed]",
      "text/plain": [
       "<Figure size 432x288 with 1 Axes>"
      ]
     },
     "metadata": {
      "needs_background": "light"
     },
     "output_type": "display_data"
    }
   ],
   "source": [
    "plt.plot(p1['Fiscal Year'],p1['Petitions Pending'])"
   ]
  },
  {
   "cell_type": "code",
   "execution_count": 32,
   "metadata": {},
   "outputs": [],
   "source": [
    "#Since the total of petitions denied or closed without presidential action is all we have for some rows, this will be one of the\n",
    "#attributes we extract so that we can compare all years. We already have petitions granted and pardons for all years. Since we do\n",
    "#not have petitions received for all years, since action is not taken on all petitions, and since there is considerable irregular \n",
    "#variability in numbers of petitions granted across years, it makes more sense to look at ratios of petitions granted to sum of \n",
    "#petitions granted and petitions denied or closed without presidential action as our initial response variable"
   ]
  },
  {
   "cell_type": "code",
   "execution_count": 33,
   "metadata": {},
   "outputs": [],
   "source": [
    "import numpy as np\n",
    "p1['Petitions Denied or Closed Without Presidential Action']=p1['Petitions Denied or Closed Without Presidential Action'].replace(np.nan,p1['Petitions Denied']+p1['Petitions Closed Without Presidential Action'])"
   ]
  },
  {
   "cell_type": "code",
   "execution_count": 34,
   "metadata": {},
   "outputs": [
    {
     "data": {
      "text/html": [
       "<div>\n",
       "<style scoped>\n",
       "    .dataframe tbody tr th:only-of-type {\n",
       "        vertical-align: middle;\n",
       "    }\n",
       "\n",
       "    .dataframe tbody tr th {\n",
       "        vertical-align: top;\n",
       "    }\n",
       "\n",
       "    .dataframe thead th {\n",
       "        text-align: right;\n",
       "    }\n",
       "</style>\n",
       "<table border=\"1\" class=\"dataframe\">\n",
       "  <thead>\n",
       "    <tr style=\"text-align: right;\">\n",
       "      <th></th>\n",
       "      <th>President</th>\n",
       "      <th>Fiscal Year</th>\n",
       "      <th>Petitions Pending</th>\n",
       "      <th>Petitions Received</th>\n",
       "      <th>Petitions Granted</th>\n",
       "      <th>Pardons</th>\n",
       "      <th>Commutations</th>\n",
       "      <th>Respites</th>\n",
       "      <th>Remissions</th>\n",
       "      <th>Petitions Denied</th>\n",
       "      <th>Petitions Closed Without Presidential Action</th>\n",
       "      <th>Petitions Denied or Closed Without Presidential Action</th>\n",
       "    </tr>\n",
       "  </thead>\n",
       "  <tbody>\n",
       "    <tr>\n",
       "      <th>0</th>\n",
       "      <td>William McKinley</td>\n",
       "      <td>1900</td>\n",
       "      <td>68</td>\n",
       "      <td>677</td>\n",
       "      <td>220</td>\n",
       "      <td>129</td>\n",
       "      <td>73</td>\n",
       "      <td>4.0</td>\n",
       "      <td>14</td>\n",
       "      <td>131.0</td>\n",
       "      <td>332.0</td>\n",
       "      <td>463.0</td>\n",
       "    </tr>\n",
       "    <tr>\n",
       "      <th>1</th>\n",
       "      <td>William McKinley</td>\n",
       "      <td>1901</td>\n",
       "      <td>45</td>\n",
       "      <td>796</td>\n",
       "      <td>226</td>\n",
       "      <td>162</td>\n",
       "      <td>50</td>\n",
       "      <td>2.0</td>\n",
       "      <td>12</td>\n",
       "      <td>117.0</td>\n",
       "      <td>448.0</td>\n",
       "      <td>565.0</td>\n",
       "    </tr>\n",
       "    <tr>\n",
       "      <th>2</th>\n",
       "      <td>Theodore Roosevelt</td>\n",
       "      <td>1902</td>\n",
       "      <td>50</td>\n",
       "      <td>738</td>\n",
       "      <td>134</td>\n",
       "      <td>92</td>\n",
       "      <td>36</td>\n",
       "      <td>0.0</td>\n",
       "      <td>6</td>\n",
       "      <td>181.0</td>\n",
       "      <td>366.0</td>\n",
       "      <td>547.0</td>\n",
       "    </tr>\n",
       "    <tr>\n",
       "      <th>3</th>\n",
       "      <td>Theodore Roosevelt</td>\n",
       "      <td>1903</td>\n",
       "      <td>107</td>\n",
       "      <td>543</td>\n",
       "      <td>134</td>\n",
       "      <td>70</td>\n",
       "      <td>57</td>\n",
       "      <td>0.0</td>\n",
       "      <td>7</td>\n",
       "      <td>131.0</td>\n",
       "      <td>316.0</td>\n",
       "      <td>447.0</td>\n",
       "    </tr>\n",
       "    <tr>\n",
       "      <th>4</th>\n",
       "      <td>Theodore Roosevelt</td>\n",
       "      <td>1904</td>\n",
       "      <td>69</td>\n",
       "      <td>585</td>\n",
       "      <td>162</td>\n",
       "      <td>87</td>\n",
       "      <td>62</td>\n",
       "      <td>2.0</td>\n",
       "      <td>11</td>\n",
       "      <td>122.0</td>\n",
       "      <td>278.0</td>\n",
       "      <td>400.0</td>\n",
       "    </tr>\n",
       "  </tbody>\n",
       "</table>\n",
       "</div>"
      ],
      "text/plain": [
       "            President  Fiscal Year  Petitions Pending  Petitions Received  \\\n",
       "0    William McKinley         1900                 68                 677   \n",
       "1    William McKinley         1901                 45                 796   \n",
       "2  Theodore Roosevelt         1902                 50                 738   \n",
       "3  Theodore Roosevelt         1903                107                 543   \n",
       "4  Theodore Roosevelt         1904                 69                 585   \n",
       "\n",
       "   Petitions Granted  Pardons  Commutations  Respites  Remissions  \\\n",
       "0                220      129            73       4.0          14   \n",
       "1                226      162            50       2.0          12   \n",
       "2                134       92            36       0.0           6   \n",
       "3                134       70            57       0.0           7   \n",
       "4                162       87            62       2.0          11   \n",
       "\n",
       "   Petitions Denied  Petitions Closed Without Presidential Action  \\\n",
       "0             131.0                                         332.0   \n",
       "1             117.0                                         448.0   \n",
       "2             181.0                                         366.0   \n",
       "3             131.0                                         316.0   \n",
       "4             122.0                                         278.0   \n",
       "\n",
       "   Petitions Denied or Closed Without Presidential Action  \n",
       "0                                              463.0       \n",
       "1                                              565.0       \n",
       "2                                              547.0       \n",
       "3                                              447.0       \n",
       "4                                              400.0       "
      ]
     },
     "execution_count": 34,
     "metadata": {},
     "output_type": "execute_result"
    }
   ],
   "source": [
    "p1[:5]"
   ]
  },
  {
   "cell_type": "code",
   "execution_count": 35,
   "metadata": {},
   "outputs": [
    {
     "data": {
      "text/html": [
       "<div>\n",
       "<style scoped>\n",
       "    .dataframe tbody tr th:only-of-type {\n",
       "        vertical-align: middle;\n",
       "    }\n",
       "\n",
       "    .dataframe tbody tr th {\n",
       "        vertical-align: top;\n",
       "    }\n",
       "\n",
       "    .dataframe thead th {\n",
       "        text-align: right;\n",
       "    }\n",
       "</style>\n",
       "<table border=\"1\" class=\"dataframe\">\n",
       "  <thead>\n",
       "    <tr style=\"text-align: right;\">\n",
       "      <th></th>\n",
       "      <th>President</th>\n",
       "      <th>Fiscal Year</th>\n",
       "      <th>Petitions Pending</th>\n",
       "      <th>Petitions Received</th>\n",
       "      <th>Petitions Granted</th>\n",
       "      <th>Pardons</th>\n",
       "      <th>Commutations</th>\n",
       "      <th>Respites</th>\n",
       "      <th>Remissions</th>\n",
       "      <th>Petitions Denied</th>\n",
       "      <th>Petitions Closed Without Presidential Action</th>\n",
       "      <th>Petitions Denied or Closed Without Presidential Action</th>\n",
       "    </tr>\n",
       "  </thead>\n",
       "  <tbody>\n",
       "    <tr>\n",
       "      <th>66</th>\n",
       "      <td>John F. Kennedy</td>\n",
       "      <td>1963</td>\n",
       "      <td>506</td>\n",
       "      <td>592</td>\n",
       "      <td>178</td>\n",
       "      <td>133</td>\n",
       "      <td>43</td>\n",
       "      <td>NaN</td>\n",
       "      <td>2</td>\n",
       "      <td>NaN</td>\n",
       "      <td>NaN</td>\n",
       "      <td>233.0</td>\n",
       "    </tr>\n",
       "    <tr>\n",
       "      <th>67</th>\n",
       "      <td>John F. Kennedy</td>\n",
       "      <td>1964</td>\n",
       "      <td>687</td>\n",
       "      <td>342</td>\n",
       "      <td>182</td>\n",
       "      <td>149</td>\n",
       "      <td>32</td>\n",
       "      <td>NaN</td>\n",
       "      <td>1</td>\n",
       "      <td>NaN</td>\n",
       "      <td>NaN</td>\n",
       "      <td>162.0</td>\n",
       "    </tr>\n",
       "    <tr>\n",
       "      <th>68</th>\n",
       "      <td>Lyndon B. Johnson</td>\n",
       "      <td>1964</td>\n",
       "      <td>685</td>\n",
       "      <td>579</td>\n",
       "      <td>206</td>\n",
       "      <td>166</td>\n",
       "      <td>40</td>\n",
       "      <td>NaN</td>\n",
       "      <td>0</td>\n",
       "      <td>NaN</td>\n",
       "      <td>NaN</td>\n",
       "      <td>275.0</td>\n",
       "    </tr>\n",
       "    <tr>\n",
       "      <th>69</th>\n",
       "      <td>Lyndon B. Johnson</td>\n",
       "      <td>1965</td>\n",
       "      <td>783</td>\n",
       "      <td>1008</td>\n",
       "      <td>275</td>\n",
       "      <td>195</td>\n",
       "      <td>80</td>\n",
       "      <td>NaN</td>\n",
       "      <td>0</td>\n",
       "      <td>NaN</td>\n",
       "      <td>NaN</td>\n",
       "      <td>569.0</td>\n",
       "    </tr>\n",
       "    <tr>\n",
       "      <th>70</th>\n",
       "      <td>Lyndon B. Johnson</td>\n",
       "      <td>1966</td>\n",
       "      <td>947</td>\n",
       "      <td>865</td>\n",
       "      <td>445</td>\n",
       "      <td>364</td>\n",
       "      <td>80</td>\n",
       "      <td>NaN</td>\n",
       "      <td>1</td>\n",
       "      <td>NaN</td>\n",
       "      <td>NaN</td>\n",
       "      <td>726.0</td>\n",
       "    </tr>\n",
       "  </tbody>\n",
       "</table>\n",
       "</div>"
      ],
      "text/plain": [
       "            President  Fiscal Year  Petitions Pending  Petitions Received  \\\n",
       "66    John F. Kennedy         1963                506                 592   \n",
       "67    John F. Kennedy         1964                687                 342   \n",
       "68  Lyndon B. Johnson         1964                685                 579   \n",
       "69  Lyndon B. Johnson         1965                783                1008   \n",
       "70  Lyndon B. Johnson         1966                947                 865   \n",
       "\n",
       "    Petitions Granted  Pardons  Commutations  Respites  Remissions  \\\n",
       "66                178      133            43       NaN           2   \n",
       "67                182      149            32       NaN           1   \n",
       "68                206      166            40       NaN           0   \n",
       "69                275      195            80       NaN           0   \n",
       "70                445      364            80       NaN           1   \n",
       "\n",
       "    Petitions Denied  Petitions Closed Without Presidential Action  \\\n",
       "66               NaN                                           NaN   \n",
       "67               NaN                                           NaN   \n",
       "68               NaN                                           NaN   \n",
       "69               NaN                                           NaN   \n",
       "70               NaN                                           NaN   \n",
       "\n",
       "    Petitions Denied or Closed Without Presidential Action  \n",
       "66                                              233.0       \n",
       "67                                              162.0       \n",
       "68                                              275.0       \n",
       "69                                              569.0       \n",
       "70                                              726.0       "
      ]
     },
     "execution_count": 35,
     "metadata": {},
     "output_type": "execute_result"
    }
   ],
   "source": [
    "p1[-5:]"
   ]
  },
  {
   "cell_type": "code",
   "execution_count": 36,
   "metadata": {},
   "outputs": [],
   "source": [
    "p1=p1.rename(columns={'Petitions Denied or Closed Without Presidential Action':'Rejected'}) #because column name is cumbersome"
   ]
  },
  {
   "cell_type": "code",
   "execution_count": 37,
   "metadata": {},
   "outputs": [
    {
     "data": {
      "text/html": [
       "<div>\n",
       "<style scoped>\n",
       "    .dataframe tbody tr th:only-of-type {\n",
       "        vertical-align: middle;\n",
       "    }\n",
       "\n",
       "    .dataframe tbody tr th {\n",
       "        vertical-align: top;\n",
       "    }\n",
       "\n",
       "    .dataframe thead th {\n",
       "        text-align: right;\n",
       "    }\n",
       "</style>\n",
       "<table border=\"1\" class=\"dataframe\">\n",
       "  <thead>\n",
       "    <tr style=\"text-align: right;\">\n",
       "      <th></th>\n",
       "      <th>President</th>\n",
       "      <th>Fiscal Year</th>\n",
       "      <th>Petitions Pending</th>\n",
       "      <th>Petitions Received</th>\n",
       "      <th>Petitions Granted</th>\n",
       "      <th>Pardons</th>\n",
       "      <th>Commutations</th>\n",
       "      <th>Respites</th>\n",
       "      <th>Remissions</th>\n",
       "      <th>Petitions Denied</th>\n",
       "      <th>Petitions Closed Without Presidential Action</th>\n",
       "      <th>Rejected</th>\n",
       "    </tr>\n",
       "  </thead>\n",
       "  <tbody>\n",
       "    <tr>\n",
       "      <th>0</th>\n",
       "      <td>William McKinley</td>\n",
       "      <td>1900</td>\n",
       "      <td>68</td>\n",
       "      <td>677</td>\n",
       "      <td>220</td>\n",
       "      <td>129</td>\n",
       "      <td>73</td>\n",
       "      <td>4.0</td>\n",
       "      <td>14</td>\n",
       "      <td>131.0</td>\n",
       "      <td>332.0</td>\n",
       "      <td>463.0</td>\n",
       "    </tr>\n",
       "    <tr>\n",
       "      <th>1</th>\n",
       "      <td>William McKinley</td>\n",
       "      <td>1901</td>\n",
       "      <td>45</td>\n",
       "      <td>796</td>\n",
       "      <td>226</td>\n",
       "      <td>162</td>\n",
       "      <td>50</td>\n",
       "      <td>2.0</td>\n",
       "      <td>12</td>\n",
       "      <td>117.0</td>\n",
       "      <td>448.0</td>\n",
       "      <td>565.0</td>\n",
       "    </tr>\n",
       "    <tr>\n",
       "      <th>2</th>\n",
       "      <td>Theodore Roosevelt</td>\n",
       "      <td>1902</td>\n",
       "      <td>50</td>\n",
       "      <td>738</td>\n",
       "      <td>134</td>\n",
       "      <td>92</td>\n",
       "      <td>36</td>\n",
       "      <td>0.0</td>\n",
       "      <td>6</td>\n",
       "      <td>181.0</td>\n",
       "      <td>366.0</td>\n",
       "      <td>547.0</td>\n",
       "    </tr>\n",
       "    <tr>\n",
       "      <th>3</th>\n",
       "      <td>Theodore Roosevelt</td>\n",
       "      <td>1903</td>\n",
       "      <td>107</td>\n",
       "      <td>543</td>\n",
       "      <td>134</td>\n",
       "      <td>70</td>\n",
       "      <td>57</td>\n",
       "      <td>0.0</td>\n",
       "      <td>7</td>\n",
       "      <td>131.0</td>\n",
       "      <td>316.0</td>\n",
       "      <td>447.0</td>\n",
       "    </tr>\n",
       "    <tr>\n",
       "      <th>4</th>\n",
       "      <td>Theodore Roosevelt</td>\n",
       "      <td>1904</td>\n",
       "      <td>69</td>\n",
       "      <td>585</td>\n",
       "      <td>162</td>\n",
       "      <td>87</td>\n",
       "      <td>62</td>\n",
       "      <td>2.0</td>\n",
       "      <td>11</td>\n",
       "      <td>122.0</td>\n",
       "      <td>278.0</td>\n",
       "      <td>400.0</td>\n",
       "    </tr>\n",
       "  </tbody>\n",
       "</table>\n",
       "</div>"
      ],
      "text/plain": [
       "            President  Fiscal Year  Petitions Pending  Petitions Received  \\\n",
       "0    William McKinley         1900                 68                 677   \n",
       "1    William McKinley         1901                 45                 796   \n",
       "2  Theodore Roosevelt         1902                 50                 738   \n",
       "3  Theodore Roosevelt         1903                107                 543   \n",
       "4  Theodore Roosevelt         1904                 69                 585   \n",
       "\n",
       "   Petitions Granted  Pardons  Commutations  Respites  Remissions  \\\n",
       "0                220      129            73       4.0          14   \n",
       "1                226      162            50       2.0          12   \n",
       "2                134       92            36       0.0           6   \n",
       "3                134       70            57       0.0           7   \n",
       "4                162       87            62       2.0          11   \n",
       "\n",
       "   Petitions Denied  Petitions Closed Without Presidential Action  Rejected  \n",
       "0             131.0                                         332.0     463.0  \n",
       "1             117.0                                         448.0     565.0  \n",
       "2             181.0                                         366.0     547.0  \n",
       "3             131.0                                         316.0     447.0  \n",
       "4             122.0                                         278.0     400.0  "
      ]
     },
     "execution_count": 37,
     "metadata": {},
     "output_type": "execute_result"
    }
   ],
   "source": [
    "p1[:5]"
   ]
  },
  {
   "cell_type": "code",
   "execution_count": 38,
   "metadata": {},
   "outputs": [
    {
     "data": {
      "text/plain": [
       "10"
      ]
     },
     "execution_count": 38,
     "metadata": {},
     "output_type": "execute_result"
    }
   ],
   "source": [
    "p2.columns.get_loc('Petitions Denied (Pardons)') #Since the column names are cumbersome and to avoid off by 1 error when counting manually"
   ]
  },
  {
   "cell_type": "code",
   "execution_count": 39,
   "metadata": {},
   "outputs": [],
   "source": [
    "testcol=p2.iloc[:,10]"
   ]
  },
  {
   "cell_type": "code",
   "execution_count": 40,
   "metadata": {},
   "outputs": [
    {
     "data": {
      "text/plain": [
       "54    314.0\n",
       "55    154.0\n",
       "56    142.0\n",
       "57      0.0\n",
       "58      0.0\n",
       "Name: Petitions Denied (Pardons), dtype: float64"
      ]
     },
     "execution_count": 40,
     "metadata": {},
     "output_type": "execute_result"
    }
   ],
   "source": [
    "testcol[-5:]"
   ]
  },
  {
   "cell_type": "code",
   "execution_count": 41,
   "metadata": {},
   "outputs": [
    {
     "data": {
      "text/plain": [
       "0   NaN\n",
       "1   NaN\n",
       "2   NaN\n",
       "3   NaN\n",
       "4   NaN\n",
       "Name: Petitions Denied (Pardons), dtype: float64"
      ]
     },
     "execution_count": 41,
     "metadata": {},
     "output_type": "execute_result"
    }
   ],
   "source": [
    "testcol[:5]"
   ]
  },
  {
   "cell_type": "code",
   "execution_count": 42,
   "metadata": {},
   "outputs": [],
   "source": [
    "testcol=testcol.replace(np.nan,0) #to avoid getting not a number error when adding to numerical values; this will not change\n",
    "                #results since 0 is the additive identity and all we want is the sum of non-null values"
   ]
  },
  {
   "cell_type": "code",
   "execution_count": 43,
   "metadata": {},
   "outputs": [],
   "source": [
    "idx=11\n",
    "while idx<16:\n",
    "    p2.iloc[:,idx]=p2.iloc[:,idx].replace(np.nan,0)\n",
    "    testcol+=p2.iloc[:,idx]\n",
    "    idx+=1"
   ]
  },
  {
   "cell_type": "code",
   "execution_count": 44,
   "metadata": {},
   "outputs": [
    {
     "data": {
      "text/plain": [
       "0    520.0\n",
       "1    415.0\n",
       "2    325.0\n",
       "3    180.0\n",
       "4    698.0\n",
       "Name: Petitions Denied (Pardons), dtype: float64"
      ]
     },
     "execution_count": 44,
     "metadata": {},
     "output_type": "execute_result"
    }
   ],
   "source": [
    "testcol[:5] #as desired the values are the sum of the non-null values in the 6 rightmost columns "
   ]
  },
  {
   "cell_type": "code",
   "execution_count": 45,
   "metadata": {},
   "outputs": [
    {
     "data": {
      "text/html": [
       "<div>\n",
       "<style scoped>\n",
       "    .dataframe tbody tr th:only-of-type {\n",
       "        vertical-align: middle;\n",
       "    }\n",
       "\n",
       "    .dataframe tbody tr th {\n",
       "        vertical-align: top;\n",
       "    }\n",
       "\n",
       "    .dataframe thead th {\n",
       "        text-align: right;\n",
       "    }\n",
       "</style>\n",
       "<table border=\"1\" class=\"dataframe\">\n",
       "  <thead>\n",
       "    <tr style=\"text-align: right;\">\n",
       "      <th></th>\n",
       "      <th>President</th>\n",
       "      <th>Fiscal Year</th>\n",
       "      <th>Petitions Pending (Pardons)</th>\n",
       "      <th>Petitions Pending (Commutations)</th>\n",
       "      <th>Petitions Received (Pardons)</th>\n",
       "      <th>Petitions Received (Commutations)</th>\n",
       "      <th>Petitions Granted</th>\n",
       "      <th>Pardons</th>\n",
       "      <th>Commutations</th>\n",
       "      <th>Remissions</th>\n",
       "      <th>Petitions Denied (Pardons)</th>\n",
       "      <th>Petitions Denied (Commutations)</th>\n",
       "      <th>Petitions Closed Without Presidential Action (Pardons)</th>\n",
       "      <th>Petitions Closed Without Presidential Action (Commutations)</th>\n",
       "      <th>Petitions Denied or Closed Without Presidential Action (Pardons)</th>\n",
       "      <th>Petitions Denied or Closed Without Presidential Action (Commutations)</th>\n",
       "    </tr>\n",
       "  </thead>\n",
       "  <tbody>\n",
       "    <tr>\n",
       "      <th>0</th>\n",
       "      <td>Lyndon B. Johnson</td>\n",
       "      <td>1967</td>\n",
       "      <td>532</td>\n",
       "      <td>109</td>\n",
       "      <td>419.0</td>\n",
       "      <td>444.0</td>\n",
       "      <td>245</td>\n",
       "      <td>222</td>\n",
       "      <td>23</td>\n",
       "      <td>0</td>\n",
       "      <td>NaN</td>\n",
       "      <td>0.0</td>\n",
       "      <td>0.0</td>\n",
       "      <td>0.0</td>\n",
       "      <td>147.0</td>\n",
       "      <td>373.0</td>\n",
       "    </tr>\n",
       "    <tr>\n",
       "      <th>1</th>\n",
       "      <td>Lyndon B. Johnson</td>\n",
       "      <td>1968</td>\n",
       "      <td>582</td>\n",
       "      <td>157</td>\n",
       "      <td>409.0</td>\n",
       "      <td>340.0</td>\n",
       "      <td>16</td>\n",
       "      <td>13</td>\n",
       "      <td>3</td>\n",
       "      <td>0</td>\n",
       "      <td>NaN</td>\n",
       "      <td>0.0</td>\n",
       "      <td>0.0</td>\n",
       "      <td>0.0</td>\n",
       "      <td>106.0</td>\n",
       "      <td>309.0</td>\n",
       "    </tr>\n",
       "    <tr>\n",
       "      <th>2</th>\n",
       "      <td>Lyndon B. Johnson</td>\n",
       "      <td>1969</td>\n",
       "      <td>872</td>\n",
       "      <td>185</td>\n",
       "      <td>278.0</td>\n",
       "      <td>195.0</td>\n",
       "      <td>0</td>\n",
       "      <td>0</td>\n",
       "      <td>0</td>\n",
       "      <td>0</td>\n",
       "      <td>NaN</td>\n",
       "      <td>0.0</td>\n",
       "      <td>0.0</td>\n",
       "      <td>0.0</td>\n",
       "      <td>129.0</td>\n",
       "      <td>196.0</td>\n",
       "    </tr>\n",
       "    <tr>\n",
       "      <th>3</th>\n",
       "      <td>Richard M. Nixon</td>\n",
       "      <td>1969</td>\n",
       "      <td>1021</td>\n",
       "      <td>184</td>\n",
       "      <td>136.0</td>\n",
       "      <td>115.0</td>\n",
       "      <td>0</td>\n",
       "      <td>0</td>\n",
       "      <td>0</td>\n",
       "      <td>0</td>\n",
       "      <td>NaN</td>\n",
       "      <td>0.0</td>\n",
       "      <td>0.0</td>\n",
       "      <td>0.0</td>\n",
       "      <td>123.0</td>\n",
       "      <td>57.0</td>\n",
       "    </tr>\n",
       "    <tr>\n",
       "      <th>4</th>\n",
       "      <td>Richard M. Nixon</td>\n",
       "      <td>1970</td>\n",
       "      <td>1034</td>\n",
       "      <td>242</td>\n",
       "      <td>337.0</td>\n",
       "      <td>122.0</td>\n",
       "      <td>96</td>\n",
       "      <td>82</td>\n",
       "      <td>14</td>\n",
       "      <td>0</td>\n",
       "      <td>NaN</td>\n",
       "      <td>0.0</td>\n",
       "      <td>0.0</td>\n",
       "      <td>0.0</td>\n",
       "      <td>432.0</td>\n",
       "      <td>266.0</td>\n",
       "    </tr>\n",
       "  </tbody>\n",
       "</table>\n",
       "</div>"
      ],
      "text/plain": [
       "           President  Fiscal Year  Petitions Pending (Pardons)  \\\n",
       "0  Lyndon B. Johnson         1967                          532   \n",
       "1  Lyndon B. Johnson         1968                          582   \n",
       "2  Lyndon B. Johnson         1969                          872   \n",
       "3   Richard M. Nixon         1969                         1021   \n",
       "4   Richard M. Nixon         1970                         1034   \n",
       "\n",
       "   Petitions Pending (Commutations)  Petitions Received (Pardons)  \\\n",
       "0                               109                         419.0   \n",
       "1                               157                         409.0   \n",
       "2                               185                         278.0   \n",
       "3                               184                         136.0   \n",
       "4                               242                         337.0   \n",
       "\n",
       "   Petitions Received (Commutations)  Petitions Granted  Pardons  \\\n",
       "0                              444.0                245      222   \n",
       "1                              340.0                 16       13   \n",
       "2                              195.0                  0        0   \n",
       "3                              115.0                  0        0   \n",
       "4                              122.0                 96       82   \n",
       "\n",
       "   Commutations  Remissions  Petitions Denied (Pardons)  \\\n",
       "0            23           0                         NaN   \n",
       "1             3           0                         NaN   \n",
       "2             0           0                         NaN   \n",
       "3             0           0                         NaN   \n",
       "4            14           0                         NaN   \n",
       "\n",
       "   Petitions Denied (Commutations)  \\\n",
       "0                              0.0   \n",
       "1                              0.0   \n",
       "2                              0.0   \n",
       "3                              0.0   \n",
       "4                              0.0   \n",
       "\n",
       "   Petitions Closed Without Presidential Action (Pardons)  \\\n",
       "0                                                0.0        \n",
       "1                                                0.0        \n",
       "2                                                0.0        \n",
       "3                                                0.0        \n",
       "4                                                0.0        \n",
       "\n",
       "   Petitions Closed Without Presidential Action (Commutations)  \\\n",
       "0                                                0.0             \n",
       "1                                                0.0             \n",
       "2                                                0.0             \n",
       "3                                                0.0             \n",
       "4                                                0.0             \n",
       "\n",
       "   Petitions Denied or Closed Without Presidential Action (Pardons)  \\\n",
       "0                                              147.0                  \n",
       "1                                              106.0                  \n",
       "2                                              129.0                  \n",
       "3                                              123.0                  \n",
       "4                                              432.0                  \n",
       "\n",
       "   Petitions Denied or Closed Without Presidential Action (Commutations)  \n",
       "0                                              373.0                      \n",
       "1                                              309.0                      \n",
       "2                                              196.0                      \n",
       "3                                               57.0                      \n",
       "4                                              266.0                      "
      ]
     },
     "execution_count": 45,
     "metadata": {},
     "output_type": "execute_result"
    }
   ],
   "source": [
    "p2[:5]"
   ]
  },
  {
   "cell_type": "code",
   "execution_count": 46,
   "metadata": {},
   "outputs": [
    {
     "data": {
      "text/plain": [
       "54    2175.0\n",
       "55    1638.0\n",
       "56    1845.0\n",
       "57    8241.0\n",
       "58     773.0\n",
       "Name: Petitions Denied (Pardons), dtype: float64"
      ]
     },
     "execution_count": 46,
     "metadata": {},
     "output_type": "execute_result"
    }
   ],
   "source": [
    "testcol[-5:]"
   ]
  },
  {
   "cell_type": "code",
   "execution_count": 47,
   "metadata": {},
   "outputs": [
    {
     "data": {
      "text/html": [
       "<div>\n",
       "<style scoped>\n",
       "    .dataframe tbody tr th:only-of-type {\n",
       "        vertical-align: middle;\n",
       "    }\n",
       "\n",
       "    .dataframe tbody tr th {\n",
       "        vertical-align: top;\n",
       "    }\n",
       "\n",
       "    .dataframe thead th {\n",
       "        text-align: right;\n",
       "    }\n",
       "</style>\n",
       "<table border=\"1\" class=\"dataframe\">\n",
       "  <thead>\n",
       "    <tr style=\"text-align: right;\">\n",
       "      <th></th>\n",
       "      <th>President</th>\n",
       "      <th>Fiscal Year</th>\n",
       "      <th>Petitions Pending (Pardons)</th>\n",
       "      <th>Petitions Pending (Commutations)</th>\n",
       "      <th>Petitions Received (Pardons)</th>\n",
       "      <th>Petitions Received (Commutations)</th>\n",
       "      <th>Petitions Granted</th>\n",
       "      <th>Pardons</th>\n",
       "      <th>Commutations</th>\n",
       "      <th>Remissions</th>\n",
       "      <th>Petitions Denied (Pardons)</th>\n",
       "      <th>Petitions Denied (Commutations)</th>\n",
       "      <th>Petitions Closed Without Presidential Action (Pardons)</th>\n",
       "      <th>Petitions Closed Without Presidential Action (Commutations)</th>\n",
       "      <th>Petitions Denied or Closed Without Presidential Action (Pardons)</th>\n",
       "      <th>Petitions Denied or Closed Without Presidential Action (Commutations)</th>\n",
       "    </tr>\n",
       "  </thead>\n",
       "  <tbody>\n",
       "    <tr>\n",
       "      <th>54</th>\n",
       "      <td>Barack Obama</td>\n",
       "      <td>2013</td>\n",
       "      <td>826</td>\n",
       "      <td>2232</td>\n",
       "      <td>303.0</td>\n",
       "      <td>2370.0</td>\n",
       "      <td>17</td>\n",
       "      <td>17</td>\n",
       "      <td>0</td>\n",
       "      <td>0</td>\n",
       "      <td>314.0</td>\n",
       "      <td>1577.0</td>\n",
       "      <td>44.0</td>\n",
       "      <td>240.0</td>\n",
       "      <td>0.0</td>\n",
       "      <td>0.0</td>\n",
       "    </tr>\n",
       "    <tr>\n",
       "      <th>55</th>\n",
       "      <td>Barack Obama</td>\n",
       "      <td>2014</td>\n",
       "      <td>754</td>\n",
       "      <td>2785</td>\n",
       "      <td>273.0</td>\n",
       "      <td>6561.0</td>\n",
       "      <td>22</td>\n",
       "      <td>13</td>\n",
       "      <td>9</td>\n",
       "      <td>0</td>\n",
       "      <td>154.0</td>\n",
       "      <td>1226.0</td>\n",
       "      <td>36.0</td>\n",
       "      <td>222.0</td>\n",
       "      <td>0.0</td>\n",
       "      <td>0.0</td>\n",
       "    </tr>\n",
       "    <tr>\n",
       "      <th>56</th>\n",
       "      <td>Barack Obama</td>\n",
       "      <td>2015</td>\n",
       "      <td>824</td>\n",
       "      <td>7889</td>\n",
       "      <td>294.0</td>\n",
       "      <td>2999.0</td>\n",
       "      <td>91</td>\n",
       "      <td>12</td>\n",
       "      <td>79</td>\n",
       "      <td>0</td>\n",
       "      <td>142.0</td>\n",
       "      <td>782.0</td>\n",
       "      <td>6.0</td>\n",
       "      <td>915.0</td>\n",
       "      <td>0.0</td>\n",
       "      <td>0.0</td>\n",
       "    </tr>\n",
       "    <tr>\n",
       "      <th>57</th>\n",
       "      <td>Barack Obama</td>\n",
       "      <td>2016</td>\n",
       "      <td>958</td>\n",
       "      <td>9115</td>\n",
       "      <td>998.0</td>\n",
       "      <td>11028.0</td>\n",
       "      <td>589</td>\n",
       "      <td>6</td>\n",
       "      <td>583</td>\n",
       "      <td>0</td>\n",
       "      <td>0.0</td>\n",
       "      <td>6507.0</td>\n",
       "      <td>34.0</td>\n",
       "      <td>1700.0</td>\n",
       "      <td>0.0</td>\n",
       "      <td>0.0</td>\n",
       "    </tr>\n",
       "    <tr>\n",
       "      <th>58</th>\n",
       "      <td>Barack Obama</td>\n",
       "      <td>2017</td>\n",
       "      <td>1920</td>\n",
       "      <td>11355</td>\n",
       "      <td>317.0</td>\n",
       "      <td>3473.0</td>\n",
       "      <td>582</td>\n",
       "      <td>78</td>\n",
       "      <td>504</td>\n",
       "      <td>0</td>\n",
       "      <td>0.0</td>\n",
       "      <td>600.0</td>\n",
       "      <td>5.0</td>\n",
       "      <td>168.0</td>\n",
       "      <td>0.0</td>\n",
       "      <td>0.0</td>\n",
       "    </tr>\n",
       "  </tbody>\n",
       "</table>\n",
       "</div>"
      ],
      "text/plain": [
       "       President  Fiscal Year  Petitions Pending (Pardons)  \\\n",
       "54  Barack Obama         2013                          826   \n",
       "55  Barack Obama         2014                          754   \n",
       "56  Barack Obama         2015                          824   \n",
       "57  Barack Obama         2016                          958   \n",
       "58  Barack Obama         2017                         1920   \n",
       "\n",
       "    Petitions Pending (Commutations)  Petitions Received (Pardons)  \\\n",
       "54                              2232                         303.0   \n",
       "55                              2785                         273.0   \n",
       "56                              7889                         294.0   \n",
       "57                              9115                         998.0   \n",
       "58                             11355                         317.0   \n",
       "\n",
       "    Petitions Received (Commutations)  Petitions Granted  Pardons  \\\n",
       "54                             2370.0                 17       17   \n",
       "55                             6561.0                 22       13   \n",
       "56                             2999.0                 91       12   \n",
       "57                            11028.0                589        6   \n",
       "58                             3473.0                582       78   \n",
       "\n",
       "    Commutations  Remissions  Petitions Denied (Pardons)  \\\n",
       "54             0           0                       314.0   \n",
       "55             9           0                       154.0   \n",
       "56            79           0                       142.0   \n",
       "57           583           0                         0.0   \n",
       "58           504           0                         0.0   \n",
       "\n",
       "    Petitions Denied (Commutations)  \\\n",
       "54                           1577.0   \n",
       "55                           1226.0   \n",
       "56                            782.0   \n",
       "57                           6507.0   \n",
       "58                            600.0   \n",
       "\n",
       "    Petitions Closed Without Presidential Action (Pardons)  \\\n",
       "54                                               44.0        \n",
       "55                                               36.0        \n",
       "56                                                6.0        \n",
       "57                                               34.0        \n",
       "58                                                5.0        \n",
       "\n",
       "    Petitions Closed Without Presidential Action (Commutations)  \\\n",
       "54                                              240.0             \n",
       "55                                              222.0             \n",
       "56                                              915.0             \n",
       "57                                             1700.0             \n",
       "58                                              168.0             \n",
       "\n",
       "    Petitions Denied or Closed Without Presidential Action (Pardons)  \\\n",
       "54                                                0.0                  \n",
       "55                                                0.0                  \n",
       "56                                                0.0                  \n",
       "57                                                0.0                  \n",
       "58                                                0.0                  \n",
       "\n",
       "    Petitions Denied or Closed Without Presidential Action (Commutations)  \n",
       "54                                                0.0                      \n",
       "55                                                0.0                      \n",
       "56                                                0.0                      \n",
       "57                                                0.0                      \n",
       "58                                                0.0                      "
      ]
     },
     "execution_count": 47,
     "metadata": {},
     "output_type": "execute_result"
    }
   ],
   "source": [
    "p2[-5:]"
   ]
  },
  {
   "cell_type": "code",
   "execution_count": 48,
   "metadata": {},
   "outputs": [],
   "source": [
    "p2['Rejected']=testcol"
   ]
  },
  {
   "cell_type": "code",
   "execution_count": 49,
   "metadata": {},
   "outputs": [
    {
     "data": {
      "text/html": [
       "<div>\n",
       "<style scoped>\n",
       "    .dataframe tbody tr th:only-of-type {\n",
       "        vertical-align: middle;\n",
       "    }\n",
       "\n",
       "    .dataframe tbody tr th {\n",
       "        vertical-align: top;\n",
       "    }\n",
       "\n",
       "    .dataframe thead th {\n",
       "        text-align: right;\n",
       "    }\n",
       "</style>\n",
       "<table border=\"1\" class=\"dataframe\">\n",
       "  <thead>\n",
       "    <tr style=\"text-align: right;\">\n",
       "      <th></th>\n",
       "      <th>President</th>\n",
       "      <th>Fiscal Year</th>\n",
       "      <th>Petitions Pending (Pardons)</th>\n",
       "      <th>Petitions Pending (Commutations)</th>\n",
       "      <th>Petitions Received (Pardons)</th>\n",
       "      <th>Petitions Received (Commutations)</th>\n",
       "      <th>Petitions Granted</th>\n",
       "      <th>Pardons</th>\n",
       "      <th>Commutations</th>\n",
       "      <th>Remissions</th>\n",
       "      <th>Petitions Denied (Pardons)</th>\n",
       "      <th>Petitions Denied (Commutations)</th>\n",
       "      <th>Petitions Closed Without Presidential Action (Pardons)</th>\n",
       "      <th>Petitions Closed Without Presidential Action (Commutations)</th>\n",
       "      <th>Petitions Denied or Closed Without Presidential Action (Pardons)</th>\n",
       "      <th>Petitions Denied or Closed Without Presidential Action (Commutations)</th>\n",
       "      <th>Rejected</th>\n",
       "    </tr>\n",
       "  </thead>\n",
       "  <tbody>\n",
       "    <tr>\n",
       "      <th>0</th>\n",
       "      <td>Lyndon B. Johnson</td>\n",
       "      <td>1967</td>\n",
       "      <td>532</td>\n",
       "      <td>109</td>\n",
       "      <td>419.0</td>\n",
       "      <td>444.0</td>\n",
       "      <td>245</td>\n",
       "      <td>222</td>\n",
       "      <td>23</td>\n",
       "      <td>0</td>\n",
       "      <td>NaN</td>\n",
       "      <td>0.0</td>\n",
       "      <td>0.0</td>\n",
       "      <td>0.0</td>\n",
       "      <td>147.0</td>\n",
       "      <td>373.0</td>\n",
       "      <td>520.0</td>\n",
       "    </tr>\n",
       "    <tr>\n",
       "      <th>1</th>\n",
       "      <td>Lyndon B. Johnson</td>\n",
       "      <td>1968</td>\n",
       "      <td>582</td>\n",
       "      <td>157</td>\n",
       "      <td>409.0</td>\n",
       "      <td>340.0</td>\n",
       "      <td>16</td>\n",
       "      <td>13</td>\n",
       "      <td>3</td>\n",
       "      <td>0</td>\n",
       "      <td>NaN</td>\n",
       "      <td>0.0</td>\n",
       "      <td>0.0</td>\n",
       "      <td>0.0</td>\n",
       "      <td>106.0</td>\n",
       "      <td>309.0</td>\n",
       "      <td>415.0</td>\n",
       "    </tr>\n",
       "    <tr>\n",
       "      <th>2</th>\n",
       "      <td>Lyndon B. Johnson</td>\n",
       "      <td>1969</td>\n",
       "      <td>872</td>\n",
       "      <td>185</td>\n",
       "      <td>278.0</td>\n",
       "      <td>195.0</td>\n",
       "      <td>0</td>\n",
       "      <td>0</td>\n",
       "      <td>0</td>\n",
       "      <td>0</td>\n",
       "      <td>NaN</td>\n",
       "      <td>0.0</td>\n",
       "      <td>0.0</td>\n",
       "      <td>0.0</td>\n",
       "      <td>129.0</td>\n",
       "      <td>196.0</td>\n",
       "      <td>325.0</td>\n",
       "    </tr>\n",
       "    <tr>\n",
       "      <th>3</th>\n",
       "      <td>Richard M. Nixon</td>\n",
       "      <td>1969</td>\n",
       "      <td>1021</td>\n",
       "      <td>184</td>\n",
       "      <td>136.0</td>\n",
       "      <td>115.0</td>\n",
       "      <td>0</td>\n",
       "      <td>0</td>\n",
       "      <td>0</td>\n",
       "      <td>0</td>\n",
       "      <td>NaN</td>\n",
       "      <td>0.0</td>\n",
       "      <td>0.0</td>\n",
       "      <td>0.0</td>\n",
       "      <td>123.0</td>\n",
       "      <td>57.0</td>\n",
       "      <td>180.0</td>\n",
       "    </tr>\n",
       "    <tr>\n",
       "      <th>4</th>\n",
       "      <td>Richard M. Nixon</td>\n",
       "      <td>1970</td>\n",
       "      <td>1034</td>\n",
       "      <td>242</td>\n",
       "      <td>337.0</td>\n",
       "      <td>122.0</td>\n",
       "      <td>96</td>\n",
       "      <td>82</td>\n",
       "      <td>14</td>\n",
       "      <td>0</td>\n",
       "      <td>NaN</td>\n",
       "      <td>0.0</td>\n",
       "      <td>0.0</td>\n",
       "      <td>0.0</td>\n",
       "      <td>432.0</td>\n",
       "      <td>266.0</td>\n",
       "      <td>698.0</td>\n",
       "    </tr>\n",
       "  </tbody>\n",
       "</table>\n",
       "</div>"
      ],
      "text/plain": [
       "           President  Fiscal Year  Petitions Pending (Pardons)  \\\n",
       "0  Lyndon B. Johnson         1967                          532   \n",
       "1  Lyndon B. Johnson         1968                          582   \n",
       "2  Lyndon B. Johnson         1969                          872   \n",
       "3   Richard M. Nixon         1969                         1021   \n",
       "4   Richard M. Nixon         1970                         1034   \n",
       "\n",
       "   Petitions Pending (Commutations)  Petitions Received (Pardons)  \\\n",
       "0                               109                         419.0   \n",
       "1                               157                         409.0   \n",
       "2                               185                         278.0   \n",
       "3                               184                         136.0   \n",
       "4                               242                         337.0   \n",
       "\n",
       "   Petitions Received (Commutations)  Petitions Granted  Pardons  \\\n",
       "0                              444.0                245      222   \n",
       "1                              340.0                 16       13   \n",
       "2                              195.0                  0        0   \n",
       "3                              115.0                  0        0   \n",
       "4                              122.0                 96       82   \n",
       "\n",
       "   Commutations  Remissions  Petitions Denied (Pardons)  \\\n",
       "0            23           0                         NaN   \n",
       "1             3           0                         NaN   \n",
       "2             0           0                         NaN   \n",
       "3             0           0                         NaN   \n",
       "4            14           0                         NaN   \n",
       "\n",
       "   Petitions Denied (Commutations)  \\\n",
       "0                              0.0   \n",
       "1                              0.0   \n",
       "2                              0.0   \n",
       "3                              0.0   \n",
       "4                              0.0   \n",
       "\n",
       "   Petitions Closed Without Presidential Action (Pardons)  \\\n",
       "0                                                0.0        \n",
       "1                                                0.0        \n",
       "2                                                0.0        \n",
       "3                                                0.0        \n",
       "4                                                0.0        \n",
       "\n",
       "   Petitions Closed Without Presidential Action (Commutations)  \\\n",
       "0                                                0.0             \n",
       "1                                                0.0             \n",
       "2                                                0.0             \n",
       "3                                                0.0             \n",
       "4                                                0.0             \n",
       "\n",
       "   Petitions Denied or Closed Without Presidential Action (Pardons)  \\\n",
       "0                                              147.0                  \n",
       "1                                              106.0                  \n",
       "2                                              129.0                  \n",
       "3                                              123.0                  \n",
       "4                                              432.0                  \n",
       "\n",
       "   Petitions Denied or Closed Without Presidential Action (Commutations)  \\\n",
       "0                                              373.0                       \n",
       "1                                              309.0                       \n",
       "2                                              196.0                       \n",
       "3                                               57.0                       \n",
       "4                                              266.0                       \n",
       "\n",
       "   Rejected  \n",
       "0     520.0  \n",
       "1     415.0  \n",
       "2     325.0  \n",
       "3     180.0  \n",
       "4     698.0  "
      ]
     },
     "execution_count": 49,
     "metadata": {},
     "output_type": "execute_result"
    }
   ],
   "source": [
    "p2[:5]"
   ]
  },
  {
   "cell_type": "code",
   "execution_count": 50,
   "metadata": {},
   "outputs": [
    {
     "data": {
      "text/plain": [
       "4"
      ]
     },
     "execution_count": 50,
     "metadata": {},
     "output_type": "execute_result"
    }
   ],
   "source": [
    "p1.columns.get_loc('Petitions Granted')"
   ]
  },
  {
   "cell_type": "code",
   "execution_count": 51,
   "metadata": {},
   "outputs": [],
   "source": [
    "p1['Resolved']=p1.iloc[:,4]+p1['Rejected']"
   ]
  },
  {
   "cell_type": "code",
   "execution_count": 52,
   "metadata": {},
   "outputs": [
    {
     "data": {
      "text/html": [
       "<div>\n",
       "<style scoped>\n",
       "    .dataframe tbody tr th:only-of-type {\n",
       "        vertical-align: middle;\n",
       "    }\n",
       "\n",
       "    .dataframe tbody tr th {\n",
       "        vertical-align: top;\n",
       "    }\n",
       "\n",
       "    .dataframe thead th {\n",
       "        text-align: right;\n",
       "    }\n",
       "</style>\n",
       "<table border=\"1\" class=\"dataframe\">\n",
       "  <thead>\n",
       "    <tr style=\"text-align: right;\">\n",
       "      <th></th>\n",
       "      <th>President</th>\n",
       "      <th>Fiscal Year</th>\n",
       "      <th>Petitions Pending</th>\n",
       "      <th>Petitions Received</th>\n",
       "      <th>Petitions Granted</th>\n",
       "      <th>Pardons</th>\n",
       "      <th>Commutations</th>\n",
       "      <th>Respites</th>\n",
       "      <th>Remissions</th>\n",
       "      <th>Petitions Denied</th>\n",
       "      <th>Petitions Closed Without Presidential Action</th>\n",
       "      <th>Rejected</th>\n",
       "      <th>Resolved</th>\n",
       "    </tr>\n",
       "  </thead>\n",
       "  <tbody>\n",
       "    <tr>\n",
       "      <th>0</th>\n",
       "      <td>William McKinley</td>\n",
       "      <td>1900</td>\n",
       "      <td>68</td>\n",
       "      <td>677</td>\n",
       "      <td>220</td>\n",
       "      <td>129</td>\n",
       "      <td>73</td>\n",
       "      <td>4.0</td>\n",
       "      <td>14</td>\n",
       "      <td>131.0</td>\n",
       "      <td>332.0</td>\n",
       "      <td>463.0</td>\n",
       "      <td>683.0</td>\n",
       "    </tr>\n",
       "    <tr>\n",
       "      <th>1</th>\n",
       "      <td>William McKinley</td>\n",
       "      <td>1901</td>\n",
       "      <td>45</td>\n",
       "      <td>796</td>\n",
       "      <td>226</td>\n",
       "      <td>162</td>\n",
       "      <td>50</td>\n",
       "      <td>2.0</td>\n",
       "      <td>12</td>\n",
       "      <td>117.0</td>\n",
       "      <td>448.0</td>\n",
       "      <td>565.0</td>\n",
       "      <td>791.0</td>\n",
       "    </tr>\n",
       "    <tr>\n",
       "      <th>2</th>\n",
       "      <td>Theodore Roosevelt</td>\n",
       "      <td>1902</td>\n",
       "      <td>50</td>\n",
       "      <td>738</td>\n",
       "      <td>134</td>\n",
       "      <td>92</td>\n",
       "      <td>36</td>\n",
       "      <td>0.0</td>\n",
       "      <td>6</td>\n",
       "      <td>181.0</td>\n",
       "      <td>366.0</td>\n",
       "      <td>547.0</td>\n",
       "      <td>681.0</td>\n",
       "    </tr>\n",
       "    <tr>\n",
       "      <th>3</th>\n",
       "      <td>Theodore Roosevelt</td>\n",
       "      <td>1903</td>\n",
       "      <td>107</td>\n",
       "      <td>543</td>\n",
       "      <td>134</td>\n",
       "      <td>70</td>\n",
       "      <td>57</td>\n",
       "      <td>0.0</td>\n",
       "      <td>7</td>\n",
       "      <td>131.0</td>\n",
       "      <td>316.0</td>\n",
       "      <td>447.0</td>\n",
       "      <td>581.0</td>\n",
       "    </tr>\n",
       "    <tr>\n",
       "      <th>4</th>\n",
       "      <td>Theodore Roosevelt</td>\n",
       "      <td>1904</td>\n",
       "      <td>69</td>\n",
       "      <td>585</td>\n",
       "      <td>162</td>\n",
       "      <td>87</td>\n",
       "      <td>62</td>\n",
       "      <td>2.0</td>\n",
       "      <td>11</td>\n",
       "      <td>122.0</td>\n",
       "      <td>278.0</td>\n",
       "      <td>400.0</td>\n",
       "      <td>562.0</td>\n",
       "    </tr>\n",
       "  </tbody>\n",
       "</table>\n",
       "</div>"
      ],
      "text/plain": [
       "            President  Fiscal Year  Petitions Pending  Petitions Received  \\\n",
       "0    William McKinley         1900                 68                 677   \n",
       "1    William McKinley         1901                 45                 796   \n",
       "2  Theodore Roosevelt         1902                 50                 738   \n",
       "3  Theodore Roosevelt         1903                107                 543   \n",
       "4  Theodore Roosevelt         1904                 69                 585   \n",
       "\n",
       "   Petitions Granted  Pardons  Commutations  Respites  Remissions  \\\n",
       "0                220      129            73       4.0          14   \n",
       "1                226      162            50       2.0          12   \n",
       "2                134       92            36       0.0           6   \n",
       "3                134       70            57       0.0           7   \n",
       "4                162       87            62       2.0          11   \n",
       "\n",
       "   Petitions Denied  Petitions Closed Without Presidential Action  Rejected  \\\n",
       "0             131.0                                         332.0     463.0   \n",
       "1             117.0                                         448.0     565.0   \n",
       "2             181.0                                         366.0     547.0   \n",
       "3             131.0                                         316.0     447.0   \n",
       "4             122.0                                         278.0     400.0   \n",
       "\n",
       "   Resolved  \n",
       "0     683.0  \n",
       "1     791.0  \n",
       "2     681.0  \n",
       "3     581.0  \n",
       "4     562.0  "
      ]
     },
     "execution_count": 52,
     "metadata": {},
     "output_type": "execute_result"
    }
   ],
   "source": [
    "p1[:5]"
   ]
  },
  {
   "cell_type": "code",
   "execution_count": 53,
   "metadata": {},
   "outputs": [
    {
     "data": {
      "text/plain": [
       "6"
      ]
     },
     "execution_count": 53,
     "metadata": {},
     "output_type": "execute_result"
    }
   ],
   "source": [
    "p2.columns.get_loc('Petitions Granted')"
   ]
  },
  {
   "cell_type": "code",
   "execution_count": 54,
   "metadata": {},
   "outputs": [],
   "source": [
    "p2['Resolved']=p2.iloc[:,6]+p2['Rejected']"
   ]
  },
  {
   "cell_type": "code",
   "execution_count": 55,
   "metadata": {},
   "outputs": [
    {
     "data": {
      "text/html": [
       "<div>\n",
       "<style scoped>\n",
       "    .dataframe tbody tr th:only-of-type {\n",
       "        vertical-align: middle;\n",
       "    }\n",
       "\n",
       "    .dataframe tbody tr th {\n",
       "        vertical-align: top;\n",
       "    }\n",
       "\n",
       "    .dataframe thead th {\n",
       "        text-align: right;\n",
       "    }\n",
       "</style>\n",
       "<table border=\"1\" class=\"dataframe\">\n",
       "  <thead>\n",
       "    <tr style=\"text-align: right;\">\n",
       "      <th></th>\n",
       "      <th>President</th>\n",
       "      <th>Fiscal Year</th>\n",
       "      <th>Petitions Pending (Pardons)</th>\n",
       "      <th>Petitions Pending (Commutations)</th>\n",
       "      <th>Petitions Received (Pardons)</th>\n",
       "      <th>Petitions Received (Commutations)</th>\n",
       "      <th>Petitions Granted</th>\n",
       "      <th>Pardons</th>\n",
       "      <th>Commutations</th>\n",
       "      <th>Remissions</th>\n",
       "      <th>Petitions Denied (Pardons)</th>\n",
       "      <th>Petitions Denied (Commutations)</th>\n",
       "      <th>Petitions Closed Without Presidential Action (Pardons)</th>\n",
       "      <th>Petitions Closed Without Presidential Action (Commutations)</th>\n",
       "      <th>Petitions Denied or Closed Without Presidential Action (Pardons)</th>\n",
       "      <th>Petitions Denied or Closed Without Presidential Action (Commutations)</th>\n",
       "      <th>Rejected</th>\n",
       "      <th>Resolved</th>\n",
       "    </tr>\n",
       "  </thead>\n",
       "  <tbody>\n",
       "    <tr>\n",
       "      <th>0</th>\n",
       "      <td>Lyndon B. Johnson</td>\n",
       "      <td>1967</td>\n",
       "      <td>532</td>\n",
       "      <td>109</td>\n",
       "      <td>419.0</td>\n",
       "      <td>444.0</td>\n",
       "      <td>245</td>\n",
       "      <td>222</td>\n",
       "      <td>23</td>\n",
       "      <td>0</td>\n",
       "      <td>NaN</td>\n",
       "      <td>0.0</td>\n",
       "      <td>0.0</td>\n",
       "      <td>0.0</td>\n",
       "      <td>147.0</td>\n",
       "      <td>373.0</td>\n",
       "      <td>520.0</td>\n",
       "      <td>765.0</td>\n",
       "    </tr>\n",
       "    <tr>\n",
       "      <th>1</th>\n",
       "      <td>Lyndon B. Johnson</td>\n",
       "      <td>1968</td>\n",
       "      <td>582</td>\n",
       "      <td>157</td>\n",
       "      <td>409.0</td>\n",
       "      <td>340.0</td>\n",
       "      <td>16</td>\n",
       "      <td>13</td>\n",
       "      <td>3</td>\n",
       "      <td>0</td>\n",
       "      <td>NaN</td>\n",
       "      <td>0.0</td>\n",
       "      <td>0.0</td>\n",
       "      <td>0.0</td>\n",
       "      <td>106.0</td>\n",
       "      <td>309.0</td>\n",
       "      <td>415.0</td>\n",
       "      <td>431.0</td>\n",
       "    </tr>\n",
       "    <tr>\n",
       "      <th>2</th>\n",
       "      <td>Lyndon B. Johnson</td>\n",
       "      <td>1969</td>\n",
       "      <td>872</td>\n",
       "      <td>185</td>\n",
       "      <td>278.0</td>\n",
       "      <td>195.0</td>\n",
       "      <td>0</td>\n",
       "      <td>0</td>\n",
       "      <td>0</td>\n",
       "      <td>0</td>\n",
       "      <td>NaN</td>\n",
       "      <td>0.0</td>\n",
       "      <td>0.0</td>\n",
       "      <td>0.0</td>\n",
       "      <td>129.0</td>\n",
       "      <td>196.0</td>\n",
       "      <td>325.0</td>\n",
       "      <td>325.0</td>\n",
       "    </tr>\n",
       "    <tr>\n",
       "      <th>3</th>\n",
       "      <td>Richard M. Nixon</td>\n",
       "      <td>1969</td>\n",
       "      <td>1021</td>\n",
       "      <td>184</td>\n",
       "      <td>136.0</td>\n",
       "      <td>115.0</td>\n",
       "      <td>0</td>\n",
       "      <td>0</td>\n",
       "      <td>0</td>\n",
       "      <td>0</td>\n",
       "      <td>NaN</td>\n",
       "      <td>0.0</td>\n",
       "      <td>0.0</td>\n",
       "      <td>0.0</td>\n",
       "      <td>123.0</td>\n",
       "      <td>57.0</td>\n",
       "      <td>180.0</td>\n",
       "      <td>180.0</td>\n",
       "    </tr>\n",
       "    <tr>\n",
       "      <th>4</th>\n",
       "      <td>Richard M. Nixon</td>\n",
       "      <td>1970</td>\n",
       "      <td>1034</td>\n",
       "      <td>242</td>\n",
       "      <td>337.0</td>\n",
       "      <td>122.0</td>\n",
       "      <td>96</td>\n",
       "      <td>82</td>\n",
       "      <td>14</td>\n",
       "      <td>0</td>\n",
       "      <td>NaN</td>\n",
       "      <td>0.0</td>\n",
       "      <td>0.0</td>\n",
       "      <td>0.0</td>\n",
       "      <td>432.0</td>\n",
       "      <td>266.0</td>\n",
       "      <td>698.0</td>\n",
       "      <td>794.0</td>\n",
       "    </tr>\n",
       "  </tbody>\n",
       "</table>\n",
       "</div>"
      ],
      "text/plain": [
       "           President  Fiscal Year  Petitions Pending (Pardons)  \\\n",
       "0  Lyndon B. Johnson         1967                          532   \n",
       "1  Lyndon B. Johnson         1968                          582   \n",
       "2  Lyndon B. Johnson         1969                          872   \n",
       "3   Richard M. Nixon         1969                         1021   \n",
       "4   Richard M. Nixon         1970                         1034   \n",
       "\n",
       "   Petitions Pending (Commutations)  Petitions Received (Pardons)  \\\n",
       "0                               109                         419.0   \n",
       "1                               157                         409.0   \n",
       "2                               185                         278.0   \n",
       "3                               184                         136.0   \n",
       "4                               242                         337.0   \n",
       "\n",
       "   Petitions Received (Commutations)  Petitions Granted  Pardons  \\\n",
       "0                              444.0                245      222   \n",
       "1                              340.0                 16       13   \n",
       "2                              195.0                  0        0   \n",
       "3                              115.0                  0        0   \n",
       "4                              122.0                 96       82   \n",
       "\n",
       "   Commutations  Remissions  Petitions Denied (Pardons)  \\\n",
       "0            23           0                         NaN   \n",
       "1             3           0                         NaN   \n",
       "2             0           0                         NaN   \n",
       "3             0           0                         NaN   \n",
       "4            14           0                         NaN   \n",
       "\n",
       "   Petitions Denied (Commutations)  \\\n",
       "0                              0.0   \n",
       "1                              0.0   \n",
       "2                              0.0   \n",
       "3                              0.0   \n",
       "4                              0.0   \n",
       "\n",
       "   Petitions Closed Without Presidential Action (Pardons)  \\\n",
       "0                                                0.0        \n",
       "1                                                0.0        \n",
       "2                                                0.0        \n",
       "3                                                0.0        \n",
       "4                                                0.0        \n",
       "\n",
       "   Petitions Closed Without Presidential Action (Commutations)  \\\n",
       "0                                                0.0             \n",
       "1                                                0.0             \n",
       "2                                                0.0             \n",
       "3                                                0.0             \n",
       "4                                                0.0             \n",
       "\n",
       "   Petitions Denied or Closed Without Presidential Action (Pardons)  \\\n",
       "0                                              147.0                  \n",
       "1                                              106.0                  \n",
       "2                                              129.0                  \n",
       "3                                              123.0                  \n",
       "4                                              432.0                  \n",
       "\n",
       "   Petitions Denied or Closed Without Presidential Action (Commutations)  \\\n",
       "0                                              373.0                       \n",
       "1                                              309.0                       \n",
       "2                                              196.0                       \n",
       "3                                               57.0                       \n",
       "4                                              266.0                       \n",
       "\n",
       "   Rejected  Resolved  \n",
       "0     520.0     765.0  \n",
       "1     415.0     431.0  \n",
       "2     325.0     325.0  \n",
       "3     180.0     180.0  \n",
       "4     698.0     794.0  "
      ]
     },
     "execution_count": 55,
     "metadata": {},
     "output_type": "execute_result"
    }
   ],
   "source": [
    "p2[:5]"
   ]
  },
  {
   "cell_type": "code",
   "execution_count": 56,
   "metadata": {},
   "outputs": [],
   "source": [
    "p1['%Granted']=100*p1.iloc[:,4]/p1['Resolved'] #returns float as it should"
   ]
  },
  {
   "cell_type": "code",
   "execution_count": 57,
   "metadata": {},
   "outputs": [
    {
     "data": {
      "text/html": [
       "<div>\n",
       "<style scoped>\n",
       "    .dataframe tbody tr th:only-of-type {\n",
       "        vertical-align: middle;\n",
       "    }\n",
       "\n",
       "    .dataframe tbody tr th {\n",
       "        vertical-align: top;\n",
       "    }\n",
       "\n",
       "    .dataframe thead th {\n",
       "        text-align: right;\n",
       "    }\n",
       "</style>\n",
       "<table border=\"1\" class=\"dataframe\">\n",
       "  <thead>\n",
       "    <tr style=\"text-align: right;\">\n",
       "      <th></th>\n",
       "      <th>President</th>\n",
       "      <th>Fiscal Year</th>\n",
       "      <th>Petitions Pending</th>\n",
       "      <th>Petitions Received</th>\n",
       "      <th>Petitions Granted</th>\n",
       "      <th>Pardons</th>\n",
       "      <th>Commutations</th>\n",
       "      <th>Respites</th>\n",
       "      <th>Remissions</th>\n",
       "      <th>Petitions Denied</th>\n",
       "      <th>Petitions Closed Without Presidential Action</th>\n",
       "      <th>Rejected</th>\n",
       "      <th>Resolved</th>\n",
       "      <th>%Granted</th>\n",
       "    </tr>\n",
       "  </thead>\n",
       "  <tbody>\n",
       "    <tr>\n",
       "      <th>0</th>\n",
       "      <td>William McKinley</td>\n",
       "      <td>1900</td>\n",
       "      <td>68</td>\n",
       "      <td>677</td>\n",
       "      <td>220</td>\n",
       "      <td>129</td>\n",
       "      <td>73</td>\n",
       "      <td>4.0</td>\n",
       "      <td>14</td>\n",
       "      <td>131.0</td>\n",
       "      <td>332.0</td>\n",
       "      <td>463.0</td>\n",
       "      <td>683.0</td>\n",
       "      <td>32.210835</td>\n",
       "    </tr>\n",
       "    <tr>\n",
       "      <th>1</th>\n",
       "      <td>William McKinley</td>\n",
       "      <td>1901</td>\n",
       "      <td>45</td>\n",
       "      <td>796</td>\n",
       "      <td>226</td>\n",
       "      <td>162</td>\n",
       "      <td>50</td>\n",
       "      <td>2.0</td>\n",
       "      <td>12</td>\n",
       "      <td>117.0</td>\n",
       "      <td>448.0</td>\n",
       "      <td>565.0</td>\n",
       "      <td>791.0</td>\n",
       "      <td>28.571429</td>\n",
       "    </tr>\n",
       "    <tr>\n",
       "      <th>2</th>\n",
       "      <td>Theodore Roosevelt</td>\n",
       "      <td>1902</td>\n",
       "      <td>50</td>\n",
       "      <td>738</td>\n",
       "      <td>134</td>\n",
       "      <td>92</td>\n",
       "      <td>36</td>\n",
       "      <td>0.0</td>\n",
       "      <td>6</td>\n",
       "      <td>181.0</td>\n",
       "      <td>366.0</td>\n",
       "      <td>547.0</td>\n",
       "      <td>681.0</td>\n",
       "      <td>19.676946</td>\n",
       "    </tr>\n",
       "    <tr>\n",
       "      <th>3</th>\n",
       "      <td>Theodore Roosevelt</td>\n",
       "      <td>1903</td>\n",
       "      <td>107</td>\n",
       "      <td>543</td>\n",
       "      <td>134</td>\n",
       "      <td>70</td>\n",
       "      <td>57</td>\n",
       "      <td>0.0</td>\n",
       "      <td>7</td>\n",
       "      <td>131.0</td>\n",
       "      <td>316.0</td>\n",
       "      <td>447.0</td>\n",
       "      <td>581.0</td>\n",
       "      <td>23.063683</td>\n",
       "    </tr>\n",
       "    <tr>\n",
       "      <th>4</th>\n",
       "      <td>Theodore Roosevelt</td>\n",
       "      <td>1904</td>\n",
       "      <td>69</td>\n",
       "      <td>585</td>\n",
       "      <td>162</td>\n",
       "      <td>87</td>\n",
       "      <td>62</td>\n",
       "      <td>2.0</td>\n",
       "      <td>11</td>\n",
       "      <td>122.0</td>\n",
       "      <td>278.0</td>\n",
       "      <td>400.0</td>\n",
       "      <td>562.0</td>\n",
       "      <td>28.825623</td>\n",
       "    </tr>\n",
       "  </tbody>\n",
       "</table>\n",
       "</div>"
      ],
      "text/plain": [
       "            President  Fiscal Year  Petitions Pending  Petitions Received  \\\n",
       "0    William McKinley         1900                 68                 677   \n",
       "1    William McKinley         1901                 45                 796   \n",
       "2  Theodore Roosevelt         1902                 50                 738   \n",
       "3  Theodore Roosevelt         1903                107                 543   \n",
       "4  Theodore Roosevelt         1904                 69                 585   \n",
       "\n",
       "   Petitions Granted  Pardons  Commutations  Respites  Remissions  \\\n",
       "0                220      129            73       4.0          14   \n",
       "1                226      162            50       2.0          12   \n",
       "2                134       92            36       0.0           6   \n",
       "3                134       70            57       0.0           7   \n",
       "4                162       87            62       2.0          11   \n",
       "\n",
       "   Petitions Denied  Petitions Closed Without Presidential Action  Rejected  \\\n",
       "0             131.0                                         332.0     463.0   \n",
       "1             117.0                                         448.0     565.0   \n",
       "2             181.0                                         366.0     547.0   \n",
       "3             131.0                                         316.0     447.0   \n",
       "4             122.0                                         278.0     400.0   \n",
       "\n",
       "   Resolved   %Granted  \n",
       "0     683.0  32.210835  \n",
       "1     791.0  28.571429  \n",
       "2     681.0  19.676946  \n",
       "3     581.0  23.063683  \n",
       "4     562.0  28.825623  "
      ]
     },
     "execution_count": 57,
     "metadata": {},
     "output_type": "execute_result"
    }
   ],
   "source": [
    "p1[:5]"
   ]
  },
  {
   "cell_type": "code",
   "execution_count": 58,
   "metadata": {},
   "outputs": [],
   "source": [
    "p2['%Granted']=100*p2.iloc[:,6]/p2['Resolved']"
   ]
  },
  {
   "cell_type": "code",
   "execution_count": 59,
   "metadata": {},
   "outputs": [
    {
     "data": {
      "text/plain": [
       "0     32.026144\n",
       "1      3.712297\n",
       "2      0.000000\n",
       "3      0.000000\n",
       "4     12.090680\n",
       "5     21.071864\n",
       "6     38.345865\n",
       "7     37.773723\n",
       "8     36.654135\n",
       "10    32.432432\n",
       "11    20.930233\n",
       "12    50.557621\n",
       "13     0.591716\n",
       "14    16.483516\n",
       "15    25.457571\n",
       "16    25.000000\n",
       "17    43.315508\n",
       "18     1.290323\n",
       "19    13.586098\n",
       "20    23.308271\n",
       "21    11.413043\n",
       "22    11.146497\n",
       "23    15.942029\n",
       "24     6.886228\n",
       "25     7.102804\n",
       "26    25.196850\n",
       "27     3.257329\n",
       "28     0.000000\n",
       "29     4.084507\n",
       "30     0.000000\n",
       "31    19.000000\n",
       "32     0.000000\n",
       "33     0.000000\n",
       "34     8.695652\n",
       "35     0.000000\n",
       "36     0.000000\n",
       "37     5.263158\n",
       "38     7.395994\n",
       "39     6.890299\n",
       "40    61.722488\n",
       "41     0.000000\n",
       "42     0.000000\n",
       "43     0.662252\n",
       "44     1.437372\n",
       "45     4.482759\n",
       "46     2.706454\n",
       "47     4.195804\n",
       "48     1.433915\n",
       "49     2.411995\n",
       "50     0.000000\n",
       "51     0.000000\n",
       "52     0.380654\n",
       "53     0.578035\n",
       "54     0.775547\n",
       "55     1.325301\n",
       "56     4.700413\n",
       "57     6.670442\n",
       "58    42.952030\n",
       "Name: %Granted, dtype: float64"
      ]
     },
     "execution_count": 59,
     "metadata": {},
     "output_type": "execute_result"
    }
   ],
   "source": [
    "p2['%Granted']"
   ]
  },
  {
   "cell_type": "code",
   "execution_count": 60,
   "metadata": {},
   "outputs": [
    {
     "data": {
      "text/plain": [
       "[<matplotlib.lines.Line2D at 0x1d1351a30a0>]"
      ]
     },
     "execution_count": 60,
     "metadata": {},
     "output_type": "execute_result"
    },
    {
     "data": {
      "image/png": "[encoded data removed]",
      "text/plain": [
       "<Figure size 432x288 with 1 Axes>"
      ]
     },
     "metadata": {
      "needs_background": "light"
     },
     "output_type": "display_data"
    }
   ],
   "source": [
    "plt.plot(p1['Fiscal Year'],p1['%Granted'])"
   ]
  },
  {
   "cell_type": "code",
   "execution_count": 61,
   "metadata": {},
   "outputs": [
    {
     "data": {
      "text/plain": [
       "[<matplotlib.lines.Line2D at 0x1d1351eac40>]"
      ]
     },
     "execution_count": 61,
     "metadata": {},
     "output_type": "execute_result"
    },
    {
     "data": {
      "image/png": "[encoded data removed]",
      "text/plain": [
       "<Figure size 432x288 with 1 Axes>"
      ]
     },
     "metadata": {
      "needs_background": "light"
     },
     "output_type": "display_data"
    }
   ],
   "source": [
    "plt.plot(p2['Fiscal Year'],p2['%Granted']) "
   ]
  },
  {
   "cell_type": "code",
   "execution_count": 62,
   "metadata": {},
   "outputs": [],
   "source": [
    "#We are interested in finding a good splitting point between \"early\" and \"late\" data. We do this by maximizing standard deviation\n",
    "#loss for subsets split at the various possible dates, or in other words minimizes the summed product of the standard deviation of \n",
    "#each subset and the proportion of rows in that subset"
   ]
  },
  {
   "cell_type": "code",
   "execution_count": 63,
   "metadata": {},
   "outputs": [],
   "source": [
    "X=pd.merge(p1['Fiscal Year'],p2['Fiscal Year'],how='outer')"
   ]
  },
  {
   "cell_type": "code",
   "execution_count": 64,
   "metadata": {},
   "outputs": [
    {
     "data": {
      "text/html": [
       "<div>\n",
       "<style scoped>\n",
       "    .dataframe tbody tr th:only-of-type {\n",
       "        vertical-align: middle;\n",
       "    }\n",
       "\n",
       "    .dataframe tbody tr th {\n",
       "        vertical-align: top;\n",
       "    }\n",
       "\n",
       "    .dataframe thead th {\n",
       "        text-align: right;\n",
       "    }\n",
       "</style>\n",
       "<table border=\"1\" class=\"dataframe\">\n",
       "  <thead>\n",
       "    <tr style=\"text-align: right;\">\n",
       "      <th></th>\n",
       "      <th>Fiscal Year</th>\n",
       "    </tr>\n",
       "  </thead>\n",
       "  <tbody>\n",
       "    <tr>\n",
       "      <th>0</th>\n",
       "      <td>1900</td>\n",
       "    </tr>\n",
       "    <tr>\n",
       "      <th>1</th>\n",
       "      <td>1901</td>\n",
       "    </tr>\n",
       "    <tr>\n",
       "      <th>2</th>\n",
       "      <td>1902</td>\n",
       "    </tr>\n",
       "    <tr>\n",
       "      <th>3</th>\n",
       "      <td>1903</td>\n",
       "    </tr>\n",
       "    <tr>\n",
       "      <th>4</th>\n",
       "      <td>1904</td>\n",
       "    </tr>\n",
       "  </tbody>\n",
       "</table>\n",
       "</div>"
      ],
      "text/plain": [
       "   Fiscal Year\n",
       "0         1900\n",
       "1         1901\n",
       "2         1902\n",
       "3         1903\n",
       "4         1904"
      ]
     },
     "execution_count": 64,
     "metadata": {},
     "output_type": "execute_result"
    }
   ],
   "source": [
    "X[:5]"
   ]
  },
  {
   "cell_type": "code",
   "execution_count": 65,
   "metadata": {},
   "outputs": [],
   "source": [
    "X['%Granted']=pd.merge(p1['%Granted'],p2['%Granted'],how='outer')"
   ]
  },
  {
   "cell_type": "code",
   "execution_count": 66,
   "metadata": {},
   "outputs": [
    {
     "data": {
      "text/html": [
       "<div>\n",
       "<style scoped>\n",
       "    .dataframe tbody tr th:only-of-type {\n",
       "        vertical-align: middle;\n",
       "    }\n",
       "\n",
       "    .dataframe tbody tr th {\n",
       "        vertical-align: top;\n",
       "    }\n",
       "\n",
       "    .dataframe thead th {\n",
       "        text-align: right;\n",
       "    }\n",
       "</style>\n",
       "<table border=\"1\" class=\"dataframe\">\n",
       "  <thead>\n",
       "    <tr style=\"text-align: right;\">\n",
       "      <th></th>\n",
       "      <th>Fiscal Year</th>\n",
       "      <th>%Granted</th>\n",
       "    </tr>\n",
       "  </thead>\n",
       "  <tbody>\n",
       "    <tr>\n",
       "      <th>0</th>\n",
       "      <td>1900</td>\n",
       "      <td>32.210835</td>\n",
       "    </tr>\n",
       "    <tr>\n",
       "      <th>1</th>\n",
       "      <td>1901</td>\n",
       "      <td>28.571429</td>\n",
       "    </tr>\n",
       "    <tr>\n",
       "      <th>2</th>\n",
       "      <td>1902</td>\n",
       "      <td>19.676946</td>\n",
       "    </tr>\n",
       "    <tr>\n",
       "      <th>3</th>\n",
       "      <td>1903</td>\n",
       "      <td>23.063683</td>\n",
       "    </tr>\n",
       "    <tr>\n",
       "      <th>4</th>\n",
       "      <td>1904</td>\n",
       "      <td>28.825623</td>\n",
       "    </tr>\n",
       "  </tbody>\n",
       "</table>\n",
       "</div>"
      ],
      "text/plain": [
       "   Fiscal Year   %Granted\n",
       "0         1900  32.210835\n",
       "1         1901  28.571429\n",
       "2         1902  19.676946\n",
       "3         1903  23.063683\n",
       "4         1904  28.825623"
      ]
     },
     "execution_count": 66,
     "metadata": {},
     "output_type": "execute_result"
    }
   ],
   "source": [
    "X[:5]"
   ]
  },
  {
   "cell_type": "code",
   "execution_count": 67,
   "metadata": {},
   "outputs": [
    {
     "data": {
      "text/html": [
       "<div>\n",
       "<style scoped>\n",
       "    .dataframe tbody tr th:only-of-type {\n",
       "        vertical-align: middle;\n",
       "    }\n",
       "\n",
       "    .dataframe tbody tr th {\n",
       "        vertical-align: top;\n",
       "    }\n",
       "\n",
       "    .dataframe thead th {\n",
       "        text-align: right;\n",
       "    }\n",
       "</style>\n",
       "<table border=\"1\" class=\"dataframe\">\n",
       "  <thead>\n",
       "    <tr style=\"text-align: right;\">\n",
       "      <th></th>\n",
       "      <th>Fiscal Year</th>\n",
       "      <th>%Granted</th>\n",
       "    </tr>\n",
       "  </thead>\n",
       "  <tbody>\n",
       "    <tr>\n",
       "      <th>124</th>\n",
       "      <td>2013</td>\n",
       "      <td>0.775547</td>\n",
       "    </tr>\n",
       "    <tr>\n",
       "      <th>125</th>\n",
       "      <td>2014</td>\n",
       "      <td>1.325301</td>\n",
       "    </tr>\n",
       "    <tr>\n",
       "      <th>126</th>\n",
       "      <td>2015</td>\n",
       "      <td>4.700413</td>\n",
       "    </tr>\n",
       "    <tr>\n",
       "      <th>127</th>\n",
       "      <td>2016</td>\n",
       "      <td>6.670442</td>\n",
       "    </tr>\n",
       "    <tr>\n",
       "      <th>128</th>\n",
       "      <td>2017</td>\n",
       "      <td>42.952030</td>\n",
       "    </tr>\n",
       "  </tbody>\n",
       "</table>\n",
       "</div>"
      ],
      "text/plain": [
       "     Fiscal Year   %Granted\n",
       "124         2013   0.775547\n",
       "125         2014   1.325301\n",
       "126         2015   4.700413\n",
       "127         2016   6.670442\n",
       "128         2017  42.952030"
      ]
     },
     "execution_count": 67,
     "metadata": {},
     "output_type": "execute_result"
    }
   ],
   "source": [
    "X[-5:]"
   ]
  },
  {
   "cell_type": "code",
   "execution_count": 68,
   "metadata": {},
   "outputs": [],
   "source": [
    "STDsums=[]\n",
    "split=0\n",
    "while split<117:\n",
    "    subset1=X[X['Fiscal Year']<split+1900.5]['%Granted']\n",
    "    subset2=X[X['Fiscal Year']>split+1900.5]['%Granted']\n",
    "    STDsums.append(np.std(subset1)*np.size(subset1)/129+np.std(subset2)*np.size(subset2)/129)\n",
    "    split+=1"
   ]
  },
  {
   "cell_type": "code",
   "execution_count": 69,
   "metadata": {},
   "outputs": [
    {
     "data": {
      "text/plain": [
       "[15.993092264773315,\n",
       " 15.950567706775374,\n",
       " 15.979753171412051,\n",
       " 15.944343865267296,\n",
       " 15.896014972812234]"
      ]
     },
     "execution_count": 69,
     "metadata": {},
     "output_type": "execute_result"
    }
   ],
   "source": [
    "STDsums[:5]"
   ]
  },
  {
   "cell_type": "code",
   "execution_count": 70,
   "metadata": {},
   "outputs": [
    {
     "data": {
      "text/plain": [
       "0    32.210835\n",
       "1    28.571429\n",
       "2    19.676946\n",
       "3    23.063683\n",
       "4    28.825623\n",
       "Name: %Granted, dtype: float64"
      ]
     },
     "execution_count": 70,
     "metadata": {},
     "output_type": "execute_result"
    }
   ],
   "source": [
    "#Checking the calculation for split at 1904.5\n",
    "subset1=X['%Granted'][:5]\n",
    "subset1"
   ]
  },
  {
   "cell_type": "code",
   "execution_count": 71,
   "metadata": {},
   "outputs": [
    {
     "data": {
      "text/plain": [
       "5    29.359431\n",
       "6    24.024961\n",
       "7    22.862823\n",
       "8    22.400000\n",
       "9    33.555556\n",
       "Name: %Granted, dtype: float64"
      ]
     },
     "execution_count": 71,
     "metadata": {},
     "output_type": "execute_result"
    }
   ],
   "source": [
    "subset2=X['%Granted'][5:]\n",
    "subset2[:5]"
   ]
  },
  {
   "cell_type": "code",
   "execution_count": 72,
   "metadata": {},
   "outputs": [
    {
     "data": {
      "text/html": [
       "<div>\n",
       "<style scoped>\n",
       "    .dataframe tbody tr th:only-of-type {\n",
       "        vertical-align: middle;\n",
       "    }\n",
       "\n",
       "    .dataframe tbody tr th {\n",
       "        vertical-align: top;\n",
       "    }\n",
       "\n",
       "    .dataframe thead th {\n",
       "        text-align: right;\n",
       "    }\n",
       "</style>\n",
       "<table border=\"1\" class=\"dataframe\">\n",
       "  <thead>\n",
       "    <tr style=\"text-align: right;\">\n",
       "      <th></th>\n",
       "      <th>Fiscal Year</th>\n",
       "      <th>%Granted</th>\n",
       "    </tr>\n",
       "  </thead>\n",
       "  <tbody>\n",
       "    <tr>\n",
       "      <th>0</th>\n",
       "      <td>1900</td>\n",
       "      <td>32.210835</td>\n",
       "    </tr>\n",
       "    <tr>\n",
       "      <th>1</th>\n",
       "      <td>1901</td>\n",
       "      <td>28.571429</td>\n",
       "    </tr>\n",
       "    <tr>\n",
       "      <th>2</th>\n",
       "      <td>1902</td>\n",
       "      <td>19.676946</td>\n",
       "    </tr>\n",
       "    <tr>\n",
       "      <th>3</th>\n",
       "      <td>1903</td>\n",
       "      <td>23.063683</td>\n",
       "    </tr>\n",
       "    <tr>\n",
       "      <th>4</th>\n",
       "      <td>1904</td>\n",
       "      <td>28.825623</td>\n",
       "    </tr>\n",
       "    <tr>\n",
       "      <th>5</th>\n",
       "      <td>1905</td>\n",
       "      <td>29.359431</td>\n",
       "    </tr>\n",
       "    <tr>\n",
       "      <th>6</th>\n",
       "      <td>1906</td>\n",
       "      <td>24.024961</td>\n",
       "    </tr>\n",
       "    <tr>\n",
       "      <th>7</th>\n",
       "      <td>1907</td>\n",
       "      <td>22.862823</td>\n",
       "    </tr>\n",
       "    <tr>\n",
       "      <th>8</th>\n",
       "      <td>1908</td>\n",
       "      <td>22.400000</td>\n",
       "    </tr>\n",
       "    <tr>\n",
       "      <th>9</th>\n",
       "      <td>1909</td>\n",
       "      <td>33.555556</td>\n",
       "    </tr>\n",
       "  </tbody>\n",
       "</table>\n",
       "</div>"
      ],
      "text/plain": [
       "   Fiscal Year   %Granted\n",
       "0         1900  32.210835\n",
       "1         1901  28.571429\n",
       "2         1902  19.676946\n",
       "3         1903  23.063683\n",
       "4         1904  28.825623\n",
       "5         1905  29.359431\n",
       "6         1906  24.024961\n",
       "7         1907  22.862823\n",
       "8         1908  22.400000\n",
       "9         1909  33.555556"
      ]
     },
     "execution_count": 72,
     "metadata": {},
     "output_type": "execute_result"
    }
   ],
   "source": [
    "X[:10]"
   ]
  },
  {
   "cell_type": "code",
   "execution_count": 73,
   "metadata": {},
   "outputs": [
    {
     "data": {
      "text/plain": [
       "15.896014972812234"
      ]
     },
     "execution_count": 73,
     "metadata": {},
     "output_type": "execute_result"
    }
   ],
   "source": [
    "np.std(subset1)*5/129+np.std(subset2)*124/129"
   ]
  },
  {
   "cell_type": "code",
   "execution_count": 74,
   "metadata": {},
   "outputs": [
    {
     "data": {
      "text/plain": [
       "[15.993092264773315,\n",
       " 15.950567706775374,\n",
       " 15.979753171412051,\n",
       " 15.944343865267296,\n",
       " 15.896014972812234]"
      ]
     },
     "execution_count": 74,
     "metadata": {},
     "output_type": "execute_result"
    }
   ],
   "source": [
    "STDsums[:5]"
   ]
  },
  {
   "cell_type": "code",
   "execution_count": 75,
   "metadata": {},
   "outputs": [
    {
     "data": {
      "text/plain": [
       "67"
      ]
     },
     "execution_count": 75,
     "metadata": {},
     "output_type": "execute_result"
    }
   ],
   "source": [
    "np.argmin(STDsums)"
   ]
  },
  {
   "cell_type": "code",
   "execution_count": 76,
   "metadata": {},
   "outputs": [],
   "source": [
    "#It seems that splitting right after 1967 produces the two most homogeneous subsets."
   ]
  },
  {
   "cell_type": "code",
   "execution_count": 77,
   "metadata": {},
   "outputs": [
    {
     "data": {
      "text/plain": [
       "<matplotlib.collections.LineCollection at 0x1d135214100>"
      ]
     },
     "execution_count": 77,
     "metadata": {},
     "output_type": "execute_result"
    },
    {
     "data": {
      "image/png": "[encoded data removed]",
      "text/plain": [
       "<Figure size 432x288 with 1 Axes>"
      ]
     },
     "metadata": {
      "needs_background": "light"
     },
     "output_type": "display_data"
    }
   ],
   "source": [
    "plt.plot(X['Fiscal Year'],X['%Granted']) #Visual representation of this split\n",
    "plt.vlines(1967.5,0,70)"
   ]
  },
  {
   "cell_type": "code",
   "execution_count": 78,
   "metadata": {},
   "outputs": [
    {
     "data": {
      "text/plain": [
       "12.527626597832356"
      ]
     },
     "execution_count": 78,
     "metadata": {},
     "output_type": "execute_result"
    }
   ],
   "source": [
    "STDsums[67] "
   ]
  },
  {
   "cell_type": "code",
   "execution_count": 79,
   "metadata": {},
   "outputs": [
    {
     "data": {
      "text/plain": [
       "16.07680232030623"
      ]
     },
     "execution_count": 79,
     "metadata": {},
     "output_type": "execute_result"
    }
   ],
   "source": [
    "np.std(X['%Granted'])"
   ]
  },
  {
   "cell_type": "code",
   "execution_count": 80,
   "metadata": {},
   "outputs": [
    {
     "data": {
      "text/plain": [
       "22.075013995148357"
      ]
     },
     "execution_count": 80,
     "metadata": {},
     "output_type": "execute_result"
    }
   ],
   "source": [
    "(16.077-12.528)/.16077 #percentage STD loss"
   ]
  },
  {
   "cell_type": "code",
   "execution_count": 81,
   "metadata": {},
   "outputs": [
    {
     "data": {
      "text/plain": [
       "10.60513312197294"
      ]
     },
     "execution_count": 81,
     "metadata": {},
     "output_type": "execute_result"
    }
   ],
   "source": [
    "np.std(X[X['Fiscal Year']<1967.5]['%Granted'])"
   ]
  },
  {
   "cell_type": "code",
   "execution_count": 82,
   "metadata": {},
   "outputs": [
    {
     "data": {
      "text/plain": [
       "14.956039409444248"
      ]
     },
     "execution_count": 82,
     "metadata": {},
     "output_type": "execute_result"
    }
   ],
   "source": [
    "np.std(X[X['Fiscal Year']>1967.5]['%Granted'])"
   ]
  },
  {
   "cell_type": "code",
   "execution_count": 83,
   "metadata": {},
   "outputs": [
    {
     "data": {
      "text/plain": [
       "57"
      ]
     },
     "execution_count": 83,
     "metadata": {},
     "output_type": "execute_result"
    }
   ],
   "source": [
    "#How much more intra-subset variability is reduced if we split the more variable subset again at an optimal point?\n",
    "Xreduced=X[X['Fiscal Year']>1967.5]\n",
    "np.size(Xreduced['Fiscal Year'])\n"
   ]
  },
  {
   "cell_type": "code",
   "execution_count": 84,
   "metadata": {},
   "outputs": [],
   "source": [
    "STDsums=[]\n",
    "split=0\n",
    "while split<40:\n",
    "    subset1=Xreduced[Xreduced['Fiscal Year']<split+1968.5]['%Granted']\n",
    "    subset2=Xreduced[Xreduced['Fiscal Year']>split+1968.5]['%Granted']\n",
    "    STDsums.append(np.std(subset1)*np.size(subset1)/57+np.std(subset2)*np.size(subset2)/57)\n",
    "    split+=1"
   ]
  },
  {
   "cell_type": "code",
   "execution_count": 85,
   "metadata": {},
   "outputs": [
    {
     "data": {
      "text/plain": [
       "10"
      ]
     },
     "execution_count": 85,
     "metadata": {},
     "output_type": "execute_result"
    }
   ],
   "source": [
    "np.argmin(STDsums)"
   ]
  },
  {
   "cell_type": "code",
   "execution_count": 86,
   "metadata": {},
   "outputs": [
    {
     "data": {
      "text/plain": [
       "12.157747985488184"
      ]
     },
     "execution_count": 86,
     "metadata": {},
     "output_type": "execute_result"
    }
   ],
   "source": [
    "STDsums[10]"
   ]
  },
  {
   "cell_type": "code",
   "execution_count": 87,
   "metadata": {},
   "outputs": [
    {
     "data": {
      "text/plain": [
       "18.708210751537845"
      ]
     },
     "execution_count": 87,
     "metadata": {},
     "output_type": "execute_result"
    }
   ],
   "source": [
    "(14.956-12.158)/.14956 #percentage STD loss if we split again at 1978.5"
   ]
  },
  {
   "cell_type": "code",
   "execution_count": 88,
   "metadata": {},
   "outputs": [
    {
     "data": {
      "text/plain": [
       "0.9892133828699635"
      ]
     },
     "execution_count": 88,
     "metadata": {},
     "output_type": "execute_result"
    }
   ],
   "source": [
    "np.std(Xreduced[Xreduced['Fiscal Year']<1978.5]['%Granted'])"
   ]
  },
  {
   "cell_type": "code",
   "execution_count": 89,
   "metadata": {},
   "outputs": [
    {
     "data": {
      "text/plain": [
       "15.457542299898114"
      ]
     },
     "execution_count": 89,
     "metadata": {},
     "output_type": "execute_result"
    }
   ],
   "source": [
    "np.std(Xreduced[Xreduced['Fiscal Year']>1978.5]['%Granted']) #We get a standard deviation for the post-1978 subset that is\n",
    "            #higher than for the whole post-1967 subset and nearly as high as for the entire dataset. This is possible because\n",
    "            #the post-1978 subset contains comparatively more outliers while the 1968-1978 data adds more points that are all \n",
    "            #close to the 1967-2017 mean ... similarly [0,1] has a higher standard deviation than [0,1,1]"
   ]
  },
  {
   "cell_type": "code",
   "execution_count": 90,
   "metadata": {},
   "outputs": [],
   "source": [
    "#Since we would have to split the post-1978 subset again to justify splitting the post-1967 subset, perhaps it makes since to\n",
    "#divide the data by date only once. Even here, the percent that variability as measured by standard deviation is reduced is\n",
    "#fairly small."
   ]
  },
  {
   "cell_type": "code",
   "execution_count": 91,
   "metadata": {},
   "outputs": [],
   "source": [
    "#It does appear that intra-subset variability is reduced slightly by splitting after 1967 (very close, by the way, to where the \n",
    "#original data were split into files), although it still remains substantial. Anyway, it is one way we can make sense of date \n",
    "#as an independent variable. Another is using the 4-year election cycle to group it into congruence classes mod 4. \n",
    "#Since there are 2 classes for early/late, we can use a Boolean as we set up a training data matrix; but since we have 4 \n",
    "#congruence classes, it makes more sense to use one-hot encoding to encapsulate date information here."
   ]
  },
  {
   "cell_type": "code",
   "execution_count": 92,
   "metadata": {},
   "outputs": [
    {
     "data": {
      "text/html": [
       "<div>\n",
       "<style scoped>\n",
       "    .dataframe tbody tr th:only-of-type {\n",
       "        vertical-align: middle;\n",
       "    }\n",
       "\n",
       "    .dataframe tbody tr th {\n",
       "        vertical-align: top;\n",
       "    }\n",
       "\n",
       "    .dataframe thead th {\n",
       "        text-align: right;\n",
       "    }\n",
       "</style>\n",
       "<table border=\"1\" class=\"dataframe\">\n",
       "  <thead>\n",
       "    <tr style=\"text-align: right;\">\n",
       "      <th></th>\n",
       "      <th>Fiscal Year</th>\n",
       "      <th>%Granted</th>\n",
       "      <th>Early</th>\n",
       "    </tr>\n",
       "  </thead>\n",
       "  <tbody>\n",
       "    <tr>\n",
       "      <th>0</th>\n",
       "      <td>1900</td>\n",
       "      <td>32.210835</td>\n",
       "      <td>True</td>\n",
       "    </tr>\n",
       "    <tr>\n",
       "      <th>1</th>\n",
       "      <td>1901</td>\n",
       "      <td>28.571429</td>\n",
       "      <td>True</td>\n",
       "    </tr>\n",
       "    <tr>\n",
       "      <th>2</th>\n",
       "      <td>1902</td>\n",
       "      <td>19.676946</td>\n",
       "      <td>True</td>\n",
       "    </tr>\n",
       "    <tr>\n",
       "      <th>3</th>\n",
       "      <td>1903</td>\n",
       "      <td>23.063683</td>\n",
       "      <td>True</td>\n",
       "    </tr>\n",
       "    <tr>\n",
       "      <th>4</th>\n",
       "      <td>1904</td>\n",
       "      <td>28.825623</td>\n",
       "      <td>True</td>\n",
       "    </tr>\n",
       "  </tbody>\n",
       "</table>\n",
       "</div>"
      ],
      "text/plain": [
       "   Fiscal Year   %Granted  Early\n",
       "0         1900  32.210835   True\n",
       "1         1901  28.571429   True\n",
       "2         1902  19.676946   True\n",
       "3         1903  23.063683   True\n",
       "4         1904  28.825623   True"
      ]
     },
     "execution_count": 92,
     "metadata": {},
     "output_type": "execute_result"
    }
   ],
   "source": [
    "X['Early']=X['Fiscal Year']<1967.5\n",
    "X[:5]"
   ]
  },
  {
   "cell_type": "code",
   "execution_count": 93,
   "metadata": {},
   "outputs": [
    {
     "data": {
      "text/html": [
       "<div>\n",
       "<style scoped>\n",
       "    .dataframe tbody tr th:only-of-type {\n",
       "        vertical-align: middle;\n",
       "    }\n",
       "\n",
       "    .dataframe tbody tr th {\n",
       "        vertical-align: top;\n",
       "    }\n",
       "\n",
       "    .dataframe thead th {\n",
       "        text-align: right;\n",
       "    }\n",
       "</style>\n",
       "<table border=\"1\" class=\"dataframe\">\n",
       "  <thead>\n",
       "    <tr style=\"text-align: right;\">\n",
       "      <th></th>\n",
       "      <th>Fiscal Year</th>\n",
       "      <th>%Granted</th>\n",
       "      <th>Early</th>\n",
       "    </tr>\n",
       "  </thead>\n",
       "  <tbody>\n",
       "    <tr>\n",
       "      <th>124</th>\n",
       "      <td>2013</td>\n",
       "      <td>0.775547</td>\n",
       "      <td>False</td>\n",
       "    </tr>\n",
       "    <tr>\n",
       "      <th>125</th>\n",
       "      <td>2014</td>\n",
       "      <td>1.325301</td>\n",
       "      <td>False</td>\n",
       "    </tr>\n",
       "    <tr>\n",
       "      <th>126</th>\n",
       "      <td>2015</td>\n",
       "      <td>4.700413</td>\n",
       "      <td>False</td>\n",
       "    </tr>\n",
       "    <tr>\n",
       "      <th>127</th>\n",
       "      <td>2016</td>\n",
       "      <td>6.670442</td>\n",
       "      <td>False</td>\n",
       "    </tr>\n",
       "    <tr>\n",
       "      <th>128</th>\n",
       "      <td>2017</td>\n",
       "      <td>42.952030</td>\n",
       "      <td>False</td>\n",
       "    </tr>\n",
       "  </tbody>\n",
       "</table>\n",
       "</div>"
      ],
      "text/plain": [
       "     Fiscal Year   %Granted  Early\n",
       "124         2013   0.775547  False\n",
       "125         2014   1.325301  False\n",
       "126         2015   4.700413  False\n",
       "127         2016   6.670442  False\n",
       "128         2017  42.952030  False"
      ]
     },
     "execution_count": 93,
     "metadata": {},
     "output_type": "execute_result"
    }
   ],
   "source": [
    "X[-5:]"
   ]
  },
  {
   "cell_type": "code",
   "execution_count": 94,
   "metadata": {},
   "outputs": [],
   "source": [
    "X['y0']=X['Fiscal Year']%4==0\n",
    "X['y1']=X['Fiscal Year']%4==1\n",
    "X['y2']=X['Fiscal Year']%4==2\n",
    "X['y3']=X['Fiscal Year']%4==3"
   ]
  },
  {
   "cell_type": "code",
   "execution_count": 95,
   "metadata": {},
   "outputs": [
    {
     "data": {
      "text/html": [
       "<div>\n",
       "<style scoped>\n",
       "    .dataframe tbody tr th:only-of-type {\n",
       "        vertical-align: middle;\n",
       "    }\n",
       "\n",
       "    .dataframe tbody tr th {\n",
       "        vertical-align: top;\n",
       "    }\n",
       "\n",
       "    .dataframe thead th {\n",
       "        text-align: right;\n",
       "    }\n",
       "</style>\n",
       "<table border=\"1\" class=\"dataframe\">\n",
       "  <thead>\n",
       "    <tr style=\"text-align: right;\">\n",
       "      <th></th>\n",
       "      <th>Fiscal Year</th>\n",
       "      <th>%Granted</th>\n",
       "      <th>Early</th>\n",
       "      <th>y0</th>\n",
       "      <th>y1</th>\n",
       "      <th>y2</th>\n",
       "      <th>y3</th>\n",
       "    </tr>\n",
       "  </thead>\n",
       "  <tbody>\n",
       "    <tr>\n",
       "      <th>0</th>\n",
       "      <td>1900</td>\n",
       "      <td>32.210835</td>\n",
       "      <td>True</td>\n",
       "      <td>True</td>\n",
       "      <td>False</td>\n",
       "      <td>False</td>\n",
       "      <td>False</td>\n",
       "    </tr>\n",
       "    <tr>\n",
       "      <th>1</th>\n",
       "      <td>1901</td>\n",
       "      <td>28.571429</td>\n",
       "      <td>True</td>\n",
       "      <td>False</td>\n",
       "      <td>True</td>\n",
       "      <td>False</td>\n",
       "      <td>False</td>\n",
       "    </tr>\n",
       "    <tr>\n",
       "      <th>2</th>\n",
       "      <td>1902</td>\n",
       "      <td>19.676946</td>\n",
       "      <td>True</td>\n",
       "      <td>False</td>\n",
       "      <td>False</td>\n",
       "      <td>True</td>\n",
       "      <td>False</td>\n",
       "    </tr>\n",
       "    <tr>\n",
       "      <th>3</th>\n",
       "      <td>1903</td>\n",
       "      <td>23.063683</td>\n",
       "      <td>True</td>\n",
       "      <td>False</td>\n",
       "      <td>False</td>\n",
       "      <td>False</td>\n",
       "      <td>True</td>\n",
       "    </tr>\n",
       "    <tr>\n",
       "      <th>4</th>\n",
       "      <td>1904</td>\n",
       "      <td>28.825623</td>\n",
       "      <td>True</td>\n",
       "      <td>True</td>\n",
       "      <td>False</td>\n",
       "      <td>False</td>\n",
       "      <td>False</td>\n",
       "    </tr>\n",
       "  </tbody>\n",
       "</table>\n",
       "</div>"
      ],
      "text/plain": [
       "   Fiscal Year   %Granted  Early     y0     y1     y2     y3\n",
       "0         1900  32.210835   True   True  False  False  False\n",
       "1         1901  28.571429   True  False   True  False  False\n",
       "2         1902  19.676946   True  False  False   True  False\n",
       "3         1903  23.063683   True  False  False  False   True\n",
       "4         1904  28.825623   True   True  False  False  False"
      ]
     },
     "execution_count": 95,
     "metadata": {},
     "output_type": "execute_result"
    }
   ],
   "source": [
    "X[:5]"
   ]
  },
  {
   "cell_type": "code",
   "execution_count": 96,
   "metadata": {},
   "outputs": [
    {
     "data": {
      "text/plain": [
       "{'whiskers': [<matplotlib.lines.Line2D at 0x1d1352bdf10>,\n",
       "  <matplotlib.lines.Line2D at 0x1d1352ca2b0>,\n",
       "  <matplotlib.lines.Line2D at 0x1d1352d3ac0>,\n",
       "  <matplotlib.lines.Line2D at 0x1d1352d3e20>,\n",
       "  <matplotlib.lines.Line2D at 0x1d1352e7640>,\n",
       "  <matplotlib.lines.Line2D at 0x1d1352e79a0>,\n",
       "  <matplotlib.lines.Line2D at 0x1d1352fc1c0>,\n",
       "  <matplotlib.lines.Line2D at 0x1d1352fc520>],\n",
       " 'caps': [<matplotlib.lines.Line2D at 0x1d1352ca610>,\n",
       "  <matplotlib.lines.Line2D at 0x1d1352ca970>,\n",
       "  <matplotlib.lines.Line2D at 0x1d1352de1c0>,\n",
       "  <matplotlib.lines.Line2D at 0x1d1352de520>,\n",
       "  <matplotlib.lines.Line2D at 0x1d1352e7d00>,\n",
       "  <matplotlib.lines.Line2D at 0x1d1352f40a0>,\n",
       "  <matplotlib.lines.Line2D at 0x1d1352fc880>,\n",
       "  <matplotlib.lines.Line2D at 0x1d1352fcbe0>],\n",
       " 'boxes': [<matplotlib.lines.Line2D at 0x1d1352bdbb0>,\n",
       "  <matplotlib.lines.Line2D at 0x1d1352d3760>,\n",
       "  <matplotlib.lines.Line2D at 0x1d1352e72e0>,\n",
       "  <matplotlib.lines.Line2D at 0x1d1352f4e20>],\n",
       " 'medians': [<matplotlib.lines.Line2D at 0x1d1352cacd0>,\n",
       "  <matplotlib.lines.Line2D at 0x1d1352de880>,\n",
       "  <matplotlib.lines.Line2D at 0x1d1352f4400>,\n",
       "  <matplotlib.lines.Line2D at 0x1d1352fcf40>],\n",
       " 'fliers': [<matplotlib.lines.Line2D at 0x1d1352d3370>,\n",
       "  <matplotlib.lines.Line2D at 0x1d1352deee0>,\n",
       "  <matplotlib.lines.Line2D at 0x1d1352f4a60>,\n",
       "  <matplotlib.lines.Line2D at 0x1d1353095e0>],\n",
       " 'means': [<matplotlib.lines.Line2D at 0x1d1352cafd0>,\n",
       "  <matplotlib.lines.Line2D at 0x1d1352deb80>,\n",
       "  <matplotlib.lines.Line2D at 0x1d1352f4700>,\n",
       "  <matplotlib.lines.Line2D at 0x1d135309280>]}"
      ]
     },
     "execution_count": 96,
     "metadata": {},
     "output_type": "execute_result"
    },
    {
     "data": {
      "image/png": "[encoded data removed]",
      "text/plain": [
       "<Figure size 432x288 with 1 Axes>"
      ]
     },
     "metadata": {
      "needs_background": "light"
     },
     "output_type": "display_data"
    }
   ],
   "source": [
    "#Visualizing whether the congruence class is meaningful wrt to the value of %Granted\n",
    "plt.boxplot([X.loc[X['y0']]['%Granted'].to_numpy(),X.loc[X['y1']]['%Granted'].to_numpy(),X.loc[X['y2']]['%Granted'].to_numpy(),X.loc[X['y3']]['%Granted'].to_numpy()],labels=['y0','y1','y2','y3'],showmeans=True)"
   ]
  },
  {
   "cell_type": "code",
   "execution_count": 97,
   "metadata": {},
   "outputs": [
    {
     "name": "stdout",
     "output_type": "stream",
     "text": [
      "y0 26.8135243338853 16.827726214832655 26.137841352405722 17.742093516826557\n",
      "y1 23.272194364844456 16.669706404838927 26.058184678811543 32.117331217111804\n",
      "y2 19.792431515568833 15.447480135414374 19.676945668135094 32.815277942396584\n",
      "y3 21.03586585887176 13.979685607856501 22.86282306163022 24.31775450723165\n"
     ]
    }
   ],
   "source": [
    "#There does seem to be considerable regular variation along with \n",
    "#considerable outliers for each subset. Numerically we can look at mean/standard deviation and median/interquartile range\n",
    "import scipy\n",
    "import scipy.stats\n",
    "for i in ['y0','y1','y2','y3']:\n",
    "    print(i,np.mean(X.loc[X[i]]['%Granted']),np.std(X.loc[X[i]]['%Granted']),np.median(X.loc[X[i]]['%Granted']),scipy.stats.iqr(X.loc[X[i]]['%Granted']))"
   ]
  },
  {
   "cell_type": "code",
   "execution_count": 98,
   "metadata": {},
   "outputs": [],
   "source": [
    "#One way to use the president's identity as an independent variable is to condition on political party. As with the early/late \n",
    "#split, since this is a binary variable we deliberately avoid one-hot encoding in order not to introduce additional correlation \n",
    "#into our set and increase computational expense. Since there are fewer Democrats represented in the data than Republicans,\n",
    "#it will probably be easiest to use 'Dem' as a Boolean variable (true if the president is a Democrat, false otherwise)."
   ]
  },
  {
   "cell_type": "code",
   "execution_count": 99,
   "metadata": {},
   "outputs": [],
   "source": [
    "X['President']=pd.merge(p1['President'],p2['President'],how='outer')"
   ]
  },
  {
   "cell_type": "code",
   "execution_count": 100,
   "metadata": {},
   "outputs": [
    {
     "data": {
      "text/plain": [
       "array(['William McKinley', 'Theodore Roosevelt', 'William H. Taft',\n",
       "       'Woodrow Wilson', 'Warren Harding', 'Calvin Coolidge',\n",
       "       'Herbert Hoover', 'Franklin D. Roosevelt', 'Harry S. Truman',\n",
       "       'Dwight D. Eisenhower', 'John F. Kennedy', 'Lyndon B. Johnson',\n",
       "       'Richard M. Nixon', 'Gerald R. Ford', 'Jimmy Carter',\n",
       "       'Ronald Reagan', 'George H.W. Bush', 'William J. Clinton',\n",
       "       'George W. Bush', 'Barack Obama'], dtype=object)"
      ]
     },
     "execution_count": 100,
     "metadata": {},
     "output_type": "execute_result"
    }
   ],
   "source": [
    "X['President'].unique() #Aren't we lucky to have such a nice clean dataset, e.g., not one entry for 'Harry Truman' and another\n",
    "#for 'Harry S. Truman' and another for 'Harry S Truman'? Thanks, Kaggle!"
   ]
  },
  {
   "cell_type": "code",
   "execution_count": 101,
   "metadata": {},
   "outputs": [
    {
     "data": {
      "text/plain": [
       "True"
      ]
     },
     "execution_count": 101,
     "metadata": {},
     "output_type": "execute_result"
    }
   ],
   "source": [
    "Dems={'Woodrow Wilson','Franklin D. Roosevelt','Harry S. Truman','John F. Kennedy','Lyndon B. Johnson','Jimmy Carter',\n",
    "     'William J. Clinton','Barack Obama'}\n",
    "'Barack Obama' in Dems"
   ]
  },
  {
   "cell_type": "code",
   "execution_count": 102,
   "metadata": {},
   "outputs": [
    {
     "data": {
      "text/plain": [
       "False"
      ]
     },
     "execution_count": 102,
     "metadata": {},
     "output_type": "execute_result"
    }
   ],
   "source": [
    "'William McKinley' in Dems"
   ]
  },
  {
   "cell_type": "code",
   "execution_count": 103,
   "metadata": {},
   "outputs": [],
   "source": [
    "X['Dem']=X['President'].isin(Dems)"
   ]
  },
  {
   "cell_type": "code",
   "execution_count": 104,
   "metadata": {},
   "outputs": [
    {
     "data": {
      "text/html": [
       "<div>\n",
       "<style scoped>\n",
       "    .dataframe tbody tr th:only-of-type {\n",
       "        vertical-align: middle;\n",
       "    }\n",
       "\n",
       "    .dataframe tbody tr th {\n",
       "        vertical-align: top;\n",
       "    }\n",
       "\n",
       "    .dataframe thead th {\n",
       "        text-align: right;\n",
       "    }\n",
       "</style>\n",
       "<table border=\"1\" class=\"dataframe\">\n",
       "  <thead>\n",
       "    <tr style=\"text-align: right;\">\n",
       "      <th></th>\n",
       "      <th>Fiscal Year</th>\n",
       "      <th>%Granted</th>\n",
       "      <th>Early</th>\n",
       "      <th>y0</th>\n",
       "      <th>y1</th>\n",
       "      <th>y2</th>\n",
       "      <th>y3</th>\n",
       "      <th>President</th>\n",
       "      <th>Dem</th>\n",
       "    </tr>\n",
       "  </thead>\n",
       "  <tbody>\n",
       "    <tr>\n",
       "      <th>0</th>\n",
       "      <td>1900</td>\n",
       "      <td>32.210835</td>\n",
       "      <td>True</td>\n",
       "      <td>True</td>\n",
       "      <td>False</td>\n",
       "      <td>False</td>\n",
       "      <td>False</td>\n",
       "      <td>William McKinley</td>\n",
       "      <td>False</td>\n",
       "    </tr>\n",
       "    <tr>\n",
       "      <th>1</th>\n",
       "      <td>1901</td>\n",
       "      <td>28.571429</td>\n",
       "      <td>True</td>\n",
       "      <td>False</td>\n",
       "      <td>True</td>\n",
       "      <td>False</td>\n",
       "      <td>False</td>\n",
       "      <td>William McKinley</td>\n",
       "      <td>False</td>\n",
       "    </tr>\n",
       "    <tr>\n",
       "      <th>2</th>\n",
       "      <td>1902</td>\n",
       "      <td>19.676946</td>\n",
       "      <td>True</td>\n",
       "      <td>False</td>\n",
       "      <td>False</td>\n",
       "      <td>True</td>\n",
       "      <td>False</td>\n",
       "      <td>Theodore Roosevelt</td>\n",
       "      <td>False</td>\n",
       "    </tr>\n",
       "    <tr>\n",
       "      <th>3</th>\n",
       "      <td>1903</td>\n",
       "      <td>23.063683</td>\n",
       "      <td>True</td>\n",
       "      <td>False</td>\n",
       "      <td>False</td>\n",
       "      <td>False</td>\n",
       "      <td>True</td>\n",
       "      <td>Theodore Roosevelt</td>\n",
       "      <td>False</td>\n",
       "    </tr>\n",
       "    <tr>\n",
       "      <th>4</th>\n",
       "      <td>1904</td>\n",
       "      <td>28.825623</td>\n",
       "      <td>True</td>\n",
       "      <td>True</td>\n",
       "      <td>False</td>\n",
       "      <td>False</td>\n",
       "      <td>False</td>\n",
       "      <td>Theodore Roosevelt</td>\n",
       "      <td>False</td>\n",
       "    </tr>\n",
       "  </tbody>\n",
       "</table>\n",
       "</div>"
      ],
      "text/plain": [
       "   Fiscal Year   %Granted  Early     y0     y1     y2     y3  \\\n",
       "0         1900  32.210835   True   True  False  False  False   \n",
       "1         1901  28.571429   True  False   True  False  False   \n",
       "2         1902  19.676946   True  False  False   True  False   \n",
       "3         1903  23.063683   True  False  False  False   True   \n",
       "4         1904  28.825623   True   True  False  False  False   \n",
       "\n",
       "            President    Dem  \n",
       "0    William McKinley  False  \n",
       "1    William McKinley  False  \n",
       "2  Theodore Roosevelt  False  \n",
       "3  Theodore Roosevelt  False  \n",
       "4  Theodore Roosevelt  False  "
      ]
     },
     "execution_count": 104,
     "metadata": {},
     "output_type": "execute_result"
    }
   ],
   "source": [
    "X[:5]"
   ]
  },
  {
   "cell_type": "code",
   "execution_count": 105,
   "metadata": {},
   "outputs": [
    {
     "data": {
      "text/html": [
       "<div>\n",
       "<style scoped>\n",
       "    .dataframe tbody tr th:only-of-type {\n",
       "        vertical-align: middle;\n",
       "    }\n",
       "\n",
       "    .dataframe tbody tr th {\n",
       "        vertical-align: top;\n",
       "    }\n",
       "\n",
       "    .dataframe thead th {\n",
       "        text-align: right;\n",
       "    }\n",
       "</style>\n",
       "<table border=\"1\" class=\"dataframe\">\n",
       "  <thead>\n",
       "    <tr style=\"text-align: right;\">\n",
       "      <th></th>\n",
       "      <th>Fiscal Year</th>\n",
       "      <th>%Granted</th>\n",
       "      <th>Early</th>\n",
       "      <th>y0</th>\n",
       "      <th>y1</th>\n",
       "      <th>y2</th>\n",
       "      <th>y3</th>\n",
       "      <th>President</th>\n",
       "      <th>Dem</th>\n",
       "    </tr>\n",
       "  </thead>\n",
       "  <tbody>\n",
       "    <tr>\n",
       "      <th>124</th>\n",
       "      <td>2013</td>\n",
       "      <td>0.775547</td>\n",
       "      <td>False</td>\n",
       "      <td>False</td>\n",
       "      <td>True</td>\n",
       "      <td>False</td>\n",
       "      <td>False</td>\n",
       "      <td>Barack Obama</td>\n",
       "      <td>True</td>\n",
       "    </tr>\n",
       "    <tr>\n",
       "      <th>125</th>\n",
       "      <td>2014</td>\n",
       "      <td>1.325301</td>\n",
       "      <td>False</td>\n",
       "      <td>False</td>\n",
       "      <td>False</td>\n",
       "      <td>True</td>\n",
       "      <td>False</td>\n",
       "      <td>Barack Obama</td>\n",
       "      <td>True</td>\n",
       "    </tr>\n",
       "    <tr>\n",
       "      <th>126</th>\n",
       "      <td>2015</td>\n",
       "      <td>4.700413</td>\n",
       "      <td>False</td>\n",
       "      <td>False</td>\n",
       "      <td>False</td>\n",
       "      <td>False</td>\n",
       "      <td>True</td>\n",
       "      <td>Barack Obama</td>\n",
       "      <td>True</td>\n",
       "    </tr>\n",
       "    <tr>\n",
       "      <th>127</th>\n",
       "      <td>2016</td>\n",
       "      <td>6.670442</td>\n",
       "      <td>False</td>\n",
       "      <td>True</td>\n",
       "      <td>False</td>\n",
       "      <td>False</td>\n",
       "      <td>False</td>\n",
       "      <td>Barack Obama</td>\n",
       "      <td>True</td>\n",
       "    </tr>\n",
       "    <tr>\n",
       "      <th>128</th>\n",
       "      <td>2017</td>\n",
       "      <td>42.952030</td>\n",
       "      <td>False</td>\n",
       "      <td>False</td>\n",
       "      <td>True</td>\n",
       "      <td>False</td>\n",
       "      <td>False</td>\n",
       "      <td>Barack Obama</td>\n",
       "      <td>True</td>\n",
       "    </tr>\n",
       "  </tbody>\n",
       "</table>\n",
       "</div>"
      ],
      "text/plain": [
       "     Fiscal Year   %Granted  Early     y0     y1     y2     y3     President  \\\n",
       "124         2013   0.775547  False  False   True  False  False  Barack Obama   \n",
       "125         2014   1.325301  False  False  False   True  False  Barack Obama   \n",
       "126         2015   4.700413  False  False  False  False   True  Barack Obama   \n",
       "127         2016   6.670442  False   True  False  False  False  Barack Obama   \n",
       "128         2017  42.952030  False  False   True  False  False  Barack Obama   \n",
       "\n",
       "      Dem  \n",
       "124  True  \n",
       "125  True  \n",
       "126  True  \n",
       "127  True  \n",
       "128  True  "
      ]
     },
     "execution_count": 105,
     "metadata": {},
     "output_type": "execute_result"
    }
   ],
   "source": [
    "X[-5:]"
   ]
  },
  {
   "cell_type": "code",
   "execution_count": 106,
   "metadata": {},
   "outputs": [
    {
     "data": {
      "text/html": [
       "<div>\n",
       "<style scoped>\n",
       "    .dataframe tbody tr th:only-of-type {\n",
       "        vertical-align: middle;\n",
       "    }\n",
       "\n",
       "    .dataframe tbody tr th {\n",
       "        vertical-align: top;\n",
       "    }\n",
       "\n",
       "    .dataframe thead th {\n",
       "        text-align: right;\n",
       "    }\n",
       "</style>\n",
       "<table border=\"1\" class=\"dataframe\">\n",
       "  <thead>\n",
       "    <tr style=\"text-align: right;\">\n",
       "      <th></th>\n",
       "      <th>Fiscal Year</th>\n",
       "      <th>%Granted</th>\n",
       "      <th>Early</th>\n",
       "      <th>y0</th>\n",
       "      <th>y1</th>\n",
       "      <th>y2</th>\n",
       "      <th>y3</th>\n",
       "      <th>President</th>\n",
       "      <th>Dem</th>\n",
       "    </tr>\n",
       "  </thead>\n",
       "  <tbody>\n",
       "    <tr>\n",
       "      <th>90</th>\n",
       "      <td>1983</td>\n",
       "      <td>32.432432</td>\n",
       "      <td>False</td>\n",
       "      <td>False</td>\n",
       "      <td>False</td>\n",
       "      <td>False</td>\n",
       "      <td>True</td>\n",
       "      <td>Jimmy Carter</td>\n",
       "      <td>True</td>\n",
       "    </tr>\n",
       "    <tr>\n",
       "      <th>91</th>\n",
       "      <td>1984</td>\n",
       "      <td>20.930233</td>\n",
       "      <td>False</td>\n",
       "      <td>True</td>\n",
       "      <td>False</td>\n",
       "      <td>False</td>\n",
       "      <td>False</td>\n",
       "      <td>Ronald Reagan</td>\n",
       "      <td>False</td>\n",
       "    </tr>\n",
       "    <tr>\n",
       "      <th>92</th>\n",
       "      <td>1985</td>\n",
       "      <td>50.557621</td>\n",
       "      <td>False</td>\n",
       "      <td>False</td>\n",
       "      <td>True</td>\n",
       "      <td>False</td>\n",
       "      <td>False</td>\n",
       "      <td>Ronald Reagan</td>\n",
       "      <td>False</td>\n",
       "    </tr>\n",
       "    <tr>\n",
       "      <th>93</th>\n",
       "      <td>1986</td>\n",
       "      <td>0.591716</td>\n",
       "      <td>False</td>\n",
       "      <td>False</td>\n",
       "      <td>False</td>\n",
       "      <td>True</td>\n",
       "      <td>False</td>\n",
       "      <td>Ronald Reagan</td>\n",
       "      <td>False</td>\n",
       "    </tr>\n",
       "    <tr>\n",
       "      <th>94</th>\n",
       "      <td>1987</td>\n",
       "      <td>16.483516</td>\n",
       "      <td>False</td>\n",
       "      <td>False</td>\n",
       "      <td>False</td>\n",
       "      <td>False</td>\n",
       "      <td>True</td>\n",
       "      <td>Ronald Reagan</td>\n",
       "      <td>False</td>\n",
       "    </tr>\n",
       "  </tbody>\n",
       "</table>\n",
       "</div>"
      ],
      "text/plain": [
       "    Fiscal Year   %Granted  Early     y0     y1     y2     y3      President  \\\n",
       "90         1983  32.432432  False  False  False  False   True   Jimmy Carter   \n",
       "91         1984  20.930233  False   True  False  False  False  Ronald Reagan   \n",
       "92         1985  50.557621  False  False   True  False  False  Ronald Reagan   \n",
       "93         1986   0.591716  False  False  False   True  False  Ronald Reagan   \n",
       "94         1987  16.483516  False  False  False  False   True  Ronald Reagan   \n",
       "\n",
       "      Dem  \n",
       "90   True  \n",
       "91  False  \n",
       "92  False  \n",
       "93  False  \n",
       "94  False  "
      ]
     },
     "execution_count": 106,
     "metadata": {},
     "output_type": "execute_result"
    }
   ],
   "source": [
    "X[90:95]"
   ]
  },
  {
   "cell_type": "code",
   "execution_count": 107,
   "metadata": {},
   "outputs": [
    {
     "data": {
      "text/plain": [
       "{'whiskers': [<matplotlib.lines.Line2D at 0x1d136ffbc40>,\n",
       "  <matplotlib.lines.Line2D at 0x1d136ffbfa0>,\n",
       "  <matplotlib.lines.Line2D at 0x1d1370147c0>,\n",
       "  <matplotlib.lines.Line2D at 0x1d137014b20>],\n",
       " 'caps': [<matplotlib.lines.Line2D at 0x1d137009340>,\n",
       "  <matplotlib.lines.Line2D at 0x1d1370096a0>,\n",
       "  <matplotlib.lines.Line2D at 0x1d137014e80>,\n",
       "  <matplotlib.lines.Line2D at 0x1d13701f220>],\n",
       " 'boxes': [<matplotlib.lines.Line2D at 0x1d136ffb8e0>,\n",
       "  <matplotlib.lines.Line2D at 0x1d137014460>],\n",
       " 'medians': [<matplotlib.lines.Line2D at 0x1d137009a00>,\n",
       "  <matplotlib.lines.Line2D at 0x1d13701f580>],\n",
       " 'fliers': [<matplotlib.lines.Line2D at 0x1d1370140a0>,\n",
       "  <matplotlib.lines.Line2D at 0x1d13701fbe0>],\n",
       " 'means': [<matplotlib.lines.Line2D at 0x1d137009d00>,\n",
       "  <matplotlib.lines.Line2D at 0x1d13701f880>]}"
      ]
     },
     "execution_count": 107,
     "metadata": {},
     "output_type": "execute_result"
    },
    {
     "data": {
      "image/png": "[encoded data removed]",
      "text/plain": [
       "<Figure size 432x288 with 1 Axes>"
      ]
     },
     "metadata": {
      "needs_background": "light"
     },
     "output_type": "display_data"
    }
   ],
   "source": [
    "#more visualization\n",
    "plt.boxplot([X.loc[X['Dem']]['%Granted'].to_numpy(),X.loc[X['Dem']==False]['%Granted'].to_numpy()],labels=['Dem','Rep'],showmeans=True)"
   ]
  },
  {
   "cell_type": "code",
   "execution_count": 108,
   "metadata": {},
   "outputs": [
    {
     "name": "stdout",
     "output_type": "stream",
     "text": [
      "Dem 26.270809641889134 16.170333869739395 31.580848037690565 30.22380319239967\n",
      "Rep 19.661753059789152 15.31924352386025 20.930232558139537 24.68266603124897\n"
     ]
    }
   ],
   "source": [
    "print('Dem',np.mean(X.loc[X['Dem']]['%Granted']),np.std(X.loc[X['Dem']]['%Granted']),np.median(X.loc[X['Dem']]['%Granted']),scipy.stats.iqr(X.loc[X['Dem']]['%Granted']))\n",
    "print('Rep',np.mean(X.loc[X['Dem']==False]['%Granted']),np.std(X.loc[X['Dem']==False]['%Granted']),np.median(X.loc[X['Dem']==False]['%Granted']),scipy.stats.iqr(X.loc[X['Dem']==False]['%Granted']))\n",
    "#Mean, STD, Median, Interquartile Range"
   ]
  },
  {
   "cell_type": "code",
   "execution_count": 109,
   "metadata": {},
   "outputs": [
    {
     "data": {
      "text/plain": [
       "<matplotlib.legend.Legend at 0x1d13704a700>"
      ]
     },
     "execution_count": 109,
     "metadata": {},
     "output_type": "execute_result"
    },
    {
     "data": {
      "image/png": "[encoded data removed]",
      "text/plain": [
       "<Figure size 432x288 with 1 Axes>"
      ]
     },
     "metadata": {
      "needs_background": "light"
     },
     "output_type": "display_data"
    }
   ],
   "source": [
    "plt.scatter(X.loc[X['Dem']]['Fiscal Year'],X.loc[X['Dem']]['%Granted'],c='b',label='Dems')\n",
    "plt.scatter(X.loc[X['Dem']==False]['Fiscal Year'],X.loc[X['Dem']==False]['%Granted'],c='r',label='Reps')\n",
    "plt.vlines(1967.5,0,70) #splitting into 'early' and 'late' data\n",
    "plt.legend(loc='lower left')"
   ]
  },
  {
   "cell_type": "code",
   "execution_count": 110,
   "metadata": {},
   "outputs": [],
   "source": [
    "#It appears that the proportion granted clemency as opposed to denied or closed is noticeably higher on average for Democrats in \n",
    "#the earlier data, quite a bit less so after 1967. Perhaps then it makes more sense to combine date/party into a 4-way categorization\n",
    "#scheme using the same sort of one-hot encoding used for the years."
   ]
  },
  {
   "cell_type": "code",
   "execution_count": 111,
   "metadata": {},
   "outputs": [],
   "source": [
    "X['EarlyDem']=X['Dem'] & X['Early']\n",
    "X['LateRep']=(X['Dem'] | X['Early'])==False\n",
    "X['EarlyRep']=X['Early'] > X['Dem']\n",
    "X['LateDem']=X['Dem'] > X['Early']"
   ]
  },
  {
   "cell_type": "code",
   "execution_count": 112,
   "metadata": {},
   "outputs": [
    {
     "data": {
      "text/html": [
       "<div>\n",
       "<style scoped>\n",
       "    .dataframe tbody tr th:only-of-type {\n",
       "        vertical-align: middle;\n",
       "    }\n",
       "\n",
       "    .dataframe tbody tr th {\n",
       "        vertical-align: top;\n",
       "    }\n",
       "\n",
       "    .dataframe thead th {\n",
       "        text-align: right;\n",
       "    }\n",
       "</style>\n",
       "<table border=\"1\" class=\"dataframe\">\n",
       "  <thead>\n",
       "    <tr style=\"text-align: right;\">\n",
       "      <th></th>\n",
       "      <th>Fiscal Year</th>\n",
       "      <th>%Granted</th>\n",
       "      <th>Early</th>\n",
       "      <th>y0</th>\n",
       "      <th>y1</th>\n",
       "      <th>y2</th>\n",
       "      <th>y3</th>\n",
       "      <th>President</th>\n",
       "      <th>Dem</th>\n",
       "      <th>EarlyDem</th>\n",
       "      <th>LateRep</th>\n",
       "      <th>EarlyRep</th>\n",
       "      <th>LateDem</th>\n",
       "    </tr>\n",
       "  </thead>\n",
       "  <tbody>\n",
       "    <tr>\n",
       "      <th>0</th>\n",
       "      <td>1900</td>\n",
       "      <td>32.210835</td>\n",
       "      <td>True</td>\n",
       "      <td>True</td>\n",
       "      <td>False</td>\n",
       "      <td>False</td>\n",
       "      <td>False</td>\n",
       "      <td>William McKinley</td>\n",
       "      <td>False</td>\n",
       "      <td>False</td>\n",
       "      <td>False</td>\n",
       "      <td>True</td>\n",
       "      <td>False</td>\n",
       "    </tr>\n",
       "    <tr>\n",
       "      <th>1</th>\n",
       "      <td>1901</td>\n",
       "      <td>28.571429</td>\n",
       "      <td>True</td>\n",
       "      <td>False</td>\n",
       "      <td>True</td>\n",
       "      <td>False</td>\n",
       "      <td>False</td>\n",
       "      <td>William McKinley</td>\n",
       "      <td>False</td>\n",
       "      <td>False</td>\n",
       "      <td>False</td>\n",
       "      <td>True</td>\n",
       "      <td>False</td>\n",
       "    </tr>\n",
       "    <tr>\n",
       "      <th>2</th>\n",
       "      <td>1902</td>\n",
       "      <td>19.676946</td>\n",
       "      <td>True</td>\n",
       "      <td>False</td>\n",
       "      <td>False</td>\n",
       "      <td>True</td>\n",
       "      <td>False</td>\n",
       "      <td>Theodore Roosevelt</td>\n",
       "      <td>False</td>\n",
       "      <td>False</td>\n",
       "      <td>False</td>\n",
       "      <td>True</td>\n",
       "      <td>False</td>\n",
       "    </tr>\n",
       "    <tr>\n",
       "      <th>3</th>\n",
       "      <td>1903</td>\n",
       "      <td>23.063683</td>\n",
       "      <td>True</td>\n",
       "      <td>False</td>\n",
       "      <td>False</td>\n",
       "      <td>False</td>\n",
       "      <td>True</td>\n",
       "      <td>Theodore Roosevelt</td>\n",
       "      <td>False</td>\n",
       "      <td>False</td>\n",
       "      <td>False</td>\n",
       "      <td>True</td>\n",
       "      <td>False</td>\n",
       "    </tr>\n",
       "    <tr>\n",
       "      <th>4</th>\n",
       "      <td>1904</td>\n",
       "      <td>28.825623</td>\n",
       "      <td>True</td>\n",
       "      <td>True</td>\n",
       "      <td>False</td>\n",
       "      <td>False</td>\n",
       "      <td>False</td>\n",
       "      <td>Theodore Roosevelt</td>\n",
       "      <td>False</td>\n",
       "      <td>False</td>\n",
       "      <td>False</td>\n",
       "      <td>True</td>\n",
       "      <td>False</td>\n",
       "    </tr>\n",
       "    <tr>\n",
       "      <th>5</th>\n",
       "      <td>1905</td>\n",
       "      <td>29.359431</td>\n",
       "      <td>True</td>\n",
       "      <td>False</td>\n",
       "      <td>True</td>\n",
       "      <td>False</td>\n",
       "      <td>False</td>\n",
       "      <td>Theodore Roosevelt</td>\n",
       "      <td>False</td>\n",
       "      <td>False</td>\n",
       "      <td>False</td>\n",
       "      <td>True</td>\n",
       "      <td>False</td>\n",
       "    </tr>\n",
       "    <tr>\n",
       "      <th>6</th>\n",
       "      <td>1906</td>\n",
       "      <td>24.024961</td>\n",
       "      <td>True</td>\n",
       "      <td>False</td>\n",
       "      <td>False</td>\n",
       "      <td>True</td>\n",
       "      <td>False</td>\n",
       "      <td>Theodore Roosevelt</td>\n",
       "      <td>False</td>\n",
       "      <td>False</td>\n",
       "      <td>False</td>\n",
       "      <td>True</td>\n",
       "      <td>False</td>\n",
       "    </tr>\n",
       "    <tr>\n",
       "      <th>7</th>\n",
       "      <td>1907</td>\n",
       "      <td>22.862823</td>\n",
       "      <td>True</td>\n",
       "      <td>False</td>\n",
       "      <td>False</td>\n",
       "      <td>False</td>\n",
       "      <td>True</td>\n",
       "      <td>Theodore Roosevelt</td>\n",
       "      <td>False</td>\n",
       "      <td>False</td>\n",
       "      <td>False</td>\n",
       "      <td>True</td>\n",
       "      <td>False</td>\n",
       "    </tr>\n",
       "    <tr>\n",
       "      <th>8</th>\n",
       "      <td>1908</td>\n",
       "      <td>22.400000</td>\n",
       "      <td>True</td>\n",
       "      <td>True</td>\n",
       "      <td>False</td>\n",
       "      <td>False</td>\n",
       "      <td>False</td>\n",
       "      <td>Theodore Roosevelt</td>\n",
       "      <td>False</td>\n",
       "      <td>False</td>\n",
       "      <td>False</td>\n",
       "      <td>True</td>\n",
       "      <td>False</td>\n",
       "    </tr>\n",
       "    <tr>\n",
       "      <th>9</th>\n",
       "      <td>1909</td>\n",
       "      <td>33.555556</td>\n",
       "      <td>True</td>\n",
       "      <td>False</td>\n",
       "      <td>True</td>\n",
       "      <td>False</td>\n",
       "      <td>False</td>\n",
       "      <td>Theodore Roosevelt</td>\n",
       "      <td>False</td>\n",
       "      <td>False</td>\n",
       "      <td>False</td>\n",
       "      <td>True</td>\n",
       "      <td>False</td>\n",
       "    </tr>\n",
       "    <tr>\n",
       "      <th>10</th>\n",
       "      <td>1910</td>\n",
       "      <td>37.280702</td>\n",
       "      <td>True</td>\n",
       "      <td>False</td>\n",
       "      <td>False</td>\n",
       "      <td>True</td>\n",
       "      <td>False</td>\n",
       "      <td>William H. Taft</td>\n",
       "      <td>False</td>\n",
       "      <td>False</td>\n",
       "      <td>False</td>\n",
       "      <td>True</td>\n",
       "      <td>False</td>\n",
       "    </tr>\n",
       "    <tr>\n",
       "      <th>11</th>\n",
       "      <td>1911</td>\n",
       "      <td>39.608802</td>\n",
       "      <td>True</td>\n",
       "      <td>False</td>\n",
       "      <td>False</td>\n",
       "      <td>False</td>\n",
       "      <td>True</td>\n",
       "      <td>William H. Taft</td>\n",
       "      <td>False</td>\n",
       "      <td>False</td>\n",
       "      <td>False</td>\n",
       "      <td>True</td>\n",
       "      <td>False</td>\n",
       "    </tr>\n",
       "    <tr>\n",
       "      <th>12</th>\n",
       "      <td>1912</td>\n",
       "      <td>47.465438</td>\n",
       "      <td>True</td>\n",
       "      <td>True</td>\n",
       "      <td>False</td>\n",
       "      <td>False</td>\n",
       "      <td>False</td>\n",
       "      <td>William H. Taft</td>\n",
       "      <td>False</td>\n",
       "      <td>False</td>\n",
       "      <td>False</td>\n",
       "      <td>True</td>\n",
       "      <td>False</td>\n",
       "    </tr>\n",
       "    <tr>\n",
       "      <th>13</th>\n",
       "      <td>1913</td>\n",
       "      <td>34.266886</td>\n",
       "      <td>True</td>\n",
       "      <td>False</td>\n",
       "      <td>True</td>\n",
       "      <td>False</td>\n",
       "      <td>False</td>\n",
       "      <td>William H. Taft</td>\n",
       "      <td>False</td>\n",
       "      <td>False</td>\n",
       "      <td>False</td>\n",
       "      <td>True</td>\n",
       "      <td>False</td>\n",
       "    </tr>\n",
       "    <tr>\n",
       "      <th>14</th>\n",
       "      <td>1914</td>\n",
       "      <td>35.775862</td>\n",
       "      <td>True</td>\n",
       "      <td>False</td>\n",
       "      <td>False</td>\n",
       "      <td>True</td>\n",
       "      <td>False</td>\n",
       "      <td>Woodrow Wilson</td>\n",
       "      <td>True</td>\n",
       "      <td>True</td>\n",
       "      <td>False</td>\n",
       "      <td>False</td>\n",
       "      <td>False</td>\n",
       "    </tr>\n",
       "  </tbody>\n",
       "</table>\n",
       "</div>"
      ],
      "text/plain": [
       "    Fiscal Year   %Granted  Early     y0     y1     y2     y3  \\\n",
       "0          1900  32.210835   True   True  False  False  False   \n",
       "1          1901  28.571429   True  False   True  False  False   \n",
       "2          1902  19.676946   True  False  False   True  False   \n",
       "3          1903  23.063683   True  False  False  False   True   \n",
       "4          1904  28.825623   True   True  False  False  False   \n",
       "5          1905  29.359431   True  False   True  False  False   \n",
       "6          1906  24.024961   True  False  False   True  False   \n",
       "7          1907  22.862823   True  False  False  False   True   \n",
       "8          1908  22.400000   True   True  False  False  False   \n",
       "9          1909  33.555556   True  False   True  False  False   \n",
       "10         1910  37.280702   True  False  False   True  False   \n",
       "11         1911  39.608802   True  False  False  False   True   \n",
       "12         1912  47.465438   True   True  False  False  False   \n",
       "13         1913  34.266886   True  False   True  False  False   \n",
       "14         1914  35.775862   True  False  False   True  False   \n",
       "\n",
       "             President    Dem  EarlyDem  LateRep  EarlyRep  LateDem  \n",
       "0     William McKinley  False     False    False      True    False  \n",
       "1     William McKinley  False     False    False      True    False  \n",
       "2   Theodore Roosevelt  False     False    False      True    False  \n",
       "3   Theodore Roosevelt  False     False    False      True    False  \n",
       "4   Theodore Roosevelt  False     False    False      True    False  \n",
       "5   Theodore Roosevelt  False     False    False      True    False  \n",
       "6   Theodore Roosevelt  False     False    False      True    False  \n",
       "7   Theodore Roosevelt  False     False    False      True    False  \n",
       "8   Theodore Roosevelt  False     False    False      True    False  \n",
       "9   Theodore Roosevelt  False     False    False      True    False  \n",
       "10     William H. Taft  False     False    False      True    False  \n",
       "11     William H. Taft  False     False    False      True    False  \n",
       "12     William H. Taft  False     False    False      True    False  \n",
       "13     William H. Taft  False     False    False      True    False  \n",
       "14      Woodrow Wilson   True      True    False     False    False  "
      ]
     },
     "execution_count": 112,
     "metadata": {},
     "output_type": "execute_result"
    }
   ],
   "source": [
    "X[:15] #making sure the code executed as intended"
   ]
  },
  {
   "cell_type": "code",
   "execution_count": 113,
   "metadata": {},
   "outputs": [
    {
     "data": {
      "text/html": [
       "<div>\n",
       "<style scoped>\n",
       "    .dataframe tbody tr th:only-of-type {\n",
       "        vertical-align: middle;\n",
       "    }\n",
       "\n",
       "    .dataframe tbody tr th {\n",
       "        vertical-align: top;\n",
       "    }\n",
       "\n",
       "    .dataframe thead th {\n",
       "        text-align: right;\n",
       "    }\n",
       "</style>\n",
       "<table border=\"1\" class=\"dataframe\">\n",
       "  <thead>\n",
       "    <tr style=\"text-align: right;\">\n",
       "      <th></th>\n",
       "      <th>Fiscal Year</th>\n",
       "      <th>%Granted</th>\n",
       "      <th>Early</th>\n",
       "      <th>y0</th>\n",
       "      <th>y1</th>\n",
       "      <th>y2</th>\n",
       "      <th>y3</th>\n",
       "      <th>President</th>\n",
       "      <th>Dem</th>\n",
       "      <th>EarlyDem</th>\n",
       "      <th>LateRep</th>\n",
       "      <th>EarlyRep</th>\n",
       "      <th>LateDem</th>\n",
       "    </tr>\n",
       "  </thead>\n",
       "  <tbody>\n",
       "    <tr>\n",
       "      <th>114</th>\n",
       "      <td>2004</td>\n",
       "      <td>61.722488</td>\n",
       "      <td>False</td>\n",
       "      <td>True</td>\n",
       "      <td>False</td>\n",
       "      <td>False</td>\n",
       "      <td>False</td>\n",
       "      <td>George W. Bush</td>\n",
       "      <td>False</td>\n",
       "      <td>False</td>\n",
       "      <td>True</td>\n",
       "      <td>False</td>\n",
       "      <td>False</td>\n",
       "    </tr>\n",
       "    <tr>\n",
       "      <th>115</th>\n",
       "      <td>2005</td>\n",
       "      <td>0.662252</td>\n",
       "      <td>False</td>\n",
       "      <td>False</td>\n",
       "      <td>True</td>\n",
       "      <td>False</td>\n",
       "      <td>False</td>\n",
       "      <td>George W. Bush</td>\n",
       "      <td>False</td>\n",
       "      <td>False</td>\n",
       "      <td>True</td>\n",
       "      <td>False</td>\n",
       "      <td>False</td>\n",
       "    </tr>\n",
       "    <tr>\n",
       "      <th>116</th>\n",
       "      <td>2006</td>\n",
       "      <td>1.437372</td>\n",
       "      <td>False</td>\n",
       "      <td>False</td>\n",
       "      <td>False</td>\n",
       "      <td>True</td>\n",
       "      <td>False</td>\n",
       "      <td>George W. Bush</td>\n",
       "      <td>False</td>\n",
       "      <td>False</td>\n",
       "      <td>True</td>\n",
       "      <td>False</td>\n",
       "      <td>False</td>\n",
       "    </tr>\n",
       "    <tr>\n",
       "      <th>117</th>\n",
       "      <td>2007</td>\n",
       "      <td>4.482759</td>\n",
       "      <td>False</td>\n",
       "      <td>False</td>\n",
       "      <td>False</td>\n",
       "      <td>False</td>\n",
       "      <td>True</td>\n",
       "      <td>George W. Bush</td>\n",
       "      <td>False</td>\n",
       "      <td>False</td>\n",
       "      <td>True</td>\n",
       "      <td>False</td>\n",
       "      <td>False</td>\n",
       "    </tr>\n",
       "    <tr>\n",
       "      <th>118</th>\n",
       "      <td>2008</td>\n",
       "      <td>2.706454</td>\n",
       "      <td>False</td>\n",
       "      <td>True</td>\n",
       "      <td>False</td>\n",
       "      <td>False</td>\n",
       "      <td>False</td>\n",
       "      <td>George W. Bush</td>\n",
       "      <td>False</td>\n",
       "      <td>False</td>\n",
       "      <td>True</td>\n",
       "      <td>False</td>\n",
       "      <td>False</td>\n",
       "    </tr>\n",
       "    <tr>\n",
       "      <th>119</th>\n",
       "      <td>2009</td>\n",
       "      <td>4.195804</td>\n",
       "      <td>False</td>\n",
       "      <td>False</td>\n",
       "      <td>True</td>\n",
       "      <td>False</td>\n",
       "      <td>False</td>\n",
       "      <td>George W. Bush</td>\n",
       "      <td>False</td>\n",
       "      <td>False</td>\n",
       "      <td>True</td>\n",
       "      <td>False</td>\n",
       "      <td>False</td>\n",
       "    </tr>\n",
       "    <tr>\n",
       "      <th>120</th>\n",
       "      <td>2009</td>\n",
       "      <td>1.433915</td>\n",
       "      <td>False</td>\n",
       "      <td>False</td>\n",
       "      <td>True</td>\n",
       "      <td>False</td>\n",
       "      <td>False</td>\n",
       "      <td>George W. Bush</td>\n",
       "      <td>False</td>\n",
       "      <td>False</td>\n",
       "      <td>True</td>\n",
       "      <td>False</td>\n",
       "      <td>False</td>\n",
       "    </tr>\n",
       "    <tr>\n",
       "      <th>121</th>\n",
       "      <td>2010</td>\n",
       "      <td>2.411995</td>\n",
       "      <td>False</td>\n",
       "      <td>False</td>\n",
       "      <td>False</td>\n",
       "      <td>True</td>\n",
       "      <td>False</td>\n",
       "      <td>George W. Bush</td>\n",
       "      <td>False</td>\n",
       "      <td>False</td>\n",
       "      <td>True</td>\n",
       "      <td>False</td>\n",
       "      <td>False</td>\n",
       "    </tr>\n",
       "    <tr>\n",
       "      <th>122</th>\n",
       "      <td>2011</td>\n",
       "      <td>0.380654</td>\n",
       "      <td>False</td>\n",
       "      <td>False</td>\n",
       "      <td>False</td>\n",
       "      <td>False</td>\n",
       "      <td>True</td>\n",
       "      <td>George W. Bush</td>\n",
       "      <td>False</td>\n",
       "      <td>False</td>\n",
       "      <td>True</td>\n",
       "      <td>False</td>\n",
       "      <td>False</td>\n",
       "    </tr>\n",
       "    <tr>\n",
       "      <th>123</th>\n",
       "      <td>2012</td>\n",
       "      <td>0.578035</td>\n",
       "      <td>False</td>\n",
       "      <td>True</td>\n",
       "      <td>False</td>\n",
       "      <td>False</td>\n",
       "      <td>False</td>\n",
       "      <td>Barack Obama</td>\n",
       "      <td>True</td>\n",
       "      <td>False</td>\n",
       "      <td>False</td>\n",
       "      <td>False</td>\n",
       "      <td>True</td>\n",
       "    </tr>\n",
       "    <tr>\n",
       "      <th>124</th>\n",
       "      <td>2013</td>\n",
       "      <td>0.775547</td>\n",
       "      <td>False</td>\n",
       "      <td>False</td>\n",
       "      <td>True</td>\n",
       "      <td>False</td>\n",
       "      <td>False</td>\n",
       "      <td>Barack Obama</td>\n",
       "      <td>True</td>\n",
       "      <td>False</td>\n",
       "      <td>False</td>\n",
       "      <td>False</td>\n",
       "      <td>True</td>\n",
       "    </tr>\n",
       "    <tr>\n",
       "      <th>125</th>\n",
       "      <td>2014</td>\n",
       "      <td>1.325301</td>\n",
       "      <td>False</td>\n",
       "      <td>False</td>\n",
       "      <td>False</td>\n",
       "      <td>True</td>\n",
       "      <td>False</td>\n",
       "      <td>Barack Obama</td>\n",
       "      <td>True</td>\n",
       "      <td>False</td>\n",
       "      <td>False</td>\n",
       "      <td>False</td>\n",
       "      <td>True</td>\n",
       "    </tr>\n",
       "    <tr>\n",
       "      <th>126</th>\n",
       "      <td>2015</td>\n",
       "      <td>4.700413</td>\n",
       "      <td>False</td>\n",
       "      <td>False</td>\n",
       "      <td>False</td>\n",
       "      <td>False</td>\n",
       "      <td>True</td>\n",
       "      <td>Barack Obama</td>\n",
       "      <td>True</td>\n",
       "      <td>False</td>\n",
       "      <td>False</td>\n",
       "      <td>False</td>\n",
       "      <td>True</td>\n",
       "    </tr>\n",
       "    <tr>\n",
       "      <th>127</th>\n",
       "      <td>2016</td>\n",
       "      <td>6.670442</td>\n",
       "      <td>False</td>\n",
       "      <td>True</td>\n",
       "      <td>False</td>\n",
       "      <td>False</td>\n",
       "      <td>False</td>\n",
       "      <td>Barack Obama</td>\n",
       "      <td>True</td>\n",
       "      <td>False</td>\n",
       "      <td>False</td>\n",
       "      <td>False</td>\n",
       "      <td>True</td>\n",
       "    </tr>\n",
       "    <tr>\n",
       "      <th>128</th>\n",
       "      <td>2017</td>\n",
       "      <td>42.952030</td>\n",
       "      <td>False</td>\n",
       "      <td>False</td>\n",
       "      <td>True</td>\n",
       "      <td>False</td>\n",
       "      <td>False</td>\n",
       "      <td>Barack Obama</td>\n",
       "      <td>True</td>\n",
       "      <td>False</td>\n",
       "      <td>False</td>\n",
       "      <td>False</td>\n",
       "      <td>True</td>\n",
       "    </tr>\n",
       "  </tbody>\n",
       "</table>\n",
       "</div>"
      ],
      "text/plain": [
       "     Fiscal Year   %Granted  Early     y0     y1     y2     y3  \\\n",
       "114         2004  61.722488  False   True  False  False  False   \n",
       "115         2005   0.662252  False  False   True  False  False   \n",
       "116         2006   1.437372  False  False  False   True  False   \n",
       "117         2007   4.482759  False  False  False  False   True   \n",
       "118         2008   2.706454  False   True  False  False  False   \n",
       "119         2009   4.195804  False  False   True  False  False   \n",
       "120         2009   1.433915  False  False   True  False  False   \n",
       "121         2010   2.411995  False  False  False   True  False   \n",
       "122         2011   0.380654  False  False  False  False   True   \n",
       "123         2012   0.578035  False   True  False  False  False   \n",
       "124         2013   0.775547  False  False   True  False  False   \n",
       "125         2014   1.325301  False  False  False   True  False   \n",
       "126         2015   4.700413  False  False  False  False   True   \n",
       "127         2016   6.670442  False   True  False  False  False   \n",
       "128         2017  42.952030  False  False   True  False  False   \n",
       "\n",
       "          President    Dem  EarlyDem  LateRep  EarlyRep  LateDem  \n",
       "114  George W. Bush  False     False     True     False    False  \n",
       "115  George W. Bush  False     False     True     False    False  \n",
       "116  George W. Bush  False     False     True     False    False  \n",
       "117  George W. Bush  False     False     True     False    False  \n",
       "118  George W. Bush  False     False     True     False    False  \n",
       "119  George W. Bush  False     False     True     False    False  \n",
       "120  George W. Bush  False     False     True     False    False  \n",
       "121  George W. Bush  False     False     True     False    False  \n",
       "122  George W. Bush  False     False     True     False    False  \n",
       "123    Barack Obama   True     False    False     False     True  \n",
       "124    Barack Obama   True     False    False     False     True  \n",
       "125    Barack Obama   True     False    False     False     True  \n",
       "126    Barack Obama   True     False    False     False     True  \n",
       "127    Barack Obama   True     False    False     False     True  \n",
       "128    Barack Obama   True     False    False     False     True  "
      ]
     },
     "execution_count": 113,
     "metadata": {},
     "output_type": "execute_result"
    }
   ],
   "source": [
    "X[-15:]"
   ]
  },
  {
   "cell_type": "code",
   "execution_count": 114,
   "metadata": {},
   "outputs": [],
   "source": [
    "#At this point we are ready to start looking at predicting the %Granted based on the year and the 4-way categorization \n",
    "#(\"EarlyDem\"/\"LateRep\"/\"EarlyRep\"/\"LateDem\"). Since there's not much else quantifiable information to go on,\n",
    "#we'd like to use the years elapsed from the beginning, the position in the 4-year election cycle, and the time/party \n",
    "#categorization all combined. But there is a complication in that much of the information in the 8 other categories was derived\n",
    "#from the Fiscal Year which gives us redundant and mutual information."
   ]
  },
  {
   "cell_type": "code",
   "execution_count": 115,
   "metadata": {},
   "outputs": [],
   "source": [
    "#To see how bad it can be, we can start by looking at correlation between years elapsed and the category labels. We start by \n",
    "#building a feature matrix. We will standardize the years elapsed to get a fraction between 0 and 1 to facilitate comparison\n",
    "#with the other variables and we will also change the Boolean True/False values into 1/0 integers to make the math more transparent\n",
    "#and avoid hypothetical errors based on having some weird API we're relying on in NumPy."
   ]
  },
  {
   "cell_type": "code",
   "execution_count": 116,
   "metadata": {},
   "outputs": [],
   "source": [
    "feature_matrix=(X['Fiscal Year']-1899).to_numpy().astype(float)"
   ]
  },
  {
   "cell_type": "code",
   "execution_count": 117,
   "metadata": {},
   "outputs": [
    {
     "data": {
      "text/plain": [
       "array([1., 2., 3., 4., 5.])"
      ]
     },
     "execution_count": 117,
     "metadata": {},
     "output_type": "execute_result"
    }
   ],
   "source": [
    "feature_matrix[:5]"
   ]
  },
  {
   "cell_type": "code",
   "execution_count": 118,
   "metadata": {},
   "outputs": [
    {
     "data": {
      "text/plain": [
       "(129,)"
      ]
     },
     "execution_count": 118,
     "metadata": {},
     "output_type": "execute_result"
    }
   ],
   "source": [
    "feature_matrix.shape"
   ]
  },
  {
   "cell_type": "code",
   "execution_count": 119,
   "metadata": {},
   "outputs": [],
   "source": [
    "feature_matrix=feature_matrix.reshape(129,1)"
   ]
  },
  {
   "cell_type": "code",
   "execution_count": 120,
   "metadata": {},
   "outputs": [],
   "source": [
    "#one way we reduce multicollinearity is by leaving out one of the categorical variables from each group\n",
    "#since it can be predicted from the other values of the group, this does not result in reduction of information\n",
    "feature_matrix=np.hstack((feature_matrix,X['y0'].to_numpy().astype(int).reshape(129,1)))\n",
    "feature_matrix=np.hstack((feature_matrix,X['y1'].to_numpy().astype(int).reshape(129,1)))\n",
    "feature_matrix=np.hstack((feature_matrix,X['y2'].to_numpy().astype(int).reshape(129,1)))\n",
    "feature_matrix=np.hstack((feature_matrix,X['EarlyDem'].to_numpy().astype(int).reshape(129,1)))\n",
    "feature_matrix=np.hstack((feature_matrix,X['EarlyRep'].to_numpy().astype(int).reshape(129,1)))\n",
    "feature_matrix=np.hstack((feature_matrix,X['LateDem'].to_numpy().astype(int).reshape(129,1)))\n",
    "#We do need to add an intercept term\n",
    "feature_matrix=np.hstack((feature_matrix,np.ones(129).reshape(129,1)))"
   ]
  },
  {
   "cell_type": "code",
   "execution_count": 121,
   "metadata": {},
   "outputs": [],
   "source": [
    "feature_matrix[:,0]=(feature_matrix[:,0].astype(float))/118.0"
   ]
  },
  {
   "cell_type": "code",
   "execution_count": 122,
   "metadata": {},
   "outputs": [
    {
     "data": {
      "text/plain": [
       "array([[0.00847458, 1.        , 0.        , 0.        , 0.        ,\n",
       "        1.        , 0.        , 1.        ],\n",
       "       [0.01694915, 0.        , 1.        , 0.        , 0.        ,\n",
       "        1.        , 0.        , 1.        ],\n",
       "       [0.02542373, 0.        , 0.        , 1.        , 0.        ,\n",
       "        1.        , 0.        , 1.        ],\n",
       "       [0.03389831, 0.        , 0.        , 0.        , 0.        ,\n",
       "        1.        , 0.        , 1.        ],\n",
       "       [0.04237288, 1.        , 0.        , 0.        , 0.        ,\n",
       "        1.        , 0.        , 1.        ]])"
      ]
     },
     "execution_count": 122,
     "metadata": {},
     "output_type": "execute_result"
    }
   ],
   "source": [
    "feature_matrix[:5]"
   ]
  },
  {
   "cell_type": "code",
   "execution_count": 123,
   "metadata": {},
   "outputs": [
    {
     "data": {
      "text/plain": [
       "(129, 8)"
      ]
     },
     "execution_count": 123,
     "metadata": {},
     "output_type": "execute_result"
    }
   ],
   "source": [
    "feature_matrix.shape"
   ]
  },
  {
   "cell_type": "code",
   "execution_count": 124,
   "metadata": {},
   "outputs": [
    {
     "name": "stdout",
     "output_type": "stream",
     "text": [
      "[[ 1.         -0.03103076]\n",
      " [-0.03103076  1.        ]]\n",
      "[[1.         0.07339082]\n",
      " [0.07339082 1.        ]]\n",
      "[[ 1.         -0.03282794]\n",
      " [-0.03282794  1.        ]]\n",
      "[[ 1.         -0.33538967]\n",
      " [-0.33538967  1.        ]]\n",
      "[[ 1.         -0.60853299]\n",
      " [-0.60853299  1.        ]]\n",
      "[[1.         0.49083261]\n",
      " [0.49083261 1.        ]]\n"
     ]
    }
   ],
   "source": [
    "i=1 #checking for high correlation between standardized fiscal year and other independent variables\n",
    "while i<7:\n",
    "    print(np.corrcoef(feature_matrix[:,0],feature_matrix[:,i]))\n",
    "    i=i+1"
   ]
  },
  {
   "cell_type": "code",
   "execution_count": 125,
   "metadata": {},
   "outputs": [],
   "source": [
    "#As should be expected, although the modular year assignments are based entirely on the years, since it is not a linear \n",
    "#relationship there is very low correlation. The categorizations by time period and party show the expected negative correlation\n",
    "#with years elapsed for the early categories and positive correlation for the late categories. The correlation of highest absolute\n",
    "#magnitude is about -0.61 for the \"EarlyRep\" category. This is quite a bit higher than we would like; however, it does not meet\n",
    "#the +/-0.7 rule of thumb threshold for strong correlation. Perhaps we can correct for the high variance introduced through\n",
    "#regularization. Just as a check, let's also look at the condition number of the feature matrix."
   ]
  },
  {
   "cell_type": "code",
   "execution_count": 126,
   "metadata": {},
   "outputs": [
    {
     "data": {
      "text/plain": [
       "13.841378189636869"
      ]
     },
     "execution_count": 126,
     "metadata": {},
     "output_type": "execute_result"
    }
   ],
   "source": [
    "np.linalg.cond(feature_matrix)"
   ]
  },
  {
   "cell_type": "code",
   "execution_count": 127,
   "metadata": {},
   "outputs": [],
   "source": [
    "#As a final check we compute the matrix feature_matrix.T@feature_matrix and find the singular values. Having low singular values\n",
    "#would like having a high condition number suggest a high degree of sensitivity to noise."
   ]
  },
  {
   "cell_type": "code",
   "execution_count": 128,
   "metadata": {},
   "outputs": [],
   "source": [
    "u,s,v=np.linalg.svd(feature_matrix.T@feature_matrix)"
   ]
  },
  {
   "cell_type": "code",
   "execution_count": 129,
   "metadata": {},
   "outputs": [
    {
     "data": {
      "text/plain": [
       "array([216.94075878,  37.62492664,  36.42842772,  32.60195588,\n",
       "        29.73904503,   9.80464794,   6.60780288,   1.13235469])"
      ]
     },
     "execution_count": 129,
     "metadata": {},
     "output_type": "execute_result"
    }
   ],
   "source": [
    "s"
   ]
  },
  {
   "cell_type": "code",
   "execution_count": 130,
   "metadata": {},
   "outputs": [],
   "source": [
    "#Can we use linear regression to predict the %Granted? let's split our data into a training/test set to find out."
   ]
  },
  {
   "cell_type": "code",
   "execution_count": 131,
   "metadata": {},
   "outputs": [
    {
     "data": {
      "text/plain": [
       "(129, 8)"
      ]
     },
     "execution_count": 131,
     "metadata": {},
     "output_type": "execute_result"
    }
   ],
   "source": [
    "feature_matrix.shape"
   ]
  },
  {
   "cell_type": "code",
   "execution_count": 132,
   "metadata": {},
   "outputs": [],
   "source": [
    "randvec=np.random.rand(129,1)"
   ]
  },
  {
   "cell_type": "code",
   "execution_count": 133,
   "metadata": {},
   "outputs": [],
   "source": [
    "fmtrain=feature_matrix[randvec[:,0]<.7]"
   ]
  },
  {
   "cell_type": "code",
   "execution_count": 134,
   "metadata": {},
   "outputs": [
    {
     "data": {
      "text/plain": [
       "(87, 8)"
      ]
     },
     "execution_count": 134,
     "metadata": {},
     "output_type": "execute_result"
    }
   ],
   "source": [
    "fmtrain.shape"
   ]
  },
  {
   "cell_type": "code",
   "execution_count": 135,
   "metadata": {},
   "outputs": [],
   "source": [
    "fmtest=feature_matrix[randvec[:,0]>=.7]"
   ]
  },
  {
   "cell_type": "code",
   "execution_count": 136,
   "metadata": {},
   "outputs": [
    {
     "data": {
      "text/plain": [
       "(42, 8)"
      ]
     },
     "execution_count": 136,
     "metadata": {},
     "output_type": "execute_result"
    }
   ],
   "source": [
    "fmtest.shape"
   ]
  },
  {
   "cell_type": "code",
   "execution_count": 137,
   "metadata": {},
   "outputs": [],
   "source": [
    "target=X['%Granted'].to_numpy().reshape(129,1)"
   ]
  },
  {
   "cell_type": "code",
   "execution_count": 138,
   "metadata": {},
   "outputs": [],
   "source": [
    "ttrain=target[randvec[:,0]<.7]\n",
    "ttest=target[randvec[:,0]>=.7]"
   ]
  },
  {
   "cell_type": "code",
   "execution_count": 139,
   "metadata": {},
   "outputs": [],
   "source": [
    "#sUsing NumPy's SVD-based least-squares fitting to find coefficient vector"
   ]
  },
  {
   "cell_type": "code",
   "execution_count": 140,
   "metadata": {},
   "outputs": [
    {
     "name": "stderr",
     "output_type": "stream",
     "text": [
      "<ipython-input-140-2667a243d0c9>:1: FutureWarning: `rcond` parameter will change to the default of machine precision times ``max(M, N)`` where M and N are the input matrix dimensions.\n",
      "To use the future default and silence this warning we advise to pass `rcond=None`, to keep using the old, explicitly pass `rcond=-1`.\n",
      "  lstsq=np.linalg.lstsq(fmtrain,ttrain)\n"
     ]
    }
   ],
   "source": [
    "lstsq=np.linalg.lstsq(fmtrain,ttrain)"
   ]
  },
  {
   "cell_type": "code",
   "execution_count": 141,
   "metadata": {},
   "outputs": [
    {
     "data": {
      "text/plain": [
       "array([[-3.66728932],\n",
       "       [ 5.49140589],\n",
       "       [-0.520513  ],\n",
       "       [-0.64840682],\n",
       "       [19.79531256],\n",
       "       [11.57429046],\n",
       "       [-2.59051004],\n",
       "       [13.94122135]])"
      ]
     },
     "execution_count": 141,
     "metadata": {},
     "output_type": "execute_result"
    }
   ],
   "source": [
    "lstsq=lstsq[0]\n",
    "lstsq"
   ]
  },
  {
   "cell_type": "code",
   "execution_count": 142,
   "metadata": {},
   "outputs": [
    {
     "data": {
      "text/plain": [
       "103.34330865150459"
      ]
     },
     "execution_count": 142,
     "metadata": {},
     "output_type": "execute_result"
    }
   ],
   "source": [
    "np.linalg.norm(fmtrain@lstsq-ttrain)"
   ]
  },
  {
   "cell_type": "code",
   "execution_count": 143,
   "metadata": {},
   "outputs": [
    {
     "data": {
      "text/plain": [
       "95.39380696842922"
      ]
     },
     "execution_count": 143,
     "metadata": {},
     "output_type": "execute_result"
    }
   ],
   "source": [
    "np.linalg.norm(fmtest@lstsq-ttest)"
   ]
  },
  {
   "cell_type": "code",
   "execution_count": 144,
   "metadata": {},
   "outputs": [
    {
     "data": {
      "text/plain": [
       "11.07956565968892"
      ]
     },
     "execution_count": 144,
     "metadata": {},
     "output_type": "execute_result"
    }
   ],
   "source": [
    "RMSElosstrain=np.sqrt(np.linalg.norm(fmtrain@lstsq-ttrain)**2/fmtrain.shape[0])\n",
    "RMSElosstrain"
   ]
  },
  {
   "cell_type": "code",
   "execution_count": 146,
   "metadata": {},
   "outputs": [
    {
     "data": {
      "text/plain": [
       "14.719583980865776"
      ]
     },
     "execution_count": 146,
     "metadata": {},
     "output_type": "execute_result"
    }
   ],
   "source": [
    "RMSElosstest=np.sqrt(np.linalg.norm(fmtest@lstsq-ttest)**2/fmtest.shape[0])\n",
    "RMSElosstest"
   ]
  },
  {
   "cell_type": "code",
   "execution_count": 147,
   "metadata": {},
   "outputs": [
    {
     "data": {
      "text/plain": [
       "21.417474849193813"
      ]
     },
     "execution_count": 147,
     "metadata": {},
     "output_type": "execute_result"
    }
   ],
   "source": [
    "#mean(for comparison) ... RMSE loss is lower\n",
    "np.mean(ttrain)"
   ]
  },
  {
   "cell_type": "code",
   "execution_count": 148,
   "metadata": {},
   "outputs": [
    {
     "data": {
      "text/plain": [
       "25.781127164836622"
      ]
     },
     "execution_count": 148,
     "metadata": {},
     "output_type": "execute_result"
    }
   ],
   "source": [
    "np.mean(ttest)"
   ]
  },
  {
   "cell_type": "code",
   "execution_count": 149,
   "metadata": {},
   "outputs": [],
   "source": [
    "preds=[]\n",
    "for i in range(len(ttrain)):\n",
    "    preds.append((fmtrain[i,:]@lstsq).astype(float))"
   ]
  },
  {
   "cell_type": "code",
   "execution_count": 150,
   "metadata": {},
   "outputs": [],
   "source": [
    "exes=np.arange(0,len(ttrain),1)"
   ]
  },
  {
   "cell_type": "code",
   "execution_count": 151,
   "metadata": {},
   "outputs": [
    {
     "data": {
      "text/plain": [
       "Text(0.5, 1.0, 'Training set predictions (blue) vs. observations (red)')"
      ]
     },
     "execution_count": 151,
     "metadata": {},
     "output_type": "execute_result"
    },
    {
     "data": {
      "image/png": "[encoded data removed]",
      "text/plain": [
       "<Figure size 432x288 with 1 Axes>"
      ]
     },
     "metadata": {
      "needs_background": "light"
     },
     "output_type": "display_data"
    }
   ],
   "source": [
    "plt.figure\n",
    "plt.plot(exes,preds,'b-')\n",
    "plt.plot(exes,ttrain,'r-')\n",
    "plt.vlines(np.sum(fmtrain[:,0]<68/118),0,60) #vertical line represents split between 'Early' and 'Late' data\n",
    "plt.title('Training set predictions (blue) vs. observations (red)')\n",
    "#Note the bias remains fairly high wrt to the outliers indicating that the amount of overtraining is probably not too high"
   ]
  },
  {
   "cell_type": "code",
   "execution_count": 152,
   "metadata": {},
   "outputs": [],
   "source": [
    "preds=[]\n",
    "for i in range(len(ttest)):\n",
    "    preds.append((fmtest[i,:]@lstsq).astype(float))"
   ]
  },
  {
   "cell_type": "code",
   "execution_count": 153,
   "metadata": {},
   "outputs": [
    {
     "data": {
      "text/plain": [
       "Text(0.5, 1.0, 'Test set predictions (blue) vs. observations (red)')"
      ]
     },
     "execution_count": 153,
     "metadata": {},
     "output_type": "execute_result"
    },
    {
     "data": {
      "image/png": "[encoded data removed]",
      "text/plain": [
       "<Figure size 432x288 with 1 Axes>"
      ]
     },
     "metadata": {
      "needs_background": "light"
     },
     "output_type": "display_data"
    }
   ],
   "source": [
    "plt.figure\n",
    "plt.plot(exes[:len(ttest)],preds,'b-') #40=len(ttest)\n",
    "plt.plot(exes[:len(ttest)],ttest,'r-')\n",
    "plt.vlines(np.sum(fmtest[:,0]<68/118),0,60) #vertical line represents split between 'Early' and 'Late' data\n",
    "plt.title('Test set predictions (blue) vs. observations (red)')"
   ]
  },
  {
   "cell_type": "code",
   "execution_count": 154,
   "metadata": {},
   "outputs": [
    {
     "name": "stderr",
     "output_type": "stream",
     "text": [
      "<ipython-input-154-210f8c27211e>:7: FutureWarning: `rcond` parameter will change to the default of machine precision times ``max(M, N)`` where M and N are the input matrix dimensions.\n",
      "To use the future default and silence this warning we advise to pass `rcond=None`, to keep using the old, explicitly pass `rcond=-1`.\n",
      "  coeff=np.linalg.lstsq(fmtrainaug,ttrainaug)[0] #again taking advantage of NumPy's numerically stable algorithm\n"
     ]
    }
   ],
   "source": [
    "#Ridge regression is a known means of dealing with multicollinearity. Can it improve our results here?\n",
    "ridgeparams=[0,.001,.01,.1,.25,.333,.5,.75,1,2]\n",
    "ttrainaug=np.vstack((ttrain,np.zeros(8).reshape(8,1))) #8=7 features plus an intercept term\n",
    "RMSEs=[]\n",
    "for k in ridgeparams:\n",
    "    fmtrainaug=np.vstack((fmtrain,np.sqrt(k)*np.identity(8)))\n",
    "    coeff=np.linalg.lstsq(fmtrainaug,ttrainaug)[0] #again taking advantage of NumPy's numerically stable algorithm\n",
    "    RMSElosstest=np.sqrt(np.linalg.norm(fmtest@coeff-ttest)**2/fmtest.shape[0]) \n",
    "    RMSEs.append(RMSElosstest)"
   ]
  },
  {
   "cell_type": "code",
   "execution_count": 155,
   "metadata": {},
   "outputs": [
    {
     "data": {
      "text/plain": [
       "[14.71958398086577,\n",
       " 14.719699599938322,\n",
       " 14.720740033092452,\n",
       " 14.731139834074584,\n",
       " 14.748516618547479,\n",
       " 14.758179901694904,\n",
       " 14.777751394581589,\n",
       " 14.807372900952053,\n",
       " 14.837333876694967,\n",
       " 14.95918364880733]"
      ]
     },
     "execution_count": 155,
     "metadata": {},
     "output_type": "execute_result"
    }
   ],
   "source": [
    "RMSEs #We get the lowest RMSE on the test set with no L2-regularization penalty (note that using a different training-test split\n",
    "    #produced different results). "
   ]
  },
  {
   "cell_type": "code",
   "execution_count": 156,
   "metadata": {},
   "outputs": [],
   "source": [
    "#Compare our best results (RMSE=14.72 on the test set) to a baseline that minimizes RMSE by predicting the mean regardless of\n",
    "#the feature data suggests the linear model gives about a 17% RMSE reduction vs. the baseline."
   ]
  },
  {
   "cell_type": "code",
   "execution_count": 157,
   "metadata": {},
   "outputs": [],
   "source": [
    "pred=np.mean(ttest)"
   ]
  },
  {
   "cell_type": "code",
   "execution_count": 158,
   "metadata": {},
   "outputs": [
    {
     "data": {
      "text/plain": [
       "17.665916838754608"
      ]
     },
     "execution_count": 158,
     "metadata": {},
     "output_type": "execute_result"
    }
   ],
   "source": [
    "np.sqrt(((np.linalg.norm(ttest-pred))**2)/len(ttest))"
   ]
  },
  {
   "cell_type": "code",
   "execution_count": 159,
   "metadata": {},
   "outputs": [
    {
     "data": {
      "text/plain": [
       "36.201544938366546"
      ]
     },
     "execution_count": 159,
     "metadata": {},
     "output_type": "execute_result"
    }
   ],
   "source": [
    "np.max(np.abs(ttest-fmtest@lstsq)) #maximum absolute deviation"
   ]
  },
  {
   "cell_type": "code",
   "execution_count": 160,
   "metadata": {},
   "outputs": [],
   "source": [
    "#Although there are some gross errors in the estimation, linear regression using the features used here provides a  \n",
    "#marginal improvement over baseline suggesting some predictive value."
   ]
  },
  {
   "cell_type": "code",
   "execution_count": 161,
   "metadata": {},
   "outputs": [],
   "source": [
    "#Since all the input data was standardized in the [0,1] range, the coefficients for linear regression can (with caution) be \n",
    "#interpreted as measures of the relative importance of the data for predicting clemency."
   ]
  },
  {
   "cell_type": "code",
   "execution_count": 162,
   "metadata": {},
   "outputs": [
    {
     "data": {
      "text/plain": [
       "array([[-3.66728932],\n",
       "       [ 5.49140589],\n",
       "       [-0.520513  ],\n",
       "       [-0.64840682],\n",
       "       [19.79531256],\n",
       "       [11.57429046],\n",
       "       [-2.59051004],\n",
       "       [13.94122135]])"
      ]
     },
     "execution_count": 162,
     "metadata": {},
     "output_type": "execute_result"
    }
   ],
   "source": [
    "lstsq"
   ]
  },
  {
   "cell_type": "code",
   "execution_count": 163,
   "metadata": {},
   "outputs": [],
   "source": [
    "#It seems clemency was considerably more likely to be granted in fiscal years corresponding to presidential elections; that Democrats\n",
    "#were more likely to grant clemency, especially in the early years; and that presidents of\n",
    "#both parties were much more likely to grant clemency prior to 1967."
   ]
  },
  {
   "cell_type": "code",
   "execution_count": 164,
   "metadata": {},
   "outputs": [],
   "source": [
    "#What if we want to consider a different target variable: the percentage of petitions granted that were pardons?"
   ]
  },
  {
   "cell_type": "code",
   "execution_count": 165,
   "metadata": {},
   "outputs": [],
   "source": [
    "pctpardons1=p1['Pardons']/p1['Petitions Granted']"
   ]
  },
  {
   "cell_type": "code",
   "execution_count": 166,
   "metadata": {},
   "outputs": [],
   "source": [
    "pctpardons2=p2['Pardons']/p2['Petitions Granted']"
   ]
  },
  {
   "cell_type": "code",
   "execution_count": 167,
   "metadata": {},
   "outputs": [],
   "source": [
    "#Some of the values are NaN because there were no petitions granted (pardons or otherwise) in that particular year. Imputing the\n",
    "#mean gives an agnostic approach to whether any hypothetical petition that was granted would have been a pardon. "
   ]
  },
  {
   "cell_type": "code",
   "execution_count": 168,
   "metadata": {},
   "outputs": [],
   "source": [
    "pctpardons1=pctpardons1.replace(np.nan,np.mean(pctpardons1))\n",
    "pctpardons2=pctpardons2.replace(np.nan,np.mean(pctpardons2))"
   ]
  },
  {
   "cell_type": "code",
   "execution_count": 169,
   "metadata": {},
   "outputs": [],
   "source": [
    "pctpardons1=100*pctpardons1"
   ]
  },
  {
   "cell_type": "code",
   "execution_count": 170,
   "metadata": {},
   "outputs": [],
   "source": [
    "pctpardons2=100*pctpardons2"
   ]
  },
  {
   "cell_type": "code",
   "execution_count": 171,
   "metadata": {},
   "outputs": [],
   "source": [
    "target=np.vstack((pctpardons1.to_numpy().reshape(71,1),pctpardons2.to_numpy().reshape(58,1)))"
   ]
  },
  {
   "cell_type": "code",
   "execution_count": 172,
   "metadata": {},
   "outputs": [
    {
     "data": {
      "text/plain": [
       "(129, 1)"
      ]
     },
     "execution_count": 172,
     "metadata": {},
     "output_type": "execute_result"
    }
   ],
   "source": [
    "target.shape"
   ]
  },
  {
   "cell_type": "code",
   "execution_count": 173,
   "metadata": {},
   "outputs": [],
   "source": [
    "#Perhaps a new date split is warranted"
   ]
  },
  {
   "cell_type": "code",
   "execution_count": 174,
   "metadata": {},
   "outputs": [],
   "source": [
    "STDsums=[]\n",
    "split=0\n",
    "while split<117:\n",
    "    subset1=target[X['Fiscal Year']<split+1900.5]\n",
    "    subset2=target[X['Fiscal Year']>split+1900.5]\n",
    "    STDsums.append(np.std(subset1)*np.size(subset1)/129+np.std(subset2)*np.size(subset2)/129)\n",
    "    split+=1"
   ]
  },
  {
   "cell_type": "code",
   "execution_count": 175,
   "metadata": {},
   "outputs": [
    {
     "data": {
      "text/plain": [
       "38"
      ]
     },
     "execution_count": 175,
     "metadata": {},
     "output_type": "execute_result"
    }
   ],
   "source": [
    "np.argmin(STDsums)"
   ]
  },
  {
   "cell_type": "code",
   "execution_count": 176,
   "metadata": {},
   "outputs": [],
   "source": [
    "#In fact we find a better split at 1938"
   ]
  },
  {
   "cell_type": "code",
   "execution_count": 177,
   "metadata": {},
   "outputs": [
    {
     "data": {
      "text/plain": [
       "23.43581851954986"
      ]
     },
     "execution_count": 177,
     "metadata": {},
     "output_type": "execute_result"
    }
   ],
   "source": [
    "np.std(target)"
   ]
  },
  {
   "cell_type": "code",
   "execution_count": 178,
   "metadata": {},
   "outputs": [
    {
     "data": {
      "text/plain": [
       "11.524745361482188"
      ]
     },
     "execution_count": 178,
     "metadata": {},
     "output_type": "execute_result"
    }
   ],
   "source": [
    "np.std(target[X['Fiscal Year']<1938.5])"
   ]
  },
  {
   "cell_type": "code",
   "execution_count": 179,
   "metadata": {},
   "outputs": [
    {
     "data": {
      "text/plain": [
       "18.92924128230686"
      ]
     },
     "execution_count": 179,
     "metadata": {},
     "output_type": "execute_result"
    }
   ],
   "source": [
    "np.std(target[X['Fiscal Year']>1938.5])"
   ]
  },
  {
   "cell_type": "code",
   "execution_count": 180,
   "metadata": {},
   "outputs": [],
   "source": [
    "#Again checking whether a further split seems desirable"
   ]
  },
  {
   "cell_type": "code",
   "execution_count": 181,
   "metadata": {},
   "outputs": [],
   "source": [
    "newtarget=target[X['Fiscal Year']>1938.5]\n",
    "newX=X[X['Fiscal Year']>1938.5]"
   ]
  },
  {
   "cell_type": "code",
   "execution_count": 182,
   "metadata": {},
   "outputs": [
    {
     "name": "stderr",
     "output_type": "stream",
     "text": [
      "C:\\Users\\User\\anaconda3\\lib\\site-packages\\numpy\\core\\_methods.py:216: RuntimeWarning: Degrees of freedom <= 0 for slice\n",
      "  ret = _var(a, axis=axis, dtype=dtype, out=out, ddof=ddof,\n",
      "C:\\Users\\User\\anaconda3\\lib\\site-packages\\numpy\\core\\_methods.py:185: RuntimeWarning: invalid value encountered in true_divide\n",
      "  arrmean = um.true_divide(\n",
      "C:\\Users\\User\\anaconda3\\lib\\site-packages\\numpy\\core\\_methods.py:209: RuntimeWarning: invalid value encountered in double_scalars\n",
      "  ret = ret.dtype.type(ret / rcount)\n"
     ]
    }
   ],
   "source": [
    "STDsums=[]\n",
    "split=0\n",
    "while split<79:\n",
    "    subset1=newtarget[newX['Fiscal Year']<split+1938.5]\n",
    "    subset2=newtarget[newX['Fiscal Year']>split+1938.5]\n",
    "    STDsums.append(np.std(subset1)*np.size(subset1)/np.size(newtarget)+np.std(subset2)*np.size(subset2)/np.size(newtarget))\n",
    "    split+=1"
   ]
  },
  {
   "cell_type": "code",
   "execution_count": 183,
   "metadata": {},
   "outputs": [
    {
     "data": {
      "text/plain": [
       "0"
      ]
     },
     "execution_count": 183,
     "metadata": {},
     "output_type": "execute_result"
    }
   ],
   "source": [
    "np.argmin(STDsums)"
   ]
  },
  {
   "cell_type": "code",
   "execution_count": 184,
   "metadata": {},
   "outputs": [
    {
     "data": {
      "text/plain": [
       "<matplotlib.legend.Legend at 0x1d1370b8280>"
      ]
     },
     "execution_count": 184,
     "metadata": {},
     "output_type": "execute_result"
    },
    {
     "data": {
      "image/png": "[encoded data removed]",
      "text/plain": [
       "<Figure size 432x288 with 1 Axes>"
      ]
     },
     "metadata": {
      "needs_background": "light"
     },
     "output_type": "display_data"
    }
   ],
   "source": [
    "plt.scatter(X.loc[X['Dem']]['Fiscal Year'],target[X['Dem']==True],c='b',label='Dems')\n",
    "plt.scatter(X.loc[X['Dem']==False]['Fiscal Year'],target[X['Dem']==False],c='r',label='Reps')\n",
    "plt.vlines(1938.5,0,100) #splitting into 'early' and 'late' data\n",
    "plt.legend(loc='lower left')"
   ]
  },
  {
   "cell_type": "code",
   "execution_count": 185,
   "metadata": {},
   "outputs": [],
   "source": [
    "#It seems to make sense (and is easy) to use the same 4-way classification scheme as before, just with a different year for the \n",
    "#splitting point"
   ]
  },
  {
   "cell_type": "code",
   "execution_count": 186,
   "metadata": {},
   "outputs": [],
   "source": [
    "X['Early']=X['Fiscal Year']<1938.5"
   ]
  },
  {
   "cell_type": "code",
   "execution_count": 187,
   "metadata": {},
   "outputs": [],
   "source": [
    "X['EarlyDem']=X['Dem'] & X['Early']\n",
    "X['LateRep']=(X['Dem'] | X['Early'])==False\n",
    "X['EarlyRep']=X['Early'] > X['Dem']\n",
    "X['LateDem']=X['Dem'] > X['Early']"
   ]
  },
  {
   "cell_type": "code",
   "execution_count": 188,
   "metadata": {},
   "outputs": [
    {
     "data": {
      "text/html": [
       "<div>\n",
       "<style scoped>\n",
       "    .dataframe tbody tr th:only-of-type {\n",
       "        vertical-align: middle;\n",
       "    }\n",
       "\n",
       "    .dataframe tbody tr th {\n",
       "        vertical-align: top;\n",
       "    }\n",
       "\n",
       "    .dataframe thead th {\n",
       "        text-align: right;\n",
       "    }\n",
       "</style>\n",
       "<table border=\"1\" class=\"dataframe\">\n",
       "  <thead>\n",
       "    <tr style=\"text-align: right;\">\n",
       "      <th></th>\n",
       "      <th>Fiscal Year</th>\n",
       "      <th>%Granted</th>\n",
       "      <th>Early</th>\n",
       "      <th>y0</th>\n",
       "      <th>y1</th>\n",
       "      <th>y2</th>\n",
       "      <th>y3</th>\n",
       "      <th>President</th>\n",
       "      <th>Dem</th>\n",
       "      <th>EarlyDem</th>\n",
       "      <th>LateRep</th>\n",
       "      <th>EarlyRep</th>\n",
       "      <th>LateDem</th>\n",
       "    </tr>\n",
       "  </thead>\n",
       "  <tbody>\n",
       "    <tr>\n",
       "      <th>35</th>\n",
       "      <td>1935</td>\n",
       "      <td>24.840256</td>\n",
       "      <td>True</td>\n",
       "      <td>False</td>\n",
       "      <td>False</td>\n",
       "      <td>False</td>\n",
       "      <td>True</td>\n",
       "      <td>Franklin D. Roosevelt</td>\n",
       "      <td>True</td>\n",
       "      <td>True</td>\n",
       "      <td>False</td>\n",
       "      <td>False</td>\n",
       "      <td>False</td>\n",
       "    </tr>\n",
       "    <tr>\n",
       "      <th>36</th>\n",
       "      <td>1936</td>\n",
       "      <td>33.333333</td>\n",
       "      <td>True</td>\n",
       "      <td>True</td>\n",
       "      <td>False</td>\n",
       "      <td>False</td>\n",
       "      <td>False</td>\n",
       "      <td>Franklin D. Roosevelt</td>\n",
       "      <td>True</td>\n",
       "      <td>True</td>\n",
       "      <td>False</td>\n",
       "      <td>False</td>\n",
       "      <td>False</td>\n",
       "    </tr>\n",
       "    <tr>\n",
       "      <th>37</th>\n",
       "      <td>1937</td>\n",
       "      <td>26.919519</td>\n",
       "      <td>True</td>\n",
       "      <td>False</td>\n",
       "      <td>True</td>\n",
       "      <td>False</td>\n",
       "      <td>False</td>\n",
       "      <td>Franklin D. Roosevelt</td>\n",
       "      <td>True</td>\n",
       "      <td>True</td>\n",
       "      <td>False</td>\n",
       "      <td>False</td>\n",
       "      <td>False</td>\n",
       "    </tr>\n",
       "    <tr>\n",
       "      <th>38</th>\n",
       "      <td>1938</td>\n",
       "      <td>26.157407</td>\n",
       "      <td>True</td>\n",
       "      <td>False</td>\n",
       "      <td>False</td>\n",
       "      <td>True</td>\n",
       "      <td>False</td>\n",
       "      <td>Franklin D. Roosevelt</td>\n",
       "      <td>True</td>\n",
       "      <td>True</td>\n",
       "      <td>False</td>\n",
       "      <td>False</td>\n",
       "      <td>False</td>\n",
       "    </tr>\n",
       "    <tr>\n",
       "      <th>39</th>\n",
       "      <td>1939</td>\n",
       "      <td>21.942446</td>\n",
       "      <td>False</td>\n",
       "      <td>False</td>\n",
       "      <td>False</td>\n",
       "      <td>False</td>\n",
       "      <td>True</td>\n",
       "      <td>Franklin D. Roosevelt</td>\n",
       "      <td>True</td>\n",
       "      <td>False</td>\n",
       "      <td>False</td>\n",
       "      <td>False</td>\n",
       "      <td>True</td>\n",
       "    </tr>\n",
       "    <tr>\n",
       "      <th>40</th>\n",
       "      <td>1940</td>\n",
       "      <td>25.910596</td>\n",
       "      <td>False</td>\n",
       "      <td>True</td>\n",
       "      <td>False</td>\n",
       "      <td>False</td>\n",
       "      <td>False</td>\n",
       "      <td>Franklin D. Roosevelt</td>\n",
       "      <td>True</td>\n",
       "      <td>False</td>\n",
       "      <td>False</td>\n",
       "      <td>False</td>\n",
       "      <td>True</td>\n",
       "    </tr>\n",
       "    <tr>\n",
       "      <th>41</th>\n",
       "      <td>1941</td>\n",
       "      <td>17.656904</td>\n",
       "      <td>False</td>\n",
       "      <td>False</td>\n",
       "      <td>True</td>\n",
       "      <td>False</td>\n",
       "      <td>False</td>\n",
       "      <td>Franklin D. Roosevelt</td>\n",
       "      <td>True</td>\n",
       "      <td>False</td>\n",
       "      <td>False</td>\n",
       "      <td>False</td>\n",
       "      <td>True</td>\n",
       "    </tr>\n",
       "    <tr>\n",
       "      <th>42</th>\n",
       "      <td>1942</td>\n",
       "      <td>36.566440</td>\n",
       "      <td>False</td>\n",
       "      <td>False</td>\n",
       "      <td>False</td>\n",
       "      <td>True</td>\n",
       "      <td>False</td>\n",
       "      <td>Franklin D. Roosevelt</td>\n",
       "      <td>True</td>\n",
       "      <td>False</td>\n",
       "      <td>False</td>\n",
       "      <td>False</td>\n",
       "      <td>True</td>\n",
       "    </tr>\n",
       "    <tr>\n",
       "      <th>43</th>\n",
       "      <td>1943</td>\n",
       "      <td>30.895009</td>\n",
       "      <td>False</td>\n",
       "      <td>False</td>\n",
       "      <td>False</td>\n",
       "      <td>False</td>\n",
       "      <td>True</td>\n",
       "      <td>Franklin D. Roosevelt</td>\n",
       "      <td>True</td>\n",
       "      <td>False</td>\n",
       "      <td>False</td>\n",
       "      <td>False</td>\n",
       "      <td>True</td>\n",
       "    </tr>\n",
       "    <tr>\n",
       "      <th>44</th>\n",
       "      <td>1944</td>\n",
       "      <td>40.733945</td>\n",
       "      <td>False</td>\n",
       "      <td>True</td>\n",
       "      <td>False</td>\n",
       "      <td>False</td>\n",
       "      <td>False</td>\n",
       "      <td>Franklin D. Roosevelt</td>\n",
       "      <td>True</td>\n",
       "      <td>False</td>\n",
       "      <td>False</td>\n",
       "      <td>False</td>\n",
       "      <td>True</td>\n",
       "    </tr>\n",
       "  </tbody>\n",
       "</table>\n",
       "</div>"
      ],
      "text/plain": [
       "    Fiscal Year   %Granted  Early     y0     y1     y2     y3  \\\n",
       "35         1935  24.840256   True  False  False  False   True   \n",
       "36         1936  33.333333   True   True  False  False  False   \n",
       "37         1937  26.919519   True  False   True  False  False   \n",
       "38         1938  26.157407   True  False  False   True  False   \n",
       "39         1939  21.942446  False  False  False  False   True   \n",
       "40         1940  25.910596  False   True  False  False  False   \n",
       "41         1941  17.656904  False  False   True  False  False   \n",
       "42         1942  36.566440  False  False  False   True  False   \n",
       "43         1943  30.895009  False  False  False  False   True   \n",
       "44         1944  40.733945  False   True  False  False  False   \n",
       "\n",
       "                President   Dem  EarlyDem  LateRep  EarlyRep  LateDem  \n",
       "35  Franklin D. Roosevelt  True      True    False     False    False  \n",
       "36  Franklin D. Roosevelt  True      True    False     False    False  \n",
       "37  Franklin D. Roosevelt  True      True    False     False    False  \n",
       "38  Franklin D. Roosevelt  True      True    False     False    False  \n",
       "39  Franklin D. Roosevelt  True     False    False     False     True  \n",
       "40  Franklin D. Roosevelt  True     False    False     False     True  \n",
       "41  Franklin D. Roosevelt  True     False    False     False     True  \n",
       "42  Franklin D. Roosevelt  True     False    False     False     True  \n",
       "43  Franklin D. Roosevelt  True     False    False     False     True  \n",
       "44  Franklin D. Roosevelt  True     False    False     False     True  "
      ]
     },
     "execution_count": 188,
     "metadata": {},
     "output_type": "execute_result"
    }
   ],
   "source": [
    "X[35:45]"
   ]
  },
  {
   "cell_type": "code",
   "execution_count": 189,
   "metadata": {},
   "outputs": [
    {
     "data": {
      "text/html": [
       "<div>\n",
       "<style scoped>\n",
       "    .dataframe tbody tr th:only-of-type {\n",
       "        vertical-align: middle;\n",
       "    }\n",
       "\n",
       "    .dataframe tbody tr th {\n",
       "        vertical-align: top;\n",
       "    }\n",
       "\n",
       "    .dataframe thead th {\n",
       "        text-align: right;\n",
       "    }\n",
       "</style>\n",
       "<table border=\"1\" class=\"dataframe\">\n",
       "  <thead>\n",
       "    <tr style=\"text-align: right;\">\n",
       "      <th></th>\n",
       "      <th>Fiscal Year</th>\n",
       "      <th>%Granted</th>\n",
       "      <th>Early</th>\n",
       "      <th>y0</th>\n",
       "      <th>y1</th>\n",
       "      <th>y2</th>\n",
       "      <th>y3</th>\n",
       "      <th>President</th>\n",
       "      <th>Dem</th>\n",
       "      <th>EarlyDem</th>\n",
       "      <th>LateRep</th>\n",
       "      <th>EarlyRep</th>\n",
       "      <th>LateDem</th>\n",
       "    </tr>\n",
       "  </thead>\n",
       "  <tbody>\n",
       "    <tr>\n",
       "      <th>70</th>\n",
       "      <td>1966</td>\n",
       "      <td>38.001708</td>\n",
       "      <td>False</td>\n",
       "      <td>False</td>\n",
       "      <td>False</td>\n",
       "      <td>True</td>\n",
       "      <td>False</td>\n",
       "      <td>Lyndon B. Johnson</td>\n",
       "      <td>True</td>\n",
       "      <td>False</td>\n",
       "      <td>False</td>\n",
       "      <td>False</td>\n",
       "      <td>True</td>\n",
       "    </tr>\n",
       "    <tr>\n",
       "      <th>71</th>\n",
       "      <td>1967</td>\n",
       "      <td>32.026144</td>\n",
       "      <td>False</td>\n",
       "      <td>False</td>\n",
       "      <td>False</td>\n",
       "      <td>False</td>\n",
       "      <td>True</td>\n",
       "      <td>Lyndon B. Johnson</td>\n",
       "      <td>True</td>\n",
       "      <td>False</td>\n",
       "      <td>False</td>\n",
       "      <td>False</td>\n",
       "      <td>True</td>\n",
       "    </tr>\n",
       "    <tr>\n",
       "      <th>72</th>\n",
       "      <td>1968</td>\n",
       "      <td>3.712297</td>\n",
       "      <td>False</td>\n",
       "      <td>True</td>\n",
       "      <td>False</td>\n",
       "      <td>False</td>\n",
       "      <td>False</td>\n",
       "      <td>Lyndon B. Johnson</td>\n",
       "      <td>True</td>\n",
       "      <td>False</td>\n",
       "      <td>False</td>\n",
       "      <td>False</td>\n",
       "      <td>True</td>\n",
       "    </tr>\n",
       "    <tr>\n",
       "      <th>73</th>\n",
       "      <td>1969</td>\n",
       "      <td>0.000000</td>\n",
       "      <td>False</td>\n",
       "      <td>False</td>\n",
       "      <td>True</td>\n",
       "      <td>False</td>\n",
       "      <td>False</td>\n",
       "      <td>Lyndon B. Johnson</td>\n",
       "      <td>True</td>\n",
       "      <td>False</td>\n",
       "      <td>False</td>\n",
       "      <td>False</td>\n",
       "      <td>True</td>\n",
       "    </tr>\n",
       "    <tr>\n",
       "      <th>74</th>\n",
       "      <td>1969</td>\n",
       "      <td>0.000000</td>\n",
       "      <td>False</td>\n",
       "      <td>False</td>\n",
       "      <td>True</td>\n",
       "      <td>False</td>\n",
       "      <td>False</td>\n",
       "      <td>Lyndon B. Johnson</td>\n",
       "      <td>True</td>\n",
       "      <td>False</td>\n",
       "      <td>False</td>\n",
       "      <td>False</td>\n",
       "      <td>True</td>\n",
       "    </tr>\n",
       "    <tr>\n",
       "      <th>75</th>\n",
       "      <td>1970</td>\n",
       "      <td>0.000000</td>\n",
       "      <td>False</td>\n",
       "      <td>False</td>\n",
       "      <td>False</td>\n",
       "      <td>True</td>\n",
       "      <td>False</td>\n",
       "      <td>Lyndon B. Johnson</td>\n",
       "      <td>True</td>\n",
       "      <td>False</td>\n",
       "      <td>False</td>\n",
       "      <td>False</td>\n",
       "      <td>True</td>\n",
       "    </tr>\n",
       "    <tr>\n",
       "      <th>76</th>\n",
       "      <td>1971</td>\n",
       "      <td>0.000000</td>\n",
       "      <td>False</td>\n",
       "      <td>False</td>\n",
       "      <td>False</td>\n",
       "      <td>False</td>\n",
       "      <td>True</td>\n",
       "      <td>Lyndon B. Johnson</td>\n",
       "      <td>True</td>\n",
       "      <td>False</td>\n",
       "      <td>False</td>\n",
       "      <td>False</td>\n",
       "      <td>True</td>\n",
       "    </tr>\n",
       "    <tr>\n",
       "      <th>77</th>\n",
       "      <td>1972</td>\n",
       "      <td>0.000000</td>\n",
       "      <td>False</td>\n",
       "      <td>True</td>\n",
       "      <td>False</td>\n",
       "      <td>False</td>\n",
       "      <td>False</td>\n",
       "      <td>Richard M. Nixon</td>\n",
       "      <td>False</td>\n",
       "      <td>False</td>\n",
       "      <td>True</td>\n",
       "      <td>False</td>\n",
       "      <td>False</td>\n",
       "    </tr>\n",
       "    <tr>\n",
       "      <th>78</th>\n",
       "      <td>1973</td>\n",
       "      <td>0.000000</td>\n",
       "      <td>False</td>\n",
       "      <td>False</td>\n",
       "      <td>True</td>\n",
       "      <td>False</td>\n",
       "      <td>False</td>\n",
       "      <td>Richard M. Nixon</td>\n",
       "      <td>False</td>\n",
       "      <td>False</td>\n",
       "      <td>True</td>\n",
       "      <td>False</td>\n",
       "      <td>False</td>\n",
       "    </tr>\n",
       "    <tr>\n",
       "      <th>79</th>\n",
       "      <td>1974</td>\n",
       "      <td>0.000000</td>\n",
       "      <td>False</td>\n",
       "      <td>False</td>\n",
       "      <td>False</td>\n",
       "      <td>True</td>\n",
       "      <td>False</td>\n",
       "      <td>Richard M. Nixon</td>\n",
       "      <td>False</td>\n",
       "      <td>False</td>\n",
       "      <td>True</td>\n",
       "      <td>False</td>\n",
       "      <td>False</td>\n",
       "    </tr>\n",
       "  </tbody>\n",
       "</table>\n",
       "</div>"
      ],
      "text/plain": [
       "    Fiscal Year   %Granted  Early     y0     y1     y2     y3  \\\n",
       "70         1966  38.001708  False  False  False   True  False   \n",
       "71         1967  32.026144  False  False  False  False   True   \n",
       "72         1968   3.712297  False   True  False  False  False   \n",
       "73         1969   0.000000  False  False   True  False  False   \n",
       "74         1969   0.000000  False  False   True  False  False   \n",
       "75         1970   0.000000  False  False  False   True  False   \n",
       "76         1971   0.000000  False  False  False  False   True   \n",
       "77         1972   0.000000  False   True  False  False  False   \n",
       "78         1973   0.000000  False  False   True  False  False   \n",
       "79         1974   0.000000  False  False  False   True  False   \n",
       "\n",
       "            President    Dem  EarlyDem  LateRep  EarlyRep  LateDem  \n",
       "70  Lyndon B. Johnson   True     False    False     False     True  \n",
       "71  Lyndon B. Johnson   True     False    False     False     True  \n",
       "72  Lyndon B. Johnson   True     False    False     False     True  \n",
       "73  Lyndon B. Johnson   True     False    False     False     True  \n",
       "74  Lyndon B. Johnson   True     False    False     False     True  \n",
       "75  Lyndon B. Johnson   True     False    False     False     True  \n",
       "76  Lyndon B. Johnson   True     False    False     False     True  \n",
       "77   Richard M. Nixon  False     False     True     False    False  \n",
       "78   Richard M. Nixon  False     False     True     False    False  \n",
       "79   Richard M. Nixon  False     False     True     False    False  "
      ]
     },
     "execution_count": 189,
     "metadata": {},
     "output_type": "execute_result"
    }
   ],
   "source": [
    "X[70:80]"
   ]
  },
  {
   "cell_type": "code",
   "execution_count": 190,
   "metadata": {},
   "outputs": [],
   "source": [
    "feature_matrix[:,4]=X['EarlyDem'].to_numpy().astype(int)\n",
    "feature_matrix[:,5]=X['EarlyRep'].to_numpy().astype(int)\n",
    "feature_matrix[:,6]=X['LateDem'].to_numpy().astype(int)"
   ]
  },
  {
   "cell_type": "code",
   "execution_count": 191,
   "metadata": {},
   "outputs": [
    {
     "name": "stdout",
     "output_type": "stream",
     "text": [
      "[[ 1.         -0.03103076]\n",
      " [-0.03103076  1.        ]]\n",
      "[[1.         0.07339082]\n",
      " [0.07339082 1.        ]]\n",
      "[[ 1.         -0.03282794]\n",
      " [-0.03282794  1.        ]]\n",
      "[[ 1.         -0.35457748]\n",
      " [-0.35457748  1.        ]]\n",
      "[[ 1.         -0.65868997]\n",
      " [-0.65868997  1.        ]]\n",
      "[[1.         0.30712455]\n",
      " [0.30712455 1.        ]]\n"
     ]
    }
   ],
   "source": [
    "i=1\n",
    "while i<7:\n",
    "    print(np.corrcoef(feature_matrix[:,0],feature_matrix[:,i]))\n",
    "    i=i+1"
   ]
  },
  {
   "cell_type": "code",
   "execution_count": 192,
   "metadata": {},
   "outputs": [],
   "source": [
    "#Again we see the expected high-magnitude correlations between the (standardized) fiscal year and the categorizations that include\n",
    "#early/late, with no correlation unacceptably high"
   ]
  },
  {
   "cell_type": "code",
   "execution_count": 193,
   "metadata": {},
   "outputs": [
    {
     "data": {
      "text/plain": [
       "12.305554992392862"
      ]
     },
     "execution_count": 193,
     "metadata": {},
     "output_type": "execute_result"
    }
   ],
   "source": [
    "np.linalg.cond(feature_matrix) #This matrix is also well-conditioned despite the mutual information in the columns and the\n",
    "                            #many similar rows"
   ]
  },
  {
   "cell_type": "code",
   "execution_count": 194,
   "metadata": {},
   "outputs": [],
   "source": [
    "u,s,v=np.linalg.svd(feature_matrix.T@feature_matrix) #checking for the tell-tale small singular values"
   ]
  },
  {
   "cell_type": "code",
   "execution_count": 195,
   "metadata": {},
   "outputs": [
    {
     "data": {
      "text/plain": [
       "array([220.30765987,  37.90887466,  35.37574061,  29.97081227,\n",
       "        18.3965374 ,  11.97968467,   6.48573004,   1.45488004])"
      ]
     },
     "execution_count": 195,
     "metadata": {},
     "output_type": "execute_result"
    }
   ],
   "source": [
    "s"
   ]
  },
  {
   "cell_type": "code",
   "execution_count": 196,
   "metadata": {},
   "outputs": [],
   "source": [
    "fmtrain=feature_matrix[randvec[:,0]<.7]\n",
    "fmtest=feature_matrix[randvec[:,0]>=.7]\n",
    "ttrain=target[randvec[:,0]<.7]\n",
    "ttest=target[randvec[:,0]>=.7]"
   ]
  },
  {
   "cell_type": "code",
   "execution_count": 197,
   "metadata": {},
   "outputs": [
    {
     "name": "stderr",
     "output_type": "stream",
     "text": [
      "<ipython-input-197-710f1491b121>:1: FutureWarning: `rcond` parameter will change to the default of machine precision times ``max(M, N)`` where M and N are the input matrix dimensions.\n",
      "To use the future default and silence this warning we advise to pass `rcond=None`, to keep using the old, explicitly pass `rcond=-1`.\n",
      "  lstsq=np.linalg.lstsq(fmtrain,ttrain)[0] #using the original feature matrix, with splitting point after 1938 rather than 1967\n"
     ]
    }
   ],
   "source": [
    "lstsq=np.linalg.lstsq(fmtrain,ttrain)[0] #using the original feature matrix, with splitting point after 1938 rather than 1967"
   ]
  },
  {
   "cell_type": "code",
   "execution_count": 198,
   "metadata": {},
   "outputs": [
    {
     "data": {
      "text/plain": [
       "103.05806227048362"
      ]
     },
     "execution_count": 198,
     "metadata": {},
     "output_type": "execute_result"
    }
   ],
   "source": [
    "np.linalg.norm(fmtrain@lstsq-ttrain)"
   ]
  },
  {
   "cell_type": "code",
   "execution_count": 199,
   "metadata": {},
   "outputs": [
    {
     "data": {
      "text/plain": [
       "152.80240909055223"
      ]
     },
     "execution_count": 199,
     "metadata": {},
     "output_type": "execute_result"
    }
   ],
   "source": [
    "np.linalg.norm(fmtest@lstsq-ttest)"
   ]
  },
  {
   "cell_type": "code",
   "execution_count": 200,
   "metadata": {},
   "outputs": [
    {
     "data": {
      "text/plain": [
       "11.04898403762795"
      ]
     },
     "execution_count": 200,
     "metadata": {},
     "output_type": "execute_result"
    }
   ],
   "source": [
    "RMSElosstrain=np.sqrt(np.linalg.norm(fmtrain@lstsq-ttrain)**2/fmtrain.shape[0])\n",
    "RMSElosstrain"
   ]
  },
  {
   "cell_type": "code",
   "execution_count": 201,
   "metadata": {},
   "outputs": [
    {
     "data": {
      "text/plain": [
       "23.577923604950215"
      ]
     },
     "execution_count": 201,
     "metadata": {},
     "output_type": "execute_result"
    }
   ],
   "source": [
    "RMSElosstest=np.sqrt(np.linalg.norm(fmtest@lstsq-ttest)**2/fmtest.shape[0])\n",
    "RMSElosstest"
   ]
  },
  {
   "cell_type": "code",
   "execution_count": 202,
   "metadata": {},
   "outputs": [
    {
     "name": "stderr",
     "output_type": "stream",
     "text": [
      "<ipython-input-202-e006c5db983f>:7: FutureWarning: `rcond` parameter will change to the default of machine precision times ``max(M, N)`` where M and N are the input matrix dimensions.\n",
      "To use the future default and silence this warning we advise to pass `rcond=None`, to keep using the old, explicitly pass `rcond=-1`.\n",
      "  coeff=np.linalg.lstsq(fmtrainaug,ttrainaug)[0] #again taking advantage of NumPy's numerically stable algorithm\n"
     ]
    }
   ],
   "source": [
    "#Trying out ridge regularization\n",
    "ridgeparams=[0,.001,.01,.1,.25,.333,.5,.75,1,2]\n",
    "ttrainaug=np.vstack((ttrain,np.zeros(8).reshape(8,1)))\n",
    "RMSEs=[]\n",
    "for k in ridgeparams:\n",
    "    fmtrainaug=np.vstack((fmtrain,np.sqrt(k)*np.identity(8)))\n",
    "    coeff=np.linalg.lstsq(fmtrainaug,ttrainaug)[0] #again taking advantage of NumPy's numerically stable algorithm\n",
    "    RMSElosstest=np.sqrt(np.linalg.norm(fmtest@coeff-ttest)/fmtest.shape[0]) \n",
    "    RMSEs.append(RMSElosstest)"
   ]
  },
  {
   "cell_type": "code",
   "execution_count": 203,
   "metadata": {},
   "outputs": [
    {
     "data": {
      "text/plain": [
       "[1.9073941903534508,\n",
       " 1.9074944657271073,\n",
       " 1.9083984318517968,\n",
       " 1.9174472897414236,\n",
       " 1.9317291728317214,\n",
       " 1.9389332901541176,\n",
       " 1.95179753550941,\n",
       " 1.9673916732726853,\n",
       " 1.979497192770017,\n",
       " 2.0077033203111574]"
      ]
     },
     "execution_count": 203,
     "metadata": {},
     "output_type": "execute_result"
    }
   ],
   "source": [
    "RMSEs"
   ]
  },
  {
   "cell_type": "code",
   "execution_count": 204,
   "metadata": {},
   "outputs": [],
   "source": [
    "#Again we see no advantage from L2 regularization."
   ]
  },
  {
   "cell_type": "code",
   "execution_count": 205,
   "metadata": {},
   "outputs": [],
   "source": [
    "#Best results (no regularization)\n",
    "preds=[]\n",
    "for i in range(len(ttrain)):\n",
    "    preds.append((fmtrain[i,:]@lstsq).astype(float))"
   ]
  },
  {
   "cell_type": "code",
   "execution_count": 206,
   "metadata": {},
   "outputs": [
    {
     "data": {
      "text/plain": [
       "Text(0.5, 1.0, 'Training set predictions (blue) vs. observations (red)')"
      ]
     },
     "execution_count": 206,
     "metadata": {},
     "output_type": "execute_result"
    },
    {
     "data": {
      "image/png": "[encoded data removed]",
      "text/plain": [
       "<Figure size 432x288 with 1 Axes>"
      ]
     },
     "metadata": {
      "needs_background": "light"
     },
     "output_type": "display_data"
    }
   ],
   "source": [
    "plt.figure\n",
    "plt.plot(exes,preds,'b-')\n",
    "plt.plot(exes,ttrain,'r-')\n",
    "plt.vlines(np.sum(fmtrain[:,0]<39/118),0,100) #vertical line represents split between 'Early' and 'Late' data\n",
    "plt.title('Training set predictions (blue) vs. observations (red)')"
   ]
  },
  {
   "cell_type": "code",
   "execution_count": 207,
   "metadata": {},
   "outputs": [],
   "source": [
    "preds=[]\n",
    "for i in range(len(ttest)):\n",
    "    preds.append((fmtest[i,:]@lstsq).astype(float))"
   ]
  },
  {
   "cell_type": "code",
   "execution_count": 209,
   "metadata": {},
   "outputs": [
    {
     "data": {
      "text/plain": [
       "Text(0.5, 1.0, 'Test set predictions (blue) vs. observations (red)')"
      ]
     },
     "execution_count": 209,
     "metadata": {},
     "output_type": "execute_result"
    },
    {
     "data": {
      "image/png": "[encoded data removed]",
      "text/plain": [
       "<Figure size 432x288 with 1 Axes>"
      ]
     },
     "metadata": {
      "needs_background": "light"
     },
     "output_type": "display_data"
    }
   ],
   "source": [
    "exes=exes[:len(ttest)]\n",
    "plt.figure\n",
    "plt.plot(exes,preds,'b-')\n",
    "plt.plot(exes,ttest,'r-')\n",
    "plt.vlines(np.sum(fmtrain[:,0]<39/118),0,100) #vertical line represents split between 'Early' and 'Late' data\n",
    "plt.title('Test set predictions (blue) vs. observations (red)')"
   ]
  },
  {
   "cell_type": "code",
   "execution_count": 210,
   "metadata": {},
   "outputs": [
    {
     "data": {
      "text/plain": [
       "26.123040254010817"
      ]
     },
     "execution_count": 210,
     "metadata": {},
     "output_type": "execute_result"
    }
   ],
   "source": [
    "RMSElosstest=np.sqrt(np.linalg.norm(fmtest@coeff-ttest)**2/fmtest.shape[0]) #RMSE using best linear model\n",
    "RMSElosstest"
   ]
  },
  {
   "cell_type": "code",
   "execution_count": 211,
   "metadata": {},
   "outputs": [
    {
     "data": {
      "text/plain": [
       "27.58674186198483"
      ]
     },
     "execution_count": 211,
     "metadata": {},
     "output_type": "execute_result"
    }
   ],
   "source": [
    "pred=np.mean(ttest) #baseline RMSE using mean\n",
    "np.sqrt(((np.linalg.norm(ttest-pred))**2)/len(ttest))"
   ]
  },
  {
   "cell_type": "code",
   "execution_count": 213,
   "metadata": {},
   "outputs": [],
   "source": [
    "#It seems we get about a 5% improvement using linear regression in this case."
   ]
  },
  {
   "cell_type": "code",
   "execution_count": 214,
   "metadata": {},
   "outputs": [
    {
     "data": {
      "text/plain": [
       "array([[-15.08291734],\n",
       "       [ -0.12431385],\n",
       "       [  2.48107957],\n",
       "       [  3.94062586],\n",
       "       [-51.65719046],\n",
       "       [-49.30439741],\n",
       "       [-10.03507587],\n",
       "       [102.78515885]])"
      ]
     },
     "execution_count": 214,
     "metadata": {},
     "output_type": "execute_result"
    }
   ],
   "source": [
    "lstsq"
   ]
  },
  {
   "cell_type": "code",
   "execution_count": 215,
   "metadata": {},
   "outputs": [],
   "source": [
    "#It appears that presidents before 1938 had a much higher ratio of other forms of clemency to pardons."
   ]
  }
 ],
 "metadata": {
  "kernelspec": {
   "display_name": "Python 3",
   "language": "python",
   "name": "python3"
  },
  "language_info": {
   "codemirror_mode": {
    "name": "ipython",
    "version": 3
   },
   "file_extension": ".py",
   "mimetype": "text/x-python",
   "name": "python",
   "nbconvert_exporter": "python",
   "pygments_lexer": "ipython3",
   "version": "3.8.3"
  }
 },
 "nbformat": 4,
 "nbformat_minor": 4
}
